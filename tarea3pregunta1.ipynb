{
 "cells": [
  {
   "cell_type": "markdown",
   "id": "77fcdea6",
   "metadata": {},
   "source": [
    "# Tarea N°3"
   ]
  },
  {
   "cell_type": "markdown",
   "id": "cf2885fa",
   "metadata": {},
   "source": [
    "### César Cerda Bollmann"
   ]
  },
  {
   "cell_type": "code",
   "execution_count": 1,
   "id": "e643551e",
   "metadata": {},
   "outputs": [
    {
     "name": "stderr",
     "output_type": "stream",
     "text": [
      "Installing package into ‘/srv/rlibs’\n",
      "(as ‘lib’ is unspecified)\n",
      "\n",
      "also installing the dependencies ‘generics’, ‘dplyr’, ‘tidyselect’\n",
      "\n",
      "\n",
      "Installing package into ‘/srv/rlibs’\n",
      "(as ‘lib’ is unspecified)\n",
      "\n",
      "also installing the dependencies ‘colorspace’, ‘farver’, ‘labeling’, ‘munsell’, ‘RColorBrewer’, ‘viridisLite’, ‘gtable’, ‘isoband’, ‘scales’\n",
      "\n",
      "\n",
      "Installing package into ‘/srv/rlibs’\n",
      "(as ‘lib’ is unspecified)\n",
      "\n"
     ]
    }
   ],
   "source": [
    "install.packages('tidyr')\n",
    "install.packages('ggplot2')\n",
    "install.packages('data.table')"
   ]
  },
  {
   "cell_type": "code",
   "execution_count": 2,
   "id": "ce19fe1c",
   "metadata": {},
   "outputs": [
    {
     "name": "stderr",
     "output_type": "stream",
     "text": [
      "\n",
      "Attaching package: ‘data.table’\n",
      "\n",
      "\n",
      "The following object is masked from ‘package:purrr’:\n",
      "\n",
      "    transpose\n",
      "\n",
      "\n"
     ]
    }
   ],
   "source": [
    "library(purrr)\n",
    "library(ggplot2)\n",
    "library(data.table)"
   ]
  },
  {
   "cell_type": "markdown",
   "id": "66fd172a-9048-4a20-b729-4f1e6a328756",
   "metadata": {},
   "source": [
    "## Pregunta N°1"
   ]
  },
  {
   "cell_type": "markdown",
   "id": "e4591f89",
   "metadata": {},
   "source": [
    "### a) Gráfico la función densidad"
   ]
  },
  {
   "cell_type": "code",
   "execution_count": 3,
   "id": "704532be-f1ac-448f-a8fd-4f6adf1ba714",
   "metadata": {},
   "outputs": [],
   "source": [
    "x=seq(-10,10,0.1)\n",
    "y=1:length(x)\n",
    "for (i in 1:length(x)) {\n",
    "    if (x[i]<0){\n",
    "        y[i]=0.5*exp(x[i])\n",
    "    } else if(x[i]>=0) {     \n",
    "        y[i]=0.5*exp(-x[i])\n",
    "    }\n",
    "}"
   ]
  },
  {
   "cell_type": "code",
   "execution_count": 4,
   "id": "1a2ddc2a-cc1d-453d-9b42-af7a4f3d7b70",
   "metadata": {},
   "outputs": [
    {
     "data": {
      "image/png": "[encoded data removed]",
      "text/plain": [
       "plot without title"
      ]
     },
     "metadata": {
      "image/png": {
       "height": 420,
       "width": 420
      }
     },
     "output_type": "display_data"
    }
   ],
   "source": [
    "plot(x,y,type='l')"
   ]
  },
  {
   "cell_type": "markdown",
   "id": "0b3e806f-7f1a-448d-92b4-977416120f22",
   "metadata": {},
   "source": [
    "### b)Gráfico de F(x)"
   ]
  },
  {
   "cell_type": "code",
   "execution_count": 6,
   "id": "97870a2d-fb38-49fa-a8bc-92ab02b09aa0",
   "metadata": {},
   "outputs": [],
   "source": [
    "X = seq(-10,10,0.1)\n",
    "F = 1:length(X)\n",
    "for (i in 1:length(X)){\n",
    "    if (X[i]<0){\n",
    "        F[i] = 0.5*exp(X[i])\n",
    "        }\n",
    "    if (X[i]>=0){\n",
    "        F[i]= 1- 0.5*exp(-X[i])\n",
    "        }\n",
    "    }"
   ]
  },
  {
   "cell_type": "code",
   "execution_count": 7,
   "id": "f75afba4-42f9-4942-83df-a1269f99b8b9",
   "metadata": {},
   "outputs": [
    {
     "data": {
      "image/png": "[encoded data removed]",
      "text/plain": [
       "plot without title"
      ]
     },
     "metadata": {
      "image/png": {
       "height": 420,
       "width": 420
      }
     },
     "output_type": "display_data"
    }
   ],
   "source": [
    "plot(X,F,type='l')"
   ]
  },
  {
   "cell_type": "code",
   "execution_count": 14,
   "id": "942cd799-3e8b-4d76-b9bd-71ab2aa368f0",
   "metadata": {},
   "outputs": [],
   "source": [
    "sample_uniform = runif(1000, 0, 1)"
   ]
  },
  {
   "cell_type": "code",
   "execution_count": 18,
   "id": "deb84f11-9e4d-4f03-9a7b-947cf8c58b39",
   "metadata": {},
   "outputs": [],
   "source": [
    "sample_F = 1:length(sample_uniform)\n",
    "for (i in 1:length(sample_uniform)){\n",
    "    if (sample_uniform[i]<0.5){\n",
    "        sample_F[i] = log(2*sample_uniform[i])\n",
    "        }\n",
    "    if (sample_uniform[i]>=0.5){\n",
    "        sample_F[i]= -log(2-2*sample_uniform[i])\n",
    "        }\n",
    "    }"
   ]
  },
  {
   "cell_type": "code",
   "execution_count": 19,
   "id": "dd024ff3-9def-45bf-9c82-cad463670756",
   "metadata": {},
   "outputs": [],
   "source": [
    "sample_F_data = data.frame(sample_F)"
   ]
  },
  {
   "cell_type": "code",
   "execution_count": 20,
   "id": "07a7f498-bf0c-4fd8-a83e-1b62d131d4fa",
   "metadata": {},
   "outputs": [
    {
     "data": {
      "text/html": [
       "<table class=\"dataframe\">\n",
       "<caption>A data.frame: 1000 × 1</caption>\n",
       "<thead>\n",
       "\t<tr><th scope=col>sample_F</th></tr>\n",
       "\t<tr><th scope=col>&lt;dbl&gt;</th></tr>\n",
       "</thead>\n",
       "<tbody>\n",
       "\t<tr><td>-1.04769492</td></tr>\n",
       "\t<tr><td>-1.91020177</td></tr>\n",
       "\t<tr><td>-0.71053797</td></tr>\n",
       "\t<tr><td> 1.57014990</td></tr>\n",
       "\t<tr><td>-0.37857684</td></tr>\n",
       "\t<tr><td> 0.64550182</td></tr>\n",
       "\t<tr><td> 0.85370075</td></tr>\n",
       "\t<tr><td>-0.59234285</td></tr>\n",
       "\t<tr><td>-0.41215582</td></tr>\n",
       "\t<tr><td> 2.11197504</td></tr>\n",
       "\t<tr><td>-0.60531663</td></tr>\n",
       "\t<tr><td> 1.19449930</td></tr>\n",
       "\t<tr><td> 2.90298101</td></tr>\n",
       "\t<tr><td> 0.02381039</td></tr>\n",
       "\t<tr><td> 0.05878314</td></tr>\n",
       "\t<tr><td>-1.67728729</td></tr>\n",
       "\t<tr><td> 1.22415084</td></tr>\n",
       "\t<tr><td> 0.23666150</td></tr>\n",
       "\t<tr><td> 0.16122120</td></tr>\n",
       "\t<tr><td> 1.83569973</td></tr>\n",
       "\t<tr><td> 0.73509779</td></tr>\n",
       "\t<tr><td> 1.69241758</td></tr>\n",
       "\t<tr><td>-0.17590371</td></tr>\n",
       "\t<tr><td>-1.76953373</td></tr>\n",
       "\t<tr><td> 0.86291448</td></tr>\n",
       "\t<tr><td> 0.05364190</td></tr>\n",
       "\t<tr><td> 1.39667110</td></tr>\n",
       "\t<tr><td>-0.29245696</td></tr>\n",
       "\t<tr><td>-0.46691632</td></tr>\n",
       "\t<tr><td> 1.52363214</td></tr>\n",
       "\t<tr><td>⋮</td></tr>\n",
       "\t<tr><td> 0.72095831</td></tr>\n",
       "\t<tr><td> 0.47055285</td></tr>\n",
       "\t<tr><td>-0.01657598</td></tr>\n",
       "\t<tr><td>-0.33209996</td></tr>\n",
       "\t<tr><td>-0.14180605</td></tr>\n",
       "\t<tr><td> 0.22864390</td></tr>\n",
       "\t<tr><td> 0.07432193</td></tr>\n",
       "\t<tr><td> 1.49581048</td></tr>\n",
       "\t<tr><td>-0.70321865</td></tr>\n",
       "\t<tr><td>-0.04494073</td></tr>\n",
       "\t<tr><td> 0.14033447</td></tr>\n",
       "\t<tr><td> 0.15296019</td></tr>\n",
       "\t<tr><td> 4.97595290</td></tr>\n",
       "\t<tr><td>-5.89502185</td></tr>\n",
       "\t<tr><td> 0.96168686</td></tr>\n",
       "\t<tr><td>-1.22703926</td></tr>\n",
       "\t<tr><td> 0.35452241</td></tr>\n",
       "\t<tr><td> 0.42419537</td></tr>\n",
       "\t<tr><td>-0.84434526</td></tr>\n",
       "\t<tr><td>-4.11102664</td></tr>\n",
       "\t<tr><td>-0.70543856</td></tr>\n",
       "\t<tr><td>-2.19379648</td></tr>\n",
       "\t<tr><td> 0.31350362</td></tr>\n",
       "\t<tr><td> 2.05856542</td></tr>\n",
       "\t<tr><td>-1.03779468</td></tr>\n",
       "\t<tr><td>-0.57283056</td></tr>\n",
       "\t<tr><td> 1.23304848</td></tr>\n",
       "\t<tr><td> 0.49589169</td></tr>\n",
       "\t<tr><td>-0.54535397</td></tr>\n",
       "\t<tr><td> 0.69838040</td></tr>\n",
       "</tbody>\n",
       "</table>\n"
      ],
      "text/latex": [
       "A data.frame: 1000 × 1\n",
       "\\begin{tabular}{l}\n",
       " sample\\_F\\\\\n",
       " <dbl>\\\\\n",
       "\\hline\n",
       "\t -1.04769492\\\\\n",
       "\t -1.91020177\\\\\n",
       "\t -0.71053797\\\\\n",
       "\t  1.57014990\\\\\n",
       "\t -0.37857684\\\\\n",
       "\t  0.64550182\\\\\n",
       "\t  0.85370075\\\\\n",
       "\t -0.59234285\\\\\n",
       "\t -0.41215582\\\\\n",
       "\t  2.11197504\\\\\n",
       "\t -0.60531663\\\\\n",
       "\t  1.19449930\\\\\n",
       "\t  2.90298101\\\\\n",
       "\t  0.02381039\\\\\n",
       "\t  0.05878314\\\\\n",
       "\t -1.67728729\\\\\n",
       "\t  1.22415084\\\\\n",
       "\t  0.23666150\\\\\n",
       "\t  0.16122120\\\\\n",
       "\t  1.83569973\\\\\n",
       "\t  0.73509779\\\\\n",
       "\t  1.69241758\\\\\n",
       "\t -0.17590371\\\\\n",
       "\t -1.76953373\\\\\n",
       "\t  0.86291448\\\\\n",
       "\t  0.05364190\\\\\n",
       "\t  1.39667110\\\\\n",
       "\t -0.29245696\\\\\n",
       "\t -0.46691632\\\\\n",
       "\t  1.52363214\\\\\n",
       "\t ⋮\\\\\n",
       "\t  0.72095831\\\\\n",
       "\t  0.47055285\\\\\n",
       "\t -0.01657598\\\\\n",
       "\t -0.33209996\\\\\n",
       "\t -0.14180605\\\\\n",
       "\t  0.22864390\\\\\n",
       "\t  0.07432193\\\\\n",
       "\t  1.49581048\\\\\n",
       "\t -0.70321865\\\\\n",
       "\t -0.04494073\\\\\n",
       "\t  0.14033447\\\\\n",
       "\t  0.15296019\\\\\n",
       "\t  4.97595290\\\\\n",
       "\t -5.89502185\\\\\n",
       "\t  0.96168686\\\\\n",
       "\t -1.22703926\\\\\n",
       "\t  0.35452241\\\\\n",
       "\t  0.42419537\\\\\n",
       "\t -0.84434526\\\\\n",
       "\t -4.11102664\\\\\n",
       "\t -0.70543856\\\\\n",
       "\t -2.19379648\\\\\n",
       "\t  0.31350362\\\\\n",
       "\t  2.05856542\\\\\n",
       "\t -1.03779468\\\\\n",
       "\t -0.57283056\\\\\n",
       "\t  1.23304848\\\\\n",
       "\t  0.49589169\\\\\n",
       "\t -0.54535397\\\\\n",
       "\t  0.69838040\\\\\n",
       "\\end{tabular}\n"
      ],
      "text/markdown": [
       "\n",
       "A data.frame: 1000 × 1\n",
       "\n",
       "| sample_F &lt;dbl&gt; |\n",
       "|---|\n",
       "| -1.04769492 |\n",
       "| -1.91020177 |\n",
       "| -0.71053797 |\n",
       "|  1.57014990 |\n",
       "| -0.37857684 |\n",
       "|  0.64550182 |\n",
       "|  0.85370075 |\n",
       "| -0.59234285 |\n",
       "| -0.41215582 |\n",
       "|  2.11197504 |\n",
       "| -0.60531663 |\n",
       "|  1.19449930 |\n",
       "|  2.90298101 |\n",
       "|  0.02381039 |\n",
       "|  0.05878314 |\n",
       "| -1.67728729 |\n",
       "|  1.22415084 |\n",
       "|  0.23666150 |\n",
       "|  0.16122120 |\n",
       "|  1.83569973 |\n",
       "|  0.73509779 |\n",
       "|  1.69241758 |\n",
       "| -0.17590371 |\n",
       "| -1.76953373 |\n",
       "|  0.86291448 |\n",
       "|  0.05364190 |\n",
       "|  1.39667110 |\n",
       "| -0.29245696 |\n",
       "| -0.46691632 |\n",
       "|  1.52363214 |\n",
       "| ⋮ |\n",
       "|  0.72095831 |\n",
       "|  0.47055285 |\n",
       "| -0.01657598 |\n",
       "| -0.33209996 |\n",
       "| -0.14180605 |\n",
       "|  0.22864390 |\n",
       "|  0.07432193 |\n",
       "|  1.49581048 |\n",
       "| -0.70321865 |\n",
       "| -0.04494073 |\n",
       "|  0.14033447 |\n",
       "|  0.15296019 |\n",
       "|  4.97595290 |\n",
       "| -5.89502185 |\n",
       "|  0.96168686 |\n",
       "| -1.22703926 |\n",
       "|  0.35452241 |\n",
       "|  0.42419537 |\n",
       "| -0.84434526 |\n",
       "| -4.11102664 |\n",
       "| -0.70543856 |\n",
       "| -2.19379648 |\n",
       "|  0.31350362 |\n",
       "|  2.05856542 |\n",
       "| -1.03779468 |\n",
       "| -0.57283056 |\n",
       "|  1.23304848 |\n",
       "|  0.49589169 |\n",
       "| -0.54535397 |\n",
       "|  0.69838040 |\n",
       "\n"
      ],
      "text/plain": [
       "     sample_F   \n",
       "1    -1.04769492\n",
       "2    -1.91020177\n",
       "3    -0.71053797\n",
       "4     1.57014990\n",
       "5    -0.37857684\n",
       "6     0.64550182\n",
       "7     0.85370075\n",
       "8    -0.59234285\n",
       "9    -0.41215582\n",
       "10    2.11197504\n",
       "11   -0.60531663\n",
       "12    1.19449930\n",
       "13    2.90298101\n",
       "14    0.02381039\n",
       "15    0.05878314\n",
       "16   -1.67728729\n",
       "17    1.22415084\n",
       "18    0.23666150\n",
       "19    0.16122120\n",
       "20    1.83569973\n",
       "21    0.73509779\n",
       "22    1.69241758\n",
       "23   -0.17590371\n",
       "24   -1.76953373\n",
       "25    0.86291448\n",
       "26    0.05364190\n",
       "27    1.39667110\n",
       "28   -0.29245696\n",
       "29   -0.46691632\n",
       "30    1.52363214\n",
       "⋮    ⋮          \n",
       "971   0.72095831\n",
       "972   0.47055285\n",
       "973  -0.01657598\n",
       "974  -0.33209996\n",
       "975  -0.14180605\n",
       "976   0.22864390\n",
       "977   0.07432193\n",
       "978   1.49581048\n",
       "979  -0.70321865\n",
       "980  -0.04494073\n",
       "981   0.14033447\n",
       "982   0.15296019\n",
       "983   4.97595290\n",
       "984  -5.89502185\n",
       "985   0.96168686\n",
       "986  -1.22703926\n",
       "987   0.35452241\n",
       "988   0.42419537\n",
       "989  -0.84434526\n",
       "990  -4.11102664\n",
       "991  -0.70543856\n",
       "992  -2.19379648\n",
       "993   0.31350362\n",
       "994   2.05856542\n",
       "995  -1.03779468\n",
       "996  -0.57283056\n",
       "997   1.23304848\n",
       "998   0.49589169\n",
       "999  -0.54535397\n",
       "1000  0.69838040"
      ]
     },
     "metadata": {},
     "output_type": "display_data"
    }
   ],
   "source": [
    "sample_F_data['sample_F']"
   ]
  },
  {
   "cell_type": "code",
   "execution_count": 38,
   "id": "58b3cd2d-0ca1-4d5b-9615-26829b77b70f",
   "metadata": {},
   "outputs": [
    {
     "data": {
      "image/png": "[encoded data removed]",
      "text/plain": [
       "plot without title"
      ]
     },
     "metadata": {
      "image/png": {
       "height": 420,
       "width": 420
      }
     },
     "output_type": "display_data"
    }
   ],
   "source": [
    "bin <- 0.5\n",
    "plotfig <- ggplot(sample_F_data,aes(sample_F))+\n",
    "        theme(plot.title = element_text(size = 20),\n",
    "              axis.title.y=element_text(size = 15),\n",
    "              axis.title.x=element_text(size = 15))\n",
    " \n",
    "p <- plotfig+geom_histogram(aes(y = after_stat(count /(sum(count)))), binwidth=bin, color=\"black\", fill=\"gray\")+\n",
    "       labs(x=\"precio\",\n",
    "            y=\"frecuencia\",\n",
    "            title=paste0(\"Histograma simulaciones del precio final\"))\n",
    "\n",
    "#p <- p+ geom_vline(aes(xintercept=mean(PT)),\n",
    "#            color=\"blue\", linetype=\"dashed\", size=1)\n",
    "           \n",
    "p "
   ]
  },
  {
   "cell_type": "code",
   "execution_count": 22,
   "id": "c8c68a2f-4160-4a6a-b89f-f22dce22c2dd",
   "metadata": {},
   "outputs": [
    {
     "data": {
      "image/png": "[encoded data removed]",
      "text/plain": [
       "plot without title"
      ]
     },
     "metadata": {
      "image/png": {
       "height": 420,
       "width": 420
      }
     },
     "output_type": "display_data"
    }
   ],
   "source": [
    "pfin2 = ggplot(sample_F_data,aes(sample_F))+geom_function(fun=ecdf(sample_F))+\n",
    "         xlim(-10,10)+\n",
    "         labs(x=\"precio\",y=\"F_N(x)\",\n",
    "              title=paste0(\"Distr. empírica de lassimulaciones del precio final\")) \n",
    "pfin2"
   ]
  },
  {
   "cell_type": "code",
   "execution_count": null,
   "id": "09ac3e34-3e72-4542-9729-89743b996102",
   "metadata": {},
   "outputs": [],
   "source": [
    "test2 = function(x) {ifelse(x<0, 1, 2)}"
   ]
  },
  {
   "cell_type": "code",
   "execution_count": 33,
   "id": "b593efbb-86d4-470c-96bf-f3083003a893",
   "metadata": {},
   "outputs": [],
   "source": [
    "test3 = function(x) {ifelse(x<0, 0.5*exp(x),1- 0.5*exp(-x))}"
   ]
  },
  {
   "cell_type": "code",
   "execution_count": 24,
   "id": "82571be7-d616-4517-8f80-1e9d162ba395",
   "metadata": {},
   "outputs": [],
   "source": [
    "test2 = function(x) { if (x<0){\n",
    "    x=1\n",
    "    }else{x=3}\n",
    "    }"
   ]
  },
  {
   "cell_type": "code",
   "execution_count": 61,
   "id": "9e84360a-5352-4304-b17c-0cc82aa3f5b7",
   "metadata": {},
   "outputs": [
    {
     "data": {
      "image/png": "[encoded data removed]",
      "text/plain": [
       "plot without title"
      ]
     },
     "metadata": {
      "image/png": {
       "height": 420,
       "width": 420
      }
     },
     "output_type": "display_data"
    }
   ],
   "source": [
    "pfin3 = pfin2 + stat_function(fun = test3, color=\"red\")\n",
    "pfin3"
   ]
  },
  {
   "cell_type": "code",
   "execution_count": 59,
   "id": "1e11a55c-e870-48b2-86a0-5062387fe0e3",
   "metadata": {},
   "outputs": [
    {
     "data": {
      "image/png": "[encoded data removed]",
      "text/plain": [
       "plot without title"
      ]
     },
     "metadata": {
      "image/png": {
       "height": 420,
       "width": 420
      }
     },
     "output_type": "display_data"
    }
   ],
   "source": [
    "p+geom_function(fun = dnorm, args = list(mean = 0.01226, sd = 1.387))"
   ]
  },
  {
   "cell_type": "code",
   "execution_count": null,
   "id": "04fb4f33-29b8-4095-a00a-afaf9389a87d",
   "metadata": {},
   "outputs": [],
   "source": [
    "pfin4 =pfin3+stat_function(fun = pnorm, n = 1000, args = list(mean = 0.01226, sd = 1.387), color = \"green\") "
   ]
  },
  {
   "cell_type": "code",
   "execution_count": 67,
   "id": "8cbe37ff-2ae0-4a8d-926a-9955d46a84ca",
   "metadata": {},
   "outputs": [
    {
     "data": {
      "image/png": "[encoded data removed]",
      "text/plain": [
       "plot without title"
      ]
     },
     "metadata": {
      "image/png": {
       "height": 420,
       "width": 420
      }
     },
     "output_type": "display_data"
    }
   ],
   "source": [
    "pfin4"
   ]
  },
  {
   "cell_type": "code",
   "execution_count": 41,
   "id": "f29bfba3-32d4-4ddd-b194-7f2c8b285419",
   "metadata": {},
   "outputs": [
    {
     "data": {
      "text/html": [
       "0.0122585569410637"
      ],
      "text/latex": [
       "0.0122585569410637"
      ],
      "text/markdown": [
       "0.0122585569410637"
      ],
      "text/plain": [
       "[1] 0.01225856"
      ]
     },
     "metadata": {},
     "output_type": "display_data"
    }
   ],
   "source": [
    "media =mean(sample_F)\n",
    "media"
   ]
  },
  {
   "cell_type": "code",
   "execution_count": 44,
   "id": "e24d3914-338d-4ee2-bb22-ffa270716872",
   "metadata": {},
   "outputs": [
    {
     "data": {
      "text/html": [
       "1.3869953642556"
      ],
      "text/latex": [
       "1.3869953642556"
      ],
      "text/markdown": [
       "1.3869953642556"
      ],
      "text/plain": [
       "[1] 1.386995"
      ]
     },
     "metadata": {},
     "output_type": "display_data"
    }
   ],
   "source": [
    "stdrd =sd(sample_F)\n",
    "stdrd"
   ]
  },
  {
   "cell_type": "code",
   "execution_count": 70,
   "id": "351b3b25-079b-4743-820e-1d9f3751df4e",
   "metadata": {},
   "outputs": [],
   "source": [
    "pfin5 = pfin3+geom_function(fun=pnorm, args = list(mean = 0.01226, sd = 1.387), color=\"red\")"
   ]
  },
  {
   "cell_type": "code",
   "execution_count": 71,
   "id": "c7ce89d9-eb95-44bd-b614-5c6726c00b70",
   "metadata": {},
   "outputs": [
    {
     "data": {
      "image/png": "[encoded data removed]",
      "text/plain": [
       "plot without title"
      ]
     },
     "metadata": {
      "image/png": {
       "height": 420,
       "width": 420
      }
     },
     "output_type": "display_data"
    }
   ],
   "source": [
    "pfin5"
   ]
  },
  {
   "cell_type": "markdown",
   "id": "53539eff-ee7b-4809-a767-f411b1aacc5c",
   "metadata": {},
   "source": [
    "## Pregunta N°2"
   ]
  },
  {
   "cell_type": "markdown",
   "id": "29818078-8e58-481d-bcdf-77ef92a6f61b",
   "metadata": {},
   "source": [
    "### a) Test-t independiente"
   ]
  },
  {
   "cell_type": "code",
   "execution_count": 1,
   "id": "d6d4153d-60b9-40f5-93da-cc81db7d3312",
   "metadata": {},
   "outputs": [
    {
     "name": "stderr",
     "output_type": "stream",
     "text": [
      "Installing package into ‘/srv/rlibs’\n",
      "(as ‘lib’ is unspecified)\n",
      "\n"
     ]
    }
   ],
   "source": [
    "install.packages(\"readxl\")"
   ]
  },
  {
   "cell_type": "code",
   "execution_count": 2,
   "id": "50c38417-3ed1-45b6-b7ef-a83f26468106",
   "metadata": {},
   "outputs": [],
   "source": [
    "library(readxl)"
   ]
  },
  {
   "cell_type": "markdown",
   "id": "31d540e0-b819-45e7-ba50-4e27a9749778",
   "metadata": {},
   "source": [
    "#### Nos interesa evaluar cual política de inventario es mejor.  Para esto se plantea la siguiente hipótesis\n",
    "#### Ho : u(400) >= u(300)\n",
    "#### Ha : u(400) < u(300)"
   ]
  },
  {
   "cell_type": "code",
   "execution_count": 12,
   "id": "bf299f11-4d2b-4da7-9765-64cb52b1e282",
   "metadata": {},
   "outputs": [],
   "source": [
    "data = read_excel(\"data_independiente.xlsx\")\n",
    "data = as.data.frame(data)"
   ]
  },
  {
   "cell_type": "code",
   "execution_count": 13,
   "id": "be7e20ef-8584-413f-a0be-28886daae8f3",
   "metadata": {},
   "outputs": [],
   "source": [
    "dat400 = data$Ss_400\n",
    "dat300 = data$Ss_300"
   ]
  },
  {
   "cell_type": "code",
   "execution_count": 14,
   "id": "0b85d225-c0b4-46d7-8254-73ebfbdb8196",
   "metadata": {},
   "outputs": [
    {
     "data": {
      "text/plain": [
       "\n",
       "\tF test to compare two variances\n",
       "\n",
       "data:  dat400 and dat300\n",
       "F = 1.816, num df = 999, denom df = 999, p-value < 2.2e-16\n",
       "alternative hypothesis: true ratio of variances is not equal to 1\n",
       "95 percent confidence interval:\n",
       " 1.604041 2.055892\n",
       "sample estimates:\n",
       "ratio of variances \n",
       "          1.815967 \n"
      ]
     },
     "metadata": {},
     "output_type": "display_data"
    }
   ],
   "source": [
    "res.ftest = var.test(dat400, dat300, data = data)\n",
    "res.ftest"
   ]
  },
  {
   "cell_type": "markdown",
   "id": "cf07086e-166f-4cae-8612-63ba3754b001",
   "metadata": {},
   "source": [
    "#### p-value < 2.2e-16 < 0.05, por lo que no hay evidencia para decir que las varianzas son iguales.  Suponemos entonces que las varianzas son distintas"
   ]
  },
  {
   "cell_type": "code",
   "execution_count": 15,
   "id": "6fe6ca85-644c-43ab-9cfc-1c51eab77290",
   "metadata": {},
   "outputs": [
    {
     "data": {
      "text/plain": [
       "\n",
       "\tWelch Two Sample t-test\n",
       "\n",
       "data:  dat400 and dat300\n",
       "t = 1.4015, df = 1843.2, p-value = 0.9194\n",
       "alternative hypothesis: true difference in means is less than 0\n",
       "95 percent confidence interval:\n",
       "     -Inf 15549.83\n",
       "sample estimates:\n",
       "mean of x mean of y \n",
       "   259524    252372 \n"
      ]
     },
     "metadata": {},
     "output_type": "display_data"
    }
   ],
   "source": [
    "res = t.test(dat400, dat300, alternative = \"less\", var.equal = FALSE)\n",
    "res"
   ]
  },
  {
   "cell_type": "markdown",
   "id": "ec265b25-6894-4c47-9488-98243c09260d",
   "metadata": {},
   "source": [
    "#### como p-value = 0.9194, no existe evidencia para rechazar la hipótesis nula"
   ]
  },
  {
   "cell_type": "markdown",
   "id": "3551a8fa-d0fb-4e29-9f62-d8b6e5afbca2",
   "metadata": {},
   "source": [
    "### b) Comparación utilizando un test-t pareado, aplicado a simulaciones independientes de las dos configuraciones"
   ]
  },
  {
   "cell_type": "code",
   "execution_count": null,
   "id": "9fbb98d2-441f-4b83-8dc1-42e0e1061d28",
   "metadata": {},
   "outputs": [],
   "source": [
    "#Se crea una nueva variable aleatoria dif_dat=dat400 - dat300\n",
    "dif_dat = dat400-dat300"
   ]
  },
  {
   "cell_type": "markdown",
   "id": "135670d4-9969-465b-9bdc-3119d6127006",
   "metadata": {
    "tags": []
   },
   "source": [
    "#### Nos interesa saber si la u(dif_dat) >= 0.  Se genera la siguiente hipótesis:\n",
    "#### Ho : u(dif_dat) >= 0\n",
    "#### Ha : u(dif_dat) < 0"
   ]
  },
  {
   "cell_type": "code",
   "execution_count": 22,
   "id": "ddbc0a00-d663-4b1b-a9c2-f1e688c83b36",
   "metadata": {},
   "outputs": [
    {
     "data": {
      "text/plain": [
       "\n",
       "\tPaired t-test\n",
       "\n",
       "data:  dat400 and dat300\n",
       "t = 1.4107, df = 999, p-value = 0.9207\n",
       "alternative hypothesis: true difference in means is less than 0\n",
       "95 percent confidence interval:\n",
       "     -Inf 15498.74\n",
       "sample estimates:\n",
       "mean of the differences \n",
       "                   7152 \n"
      ]
     },
     "metadata": {},
     "output_type": "display_data"
    }
   ],
   "source": [
    "res_b = t.test(dat400, dat300, paired = TRUE,  alternative = \"less\")\n",
    "res_b"
   ]
  },
  {
   "cell_type": "markdown",
   "id": "d3b9803e-f6d1-4b3f-a319-77419dfb716e",
   "metadata": {
    "tags": []
   },
   "source": [
    "### c) test-t pareado, aplicado a simulaciones generadas con los mismos números aleatorios"
   ]
  },
  {
   "cell_type": "code",
   "execution_count": 2,
   "id": "858c5ad4-c8fe-41e2-a816-493f6c9dc00e",
   "metadata": {},
   "outputs": [
    {
     "ename": "ERROR",
     "evalue": "Error in read_excel(\"ModeloP2(Demanda unica).xlsx\", sheet = \"Simulation Data Dump 1&2\"): could not find function \"read_excel\"\n",
     "output_type": "error",
     "traceback": [
      "Error in read_excel(\"ModeloP2(Demanda unica).xlsx\", sheet = \"Simulation Data Dump 1&2\"): could not find function \"read_excel\"\nTraceback:\n"
     ]
    }
   ],
   "source": [
    "data_c = read_excel(\"ModeloP2(Demanda unica).xlsx\", sheet = \"Simulation Data Dump 1&2\")\n",
    "data_c = as.data.frame(data_c)"
   ]
  },
  {
   "cell_type": "code",
   "execution_count": 20,
   "id": "8648fb28-0c9e-44f5-8771-c580600e4e3c",
   "metadata": {},
   "outputs": [],
   "source": [
    "dat400c = data_c$Ss400\n",
    "dat300c = data_c$Ss300"
   ]
  },
  {
   "cell_type": "code",
   "execution_count": 4,
   "id": "76cb7dbf-ca11-4963-864b-107380195081",
   "metadata": {},
   "outputs": [
    {
     "ename": "ERROR",
     "evalue": "Error in t.test(dat400c, dat300c, paired = TRUE, alternative = \"less\"): object 'dat400c' not found\n",
     "output_type": "error",
     "traceback": [
      "Error in t.test(dat400c, dat300c, paired = TRUE, alternative = \"less\"): object 'dat400c' not found\nTraceback:\n",
      "1. t.test(dat400c, dat300c, paired = TRUE, alternative = \"less\")"
     ]
    }
   ],
   "source": [
    "res_c = t.test(dat400c, dat300c, paired = TRUE,  alternative = \"less\")\n",
    "res_c"
   ]
  },
  {
   "cell_type": "markdown",
   "id": "35205bee-96db-49b8-8651-985ba8a404f8",
   "metadata": {},
   "source": [
    "## Pregunta N°3"
   ]
  },
  {
   "cell_type": "code",
   "execution_count": 3,
   "id": "37cff404-3171-4508-8415-c49e67f46e30",
   "metadata": {},
   "outputs": [],
   "source": [
    "stock_data = read.csv(\"prices4stocks.csv\", sep=\",\")"
   ]
  },
  {
   "cell_type": "code",
   "execution_count": 3,
   "id": "456af9ab-5668-4599-8a86-2b22d3784dd6",
   "metadata": {},
   "outputs": [
    {
     "data": {
      "text/plain": [
       "      Day               A               B               C         \n",
       " Min.   :  1.00   Min.   :28.28   Min.   :32.51   Min.   : 85.38  \n",
       " 1st Qu.: 63.75   1st Qu.:30.96   1st Qu.:39.55   1st Qu.: 94.61  \n",
       " Median :126.50   Median :33.31   Median :44.99   Median :101.49  \n",
       " Mean   :126.50   Mean   :35.75   Mean   :44.95   Mean   :102.64  \n",
       " 3rd Qu.:189.25   3rd Qu.:40.79   3rd Qu.:48.77   3rd Qu.:107.78  \n",
       " Max.   :252.00   Max.   :51.78   Max.   :61.97   Max.   :127.94  \n",
       "       D        \n",
       " Min.   :48.12  \n",
       " 1st Qu.:54.27  \n",
       " Median :67.01  \n",
       " Mean   :66.33  \n",
       " 3rd Qu.:76.93  \n",
       " Max.   :94.10  "
      ]
     },
     "metadata": {},
     "output_type": "display_data"
    }
   ],
   "source": [
    "summary(stock_data)"
   ]
  },
  {
   "cell_type": "code",
   "execution_count": 4,
   "id": "4112c7b2-092a-4a07-83b1-640cc68be293",
   "metadata": {},
   "outputs": [
    {
     "data": {
      "text/html": [
       "252"
      ],
      "text/latex": [
       "252"
      ],
      "text/markdown": [
       "252"
      ],
      "text/plain": [
       "[1] 252"
      ]
     },
     "metadata": {},
     "output_type": "display_data"
    }
   ],
   "source": [
    "largo=length(stock_data$A)\n",
    "largo"
   ]
  },
  {
   "cell_type": "code",
   "execution_count": 5,
   "id": "1e5e2b30-b30d-42b0-ad03-c3a0234403fa",
   "metadata": {},
   "outputs": [
    {
     "data": {
      "text/html": [
       "<table class=\"dataframe\">\n",
       "<caption>A data.frame: 6 × 5</caption>\n",
       "<thead>\n",
       "\t<tr><th></th><th scope=col>Day</th><th scope=col>A</th><th scope=col>B</th><th scope=col>C</th><th scope=col>D</th></tr>\n",
       "\t<tr><th></th><th scope=col>&lt;dbl&gt;</th><th scope=col>&lt;dbl&gt;</th><th scope=col>&lt;dbl&gt;</th><th scope=col>&lt;dbl&gt;</th><th scope=col>&lt;dbl&gt;</th></tr>\n",
       "</thead>\n",
       "<tbody>\n",
       "\t<tr><th scope=row>1</th><td>1</td><td>29.77</td><td>39.06</td><td>85.38</td><td>70.56</td></tr>\n",
       "\t<tr><th scope=row>2</th><td>2</td><td>30.56</td><td>38.50</td><td>87.03</td><td>72.84</td></tr>\n",
       "\t<tr><th scope=row>3</th><td>3</td><td>31.02</td><td>34.95</td><td>88.19</td><td>61.95</td></tr>\n",
       "\t<tr><th scope=row>4</th><td>4</td><td>31.92</td><td>37.35</td><td>90.85</td><td>61.87</td></tr>\n",
       "\t<tr><th scope=row>5</th><td>5</td><td>32.84</td><td>38.14</td><td>91.19</td><td>61.95</td></tr>\n",
       "\t<tr><th scope=row>6</th><td>6</td><td>34.05</td><td>38.87</td><td>92.66</td><td>61.44</td></tr>\n",
       "</tbody>\n",
       "</table>\n"
      ],
      "text/latex": [
       "A data.frame: 6 × 5\n",
       "\\begin{tabular}{r|lllll}\n",
       "  & Day & A & B & C & D\\\\\n",
       "  & <dbl> & <dbl> & <dbl> & <dbl> & <dbl>\\\\\n",
       "\\hline\n",
       "\t1 & 1 & 29.77 & 39.06 & 85.38 & 70.56\\\\\n",
       "\t2 & 2 & 30.56 & 38.50 & 87.03 & 72.84\\\\\n",
       "\t3 & 3 & 31.02 & 34.95 & 88.19 & 61.95\\\\\n",
       "\t4 & 4 & 31.92 & 37.35 & 90.85 & 61.87\\\\\n",
       "\t5 & 5 & 32.84 & 38.14 & 91.19 & 61.95\\\\\n",
       "\t6 & 6 & 34.05 & 38.87 & 92.66 & 61.44\\\\\n",
       "\\end{tabular}\n"
      ],
      "text/markdown": [
       "\n",
       "A data.frame: 6 × 5\n",
       "\n",
       "| <!--/--> | Day &lt;dbl&gt; | A &lt;dbl&gt; | B &lt;dbl&gt; | C &lt;dbl&gt; | D &lt;dbl&gt; |\n",
       "|---|---|---|---|---|---|\n",
       "| 1 | 1 | 29.77 | 39.06 | 85.38 | 70.56 |\n",
       "| 2 | 2 | 30.56 | 38.50 | 87.03 | 72.84 |\n",
       "| 3 | 3 | 31.02 | 34.95 | 88.19 | 61.95 |\n",
       "| 4 | 4 | 31.92 | 37.35 | 90.85 | 61.87 |\n",
       "| 5 | 5 | 32.84 | 38.14 | 91.19 | 61.95 |\n",
       "| 6 | 6 | 34.05 | 38.87 | 92.66 | 61.44 |\n",
       "\n"
      ],
      "text/plain": [
       "  Day A     B     C     D    \n",
       "1 1   29.77 39.06 85.38 70.56\n",
       "2 2   30.56 38.50 87.03 72.84\n",
       "3 3   31.02 34.95 88.19 61.95\n",
       "4 4   31.92 37.35 90.85 61.87\n",
       "5 5   32.84 38.14 91.19 61.95\n",
       "6 6   34.05 38.87 92.66 61.44"
      ]
     },
     "metadata": {},
     "output_type": "display_data"
    }
   ],
   "source": [
    "head(stock_data)"
   ]
  },
  {
   "cell_type": "code",
   "execution_count": 5,
   "id": "916c70a2-6fae-4616-8c76-05d85d04d833",
   "metadata": {},
   "outputs": [],
   "source": [
    "logA =c()\n",
    "logB =c()\n",
    "logC =c()\n",
    "logD =c()"
   ]
  },
  {
   "cell_type": "code",
   "execution_count": 6,
   "id": "5831f3cb-33b9-484f-9fcc-84cc33687686",
   "metadata": {},
   "outputs": [],
   "source": [
    "for (i in 1:largo){\n",
    "    logA[i] = log(stock_data$A[i+1]/stock_data$A[i])\n",
    "    logB[i] = log(stock_data$B[i+1]/stock_data$B[i])\n",
    "    logC[i] = log(stock_data$C[i+1]/stock_data$C[i])\n",
    "    logD[i] = log(stock_data$D[i+1]/stock_data$D[i])\n",
    "    }"
   ]
  },
  {
   "cell_type": "code",
   "execution_count": 7,
   "id": "0b6da93b-c4ce-4337-990f-0e03af6d7ea3",
   "metadata": {},
   "outputs": [],
   "source": [
    "sd_A=sd(logA, na.rm=TRUE)\n",
    "sd_B=sd(logB, na.rm=TRUE)\n",
    "sd_C=sd(logC, na.rm=TRUE)\n",
    "sd_D=sd(logD, na.rm=TRUE)"
   ]
  },
  {
   "cell_type": "code",
   "execution_count": 8,
   "id": "67e22172-de7f-441c-9a5e-617d92ad1b89",
   "metadata": {},
   "outputs": [],
   "source": [
    "medA=mean(logA,na.rm=TRUE)\n",
    "medB=mean(logB,na.rm=TRUE)\n",
    "medC=mean(logC,na.rm=TRUE)\n",
    "medD=mean(logD,na.rm=TRUE)"
   ]
  },
  {
   "cell_type": "code",
   "execution_count": 9,
   "id": "2db3c5b3-ec4e-4988-8c96-5a3dee8e84c6",
   "metadata": {},
   "outputs": [],
   "source": [
    "drift_A= medA+sd_A^2/2\n",
    "drift_B= medB+sd_B^2/2\n",
    "drift_C= medC+sd_C^2/2\n",
    "drift_D= medD+sd_D^2/2"
   ]
  },
  {
   "cell_type": "code",
   "execution_count": 10,
   "id": "023c2a4b-4295-4d91-9f00-ea9f3379b2d8",
   "metadata": {},
   "outputs": [
    {
     "data": {
      "image/png": "[encoded data removed]",
      "text/plain": [
       "plot without title"
      ]
     },
     "metadata": {
      "image/png": {
       "height": 420,
       "width": 420
      }
     },
     "output_type": "display_data"
    }
   ],
   "source": [
    "plotA = ggplot(data.frame(logA),aes(logA))+geom_function(fun=ecdf(logA))+\n",
    "         xlim(-0.1,0.1)+\n",
    "         labs(x=\"precio\",y=\"F_N(x)\",\n",
    "              title=paste0(\"Distr. empírica de lassimulaciones del precio final\")) \n",
    "plotA"
   ]
  },
  {
   "cell_type": "code",
   "execution_count": 11,
   "id": "5be7caec-d02d-4dad-97c4-503238736327",
   "metadata": {},
   "outputs": [
    {
     "data": {
      "image/png": "[encoded data removed]",
      "text/plain": [
       "plot without title"
      ]
     },
     "metadata": {
      "image/png": {
       "height": 420,
       "width": 420
      }
     },
     "output_type": "display_data"
    }
   ],
   "source": [
    "plotA2 = plotA + geom_function(fun=pnorm, args = list(mean = medA, sd = sd_A), color=\"red\")\n",
    "plotA2"
   ]
  },
  {
   "cell_type": "code",
   "execution_count": 12,
   "id": "b23c5722-793b-404c-9c3b-f768ca235342",
   "metadata": {},
   "outputs": [
    {
     "data": {
      "image/png": "[encoded data removed]",
      "text/plain": [
       "plot without title"
      ]
     },
     "metadata": {
      "image/png": {
       "height": 420,
       "width": 420
      }
     },
     "output_type": "display_data"
    }
   ],
   "source": [
    "plotB = ggplot(data.frame(logB),aes(logB))+geom_function(fun=ecdf(logB))+\n",
    "         xlim(-0.1,0.1)+\n",
    "         labs(x=\"precio\",y=\"F_N(x)\",\n",
    "              title=paste0(\"Distr. empírica de lassimulaciones del precio final\")) \n",
    "plotB"
   ]
  },
  {
   "cell_type": "code",
   "execution_count": 13,
   "id": "42c145af-c656-4f94-a7a1-de2af87408a0",
   "metadata": {},
   "outputs": [
    {
     "data": {
      "image/png": "[encoded data removed]",
      "text/plain": [
       "plot without title"
      ]
     },
     "metadata": {
      "image/png": {
       "height": 420,
       "width": 420
      }
     },
     "output_type": "display_data"
    }
   ],
   "source": [
    "plotB2 = plotB + geom_function(fun=pnorm, args = list(mean = medB, sd = sd_B), color=\"red\")\n",
    "plotB2"
   ]
  },
  {
   "cell_type": "code",
   "execution_count": 14,
   "id": "349afe62-b7f6-46a8-b6b7-d3bc40154dea",
   "metadata": {},
   "outputs": [
    {
     "data": {
      "image/png": "[encoded data removed]",
      "text/plain": [
       "plot without title"
      ]
     },
     "metadata": {
      "image/png": {
       "height": 420,
       "width": 420
      }
     },
     "output_type": "display_data"
    }
   ],
   "source": [
    "plotC = ggplot(data.frame(logC),aes(logC))+geom_function(fun=ecdf(logC))+\n",
    "         xlim(-0.1,0.1)+\n",
    "         labs(x=\"precio\",y=\"F_N(x)\",\n",
    "              title=paste0(\"Distr. empírica de lassimulaciones del precio final\")) \n",
    "plotC"
   ]
  },
  {
   "cell_type": "code",
   "execution_count": 15,
   "id": "7b82e20f-01d1-4ce6-993d-c306348061ff",
   "metadata": {},
   "outputs": [
    {
     "data": {
      "image/png": "[encoded data removed]",
      "text/plain": [
       "plot without title"
      ]
     },
     "metadata": {
      "image/png": {
       "height": 420,
       "width": 420
      }
     },
     "output_type": "display_data"
    }
   ],
   "source": [
    "plotC2 = plotC + geom_function(fun=pnorm, args = list(mean = medC, sd = sd_C), color=\"red\")\n",
    "plotC2"
   ]
  },
  {
   "cell_type": "code",
   "execution_count": 16,
   "id": "f438aa2d-6f49-4438-8eba-beeca12ffd2a",
   "metadata": {},
   "outputs": [
    {
     "data": {
      "image/png": "[encoded data removed]",
      "text/plain": [
       "plot without title"
      ]
     },
     "metadata": {
      "image/png": {
       "height": 420,
       "width": 420
      }
     },
     "output_type": "display_data"
    }
   ],
   "source": [
    "plotD = ggplot(data.frame(logD),aes(logD))+geom_function(fun=ecdf(logD))+\n",
    "         xlim(-0.1,0.1)+\n",
    "         labs(x=\"precio\",y=\"F_N(x)\",\n",
    "              title=paste0(\"Distr. empírica de lassimulaciones del precio final\")) \n",
    "plotD"
   ]
  },
  {
   "cell_type": "code",
   "execution_count": 23,
   "id": "24d32230-cefd-40dc-a27c-71f2338c4d0a",
   "metadata": {},
   "outputs": [
    {
     "data": {
      "image/png": "[encoded data removed]",
      "text/plain": [
       "plot without title"
      ]
     },
     "metadata": {
      "image/png": {
       "height": 420,
       "width": 420
      }
     },
     "output_type": "display_data"
    }
   ],
   "source": [
    "plotD2 = plotD + geom_function(fun=pnorm, args = list(mean = medD, sd = sd_D), color=\"red\")\n",
    "plotD2"
   ]
  },
  {
   "cell_type": "markdown",
   "id": "0c616f8b-7d56-4d4e-a99a-901602893112",
   "metadata": {},
   "source": [
    "### b) Porftafolio"
   ]
  },
  {
   "cell_type": "code",
   "execution_count": 17,
   "id": "c990c7b5-72bb-46f6-88c7-0bcdc9093f60",
   "metadata": {},
   "outputs": [],
   "source": [
    "N = 1000\n",
    "T = 180\n",
    "P0A=46.57\n",
    "P0B=52.89\n",
    "P0C=125.53\n",
    "P0D=94.1\n",
    "log_cambio_A = (drift_A-sd_A^2/2)*T + sd_A*sqrt(T)*rnorm(N,0,1)\n",
    "PTA = P0A*exp(log_cambio_A)\n",
    "log_cambio_B = (drift_B-sd_B^2/2)*T + sd_B*sqrt(T)*rnorm(N,0,1)\n",
    "PTB = P0B*exp(log_cambio_B)\n",
    "log_cambio_C = (drift_C-sd_C^2/2)*T + sd_C*sqrt(T)*rnorm(N,0,1)\n",
    "PTC = P0C*exp(log_cambio_C)\n",
    "log_cambio_D = (drift_D-sd_D^2/2)*T + sd_D*sqrt(T)*rnorm(N,0,1)\n",
    "PTD = P0D*exp(log_cambio_C)"
   ]
  },
  {
   "cell_type": "markdown",
   "id": "e6f82a56-8b34-473e-a901-3613b9f92182",
   "metadata": {},
   "source": [
    "Se define una nueva variable aleatoria que es el valor de Portafolio de acuerdo a lo siguiente:"
   ]
  },
  {
   "cell_type": "code",
   "execution_count": 18,
   "id": "9fbbdaf0-680f-4fae-a7e1-5c6de63f01ce",
   "metadata": {},
   "outputs": [],
   "source": [
    "Portafolio = 120*PTA+300*PTB+200*PTC+150*PTD"
   ]
  },
  {
   "cell_type": "code",
   "execution_count": 19,
   "id": "e4f3e62a-23e7-4e0d-b73e-4b0ccb3f42d3",
   "metadata": {},
   "outputs": [
    {
     "data": {
      "text/html": [
       "83371.2452963572"
      ],
      "text/latex": [
       "83371.2452963572"
      ],
      "text/markdown": [
       "83371.2452963572"
      ],
      "text/plain": [
       "[1] 83371.25"
      ]
     },
     "metadata": {},
     "output_type": "display_data"
    }
   ],
   "source": [
    "E_Portafolio = mean(Portafolio)\n",
    "E_Portafolio"
   ]
  },
  {
   "cell_type": "markdown",
   "id": "6a608a9d-2770-4450-b845-343dacebaff4",
   "metadata": {},
   "source": [
    "partiendo con N=1000 (N inicial), se estima con un que se requiere de al menos 1390 muestras para tener un margen de error del 1% del valor estimado"
   ]
  },
  {
   "cell_type": "code",
   "execution_count": 20,
   "id": "7d293690-994f-43b9-aafd-9d9df00c3117",
   "metadata": {},
   "outputs": [
    {
     "data": {
      "text/html": [
       "1604.60172676139"
      ],
      "text/latex": [
       "1604.60172676139"
      ],
      "text/markdown": [
       "1604.60172676139"
      ],
      "text/plain": [
       "[1] 1604.602"
      ]
     },
     "metadata": {},
     "output_type": "display_data"
    }
   ],
   "source": [
    "N_Calc = (1.96*sd(Portafolio))^2/(0.01*E_Portafolio)^2\n",
    "N_Calc"
   ]
  },
  {
   "cell_type": "markdown",
   "id": "2766952b-b1e3-48f5-9b6f-1185ff92e47b",
   "metadata": {},
   "source": [
    "Calculando con con N=1400 se tiene:"
   ]
  },
  {
   "cell_type": "code",
   "execution_count": 21,
   "id": "ac865b5a-0afd-4d5f-9417-fc6c89dfe3a1",
   "metadata": {},
   "outputs": [],
   "source": [
    "N = 1600\n",
    "T = 180\n",
    "P0A=46.57\n",
    "P0B=52.89\n",
    "P0C=125.53\n",
    "P0D=94.1\n",
    "log_cambio_A = (drift_A-sd_A^2/2)*T + sd_A*sqrt(T)*rnorm(N,0,1)\n",
    "PTA = P0A*exp(log_cambio_A)\n",
    "log_cambio_B = (drift_B-sd_B^2/2)*T + sd_B*sqrt(T)*rnorm(N,0,1)\n",
    "PTB = P0B*exp(log_cambio_B)\n",
    "log_cambio_C = (drift_C-sd_C^2/2)*T + sd_C*sqrt(T)*rnorm(N,0,1)\n",
    "PTC = P0C*exp(log_cambio_C)\n",
    "log_cambio_D = (drift_D-sd_D^2/2)*T + sd_D*sqrt(T)*rnorm(N,0,1)\n",
    "PTD = P0D*exp(log_cambio_C)"
   ]
  },
  {
   "cell_type": "code",
   "execution_count": 22,
   "id": "05ea5618-8b77-4b04-a4fa-9bc215d014e6",
   "metadata": {},
   "outputs": [],
   "source": [
    "Portafolio_fin=120*PTA+300*PTB+200*PTC+150*PTD"
   ]
  },
  {
   "cell_type": "code",
   "execution_count": 23,
   "id": "818fa0e8-0b7d-41dc-b868-ba4ecaceb05f",
   "metadata": {},
   "outputs": [
    {
     "data": {
      "text/html": [
       "83309.1129147378"
      ],
      "text/latex": [
       "83309.1129147378"
      ],
      "text/markdown": [
       "83309.1129147378"
      ],
      "text/plain": [
       "[1] 83309.11"
      ]
     },
     "metadata": {},
     "output_type": "display_data"
    }
   ],
   "source": [
    "E_Portafolio_fin = mean(Portafolio_fin)\n",
    "E_Portafolio_fin"
   ]
  },
  {
   "cell_type": "code",
   "execution_count": 24,
   "id": "7b671c7c-c27d-470c-a614-299262c44a31",
   "metadata": {},
   "outputs": [
    {
     "data": {
      "text/html": [
       "827.197543428638"
      ],
      "text/latex": [
       "827.197543428638"
      ],
      "text/markdown": [
       "827.197543428638"
      ],
      "text/plain": [
       "[1] 827.1975"
      ]
     },
     "metadata": {},
     "output_type": "display_data"
    }
   ],
   "source": [
    "Margen_Error = 1.96*sd(Portafolio_fin)/sqrt(N)\n",
    "Margen_Error"
   ]
  },
  {
   "cell_type": "markdown",
   "id": "182f2f2f-5ec3-4cf8-823c-247c3b2965d8",
   "metadata": {},
   "source": [
    "#### Ganancia Neta"
   ]
  },
  {
   "cell_type": "code",
   "execution_count": 25,
   "id": "ef4a9aa6-4890-4ea5-a71d-0eca58a589f6",
   "metadata": {},
   "outputs": [],
   "source": [
    "r=0.03 #tasa de interés anual\n",
    "T=0.5 #(180 días, medio año)\n",
    "Portafolio_0=120*46.57+300*52.89+200*125.53+150*94.1"
   ]
  },
  {
   "cell_type": "code",
   "execution_count": 26,
   "id": "605852e6-9650-4a4b-92c9-94546999fc74",
   "metadata": {},
   "outputs": [],
   "source": [
    "GN = Portafolio_fin - Portafolio_0*exp(r*T)*rep(1,N)"
   ]
  },
  {
   "cell_type": "code",
   "execution_count": 27,
   "id": "5a78a5c6-6587-4312-a08e-d87ec3906197",
   "metadata": {},
   "outputs": [
    {
     "data": {
      "text/html": [
       "21715.7065608886"
      ],
      "text/latex": [
       "21715.7065608886"
      ],
      "text/markdown": [
       "21715.7065608886"
      ],
      "text/plain": [
       "[1] 21715.71"
      ]
     },
     "metadata": {},
     "output_type": "display_data"
    }
   ],
   "source": [
    "mean(GN)"
   ]
  },
  {
   "cell_type": "code",
   "execution_count": 28,
   "id": "f2078949-18be-4b90-a5e0-c9e1cdfabb58",
   "metadata": {},
   "outputs": [
    {
     "data": {
      "image/png": "[encoded data removed]",
      "text/plain": [
       "plot without title"
      ]
     },
     "metadata": {
      "image/png": {
       "height": 420,
       "width": 420
      }
     },
     "output_type": "display_data"
    }
   ],
   "source": [
    "plot_port = ggplot(data.frame(GN),aes(GN))+geom_function(fun=ecdf(GN))+\n",
    "         xlim(-40000,80000)+\n",
    "         labs(x=\"precio\",y=\"F_N(x)\",\n",
    "              title=paste0(\"Distr. empírica de lassimulaciones del precio final\")) \n",
    "plot_port"
   ]
  },
  {
   "cell_type": "markdown",
   "id": "058c76eb-1649-4cc5-8214-5fef873a4141",
   "metadata": {},
   "source": [
    "#### c) Matriz de Correlación (Precios de Acciones)"
   ]
  },
  {
   "cell_type": "code",
   "execution_count": 29,
   "id": "b54a4d50-890c-4746-90c2-7f26b4a9e5f7",
   "metadata": {},
   "outputs": [],
   "source": [
    "matrix_data = matrix(c(PTA, PTB, PTC, PTD), ncol = 4)"
   ]
  },
  {
   "cell_type": "code",
   "execution_count": 30,
   "id": "83c13ae9-3f08-486b-9299-b6827f37c0a0",
   "metadata": {},
   "outputs": [
    {
     "data": {
      "text/html": [
       "<table class=\"dataframe\">\n",
       "<caption>A matrix: 4 × 4 of type dbl</caption>\n",
       "<tbody>\n",
       "\t<tr><td>1.00000000</td><td>0.025535414</td><td>0.040108273</td><td>0.040108273</td></tr>\n",
       "\t<tr><td>0.02553541</td><td>1.000000000</td><td>0.006467997</td><td>0.006467997</td></tr>\n",
       "\t<tr><td>0.04010827</td><td>0.006467997</td><td>1.000000000</td><td>1.000000000</td></tr>\n",
       "\t<tr><td>0.04010827</td><td>0.006467997</td><td>1.000000000</td><td>1.000000000</td></tr>\n",
       "</tbody>\n",
       "</table>\n"
      ],
      "text/latex": [
       "A matrix: 4 × 4 of type dbl\n",
       "\\begin{tabular}{llll}\n",
       "\t 1.00000000 & 0.025535414 & 0.040108273 & 0.040108273\\\\\n",
       "\t 0.02553541 & 1.000000000 & 0.006467997 & 0.006467997\\\\\n",
       "\t 0.04010827 & 0.006467997 & 1.000000000 & 1.000000000\\\\\n",
       "\t 0.04010827 & 0.006467997 & 1.000000000 & 1.000000000\\\\\n",
       "\\end{tabular}\n"
      ],
      "text/markdown": [
       "\n",
       "A matrix: 4 × 4 of type dbl\n",
       "\n",
       "| 1.00000000 | 0.025535414 | 0.040108273 | 0.040108273 |\n",
       "| 0.02553541 | 1.000000000 | 0.006467997 | 0.006467997 |\n",
       "| 0.04010827 | 0.006467997 | 1.000000000 | 1.000000000 |\n",
       "| 0.04010827 | 0.006467997 | 1.000000000 | 1.000000000 |\n",
       "\n"
      ],
      "text/plain": [
       "     [,1]       [,2]        [,3]        [,4]       \n",
       "[1,] 1.00000000 0.025535414 0.040108273 0.040108273\n",
       "[2,] 0.02553541 1.000000000 0.006467997 0.006467997\n",
       "[3,] 0.04010827 0.006467997 1.000000000 1.000000000\n",
       "[4,] 0.04010827 0.006467997 1.000000000 1.000000000"
      ]
     },
     "metadata": {},
     "output_type": "display_data"
    }
   ],
   "source": [
    "matrix_cor_precios = cor(matrix_data)\n",
    "matrix_cor_precios"
   ]
  },
  {
   "cell_type": "markdown",
   "id": "2590cd99-6519-49e4-9844-3e38fcb43d33",
   "metadata": {},
   "source": [
    "#### d) Matriz de Correlación (logaritmos de los ratios)"
   ]
  },
  {
   "cell_type": "code",
   "execution_count": 31,
   "id": "86de4f77-66c2-469a-ab99-d8814b20b372",
   "metadata": {},
   "outputs": [],
   "source": [
    "matrix_ratios = matrix(c(logA, logB, logC, logD), ncol = 4)"
   ]
  },
  {
   "cell_type": "code",
   "execution_count": 32,
   "id": "a87da621-20f4-423a-850f-7b0cdb12c6a8",
   "metadata": {},
   "outputs": [
    {
     "data": {
      "text/html": [
       "<table class=\"dataframe\">\n",
       "<caption>A matrix: 4 × 4 of type dbl</caption>\n",
       "<tbody>\n",
       "\t<tr><td>1.0000000</td><td>0.2927874</td><td>0.5354339</td><td>0.3112515</td></tr>\n",
       "\t<tr><td>0.2927874</td><td>1.0000000</td><td>0.2722732</td><td>0.4196191</td></tr>\n",
       "\t<tr><td>0.5354339</td><td>0.2722732</td><td>1.0000000</td><td>0.3301906</td></tr>\n",
       "\t<tr><td>0.3112515</td><td>0.4196191</td><td>0.3301906</td><td>1.0000000</td></tr>\n",
       "</tbody>\n",
       "</table>\n"
      ],
      "text/latex": [
       "A matrix: 4 × 4 of type dbl\n",
       "\\begin{tabular}{llll}\n",
       "\t 1.0000000 & 0.2927874 & 0.5354339 & 0.3112515\\\\\n",
       "\t 0.2927874 & 1.0000000 & 0.2722732 & 0.4196191\\\\\n",
       "\t 0.5354339 & 0.2722732 & 1.0000000 & 0.3301906\\\\\n",
       "\t 0.3112515 & 0.4196191 & 0.3301906 & 1.0000000\\\\\n",
       "\\end{tabular}\n"
      ],
      "text/markdown": [
       "\n",
       "A matrix: 4 × 4 of type dbl\n",
       "\n",
       "| 1.0000000 | 0.2927874 | 0.5354339 | 0.3112515 |\n",
       "| 0.2927874 | 1.0000000 | 0.2722732 | 0.4196191 |\n",
       "| 0.5354339 | 0.2722732 | 1.0000000 | 0.3301906 |\n",
       "| 0.3112515 | 0.4196191 | 0.3301906 | 1.0000000 |\n",
       "\n"
      ],
      "text/plain": [
       "     [,1]      [,2]      [,3]      [,4]     \n",
       "[1,] 1.0000000 0.2927874 0.5354339 0.3112515\n",
       "[2,] 0.2927874 1.0000000 0.2722732 0.4196191\n",
       "[3,] 0.5354339 0.2722732 1.0000000 0.3301906\n",
       "[4,] 0.3112515 0.4196191 0.3301906 1.0000000"
      ]
     },
     "metadata": {},
     "output_type": "display_data"
    }
   ],
   "source": [
    "matrix_cor_ratios = cor(matrix_ratios, use = \"complete.obs\")\n",
    "matrix_cor_ratios"
   ]
  },
  {
   "cell_type": "markdown",
   "id": "9a71d8a6-6ce0-47de-b0a1-7463eec8ab66",
   "metadata": {},
   "source": [
    "#### e) Muestras de log-ratio"
   ]
  },
  {
   "cell_type": "code",
   "execution_count": 33,
   "id": "64d3aa67-7792-4ca5-b30a-afba84a86bb2",
   "metadata": {},
   "outputs": [
    {
     "data": {
      "text/html": [
       "<table class=\"dataframe\">\n",
       "<caption>A matrix: 4 × 4 of type dbl</caption>\n",
       "<tbody>\n",
       "\t<tr><td>1.0000000</td><td>0.0000000</td><td>0.0000000</td><td>0.0000000</td></tr>\n",
       "\t<tr><td>0.2927874</td><td>0.9561776</td><td>0.0000000</td><td>0.0000000</td></tr>\n",
       "\t<tr><td>0.5354339</td><td>0.1207986</td><td>0.8358937</td><td>0.0000000</td></tr>\n",
       "\t<tr><td>0.3112515</td><td>0.3435435</td><td>0.1459951</td><td>0.8739484</td></tr>\n",
       "</tbody>\n",
       "</table>\n"
      ],
      "text/latex": [
       "A matrix: 4 × 4 of type dbl\n",
       "\\begin{tabular}{llll}\n",
       "\t 1.0000000 & 0.0000000 & 0.0000000 & 0.0000000\\\\\n",
       "\t 0.2927874 & 0.9561776 & 0.0000000 & 0.0000000\\\\\n",
       "\t 0.5354339 & 0.1207986 & 0.8358937 & 0.0000000\\\\\n",
       "\t 0.3112515 & 0.3435435 & 0.1459951 & 0.8739484\\\\\n",
       "\\end{tabular}\n"
      ],
      "text/markdown": [
       "\n",
       "A matrix: 4 × 4 of type dbl\n",
       "\n",
       "| 1.0000000 | 0.0000000 | 0.0000000 | 0.0000000 |\n",
       "| 0.2927874 | 0.9561776 | 0.0000000 | 0.0000000 |\n",
       "| 0.5354339 | 0.1207986 | 0.8358937 | 0.0000000 |\n",
       "| 0.3112515 | 0.3435435 | 0.1459951 | 0.8739484 |\n",
       "\n"
      ],
      "text/plain": [
       "     [,1]      [,2]      [,3]      [,4]     \n",
       "[1,] 1.0000000 0.0000000 0.0000000 0.0000000\n",
       "[2,] 0.2927874 0.9561776 0.0000000 0.0000000\n",
       "[3,] 0.5354339 0.1207986 0.8358937 0.0000000\n",
       "[4,] 0.3112515 0.3435435 0.1459951 0.8739484"
      ]
     },
     "metadata": {},
     "output_type": "display_data"
    }
   ],
   "source": [
    "cholesky = t(chol(matrix_cor_ratios))\n",
    "cholesky"
   ]
  },
  {
   "cell_type": "code",
   "execution_count": 34,
   "id": "27bf001b-5f34-4a10-ad83-c48c2beb7880",
   "metadata": {},
   "outputs": [],
   "source": [
    "z=c()"
   ]
  },
  {
   "cell_type": "code",
   "execution_count": 35,
   "id": "e1baa20b-d4dc-4c8c-a418-208c3c0b9f48",
   "metadata": {},
   "outputs": [],
   "source": [
    "sample_A=rnorm(N,medA,sd_A)\n",
    "sample_B=rnorm(N,medB,sd_B)\n",
    "sample_C=rnorm(N,medC,sd_C)\n",
    "sample_D=rnorm(N,medD,sd_D)"
   ]
  },
  {
   "cell_type": "code",
   "execution_count": 36,
   "id": "436e74a8-57cb-4c68-a69c-35042e173198",
   "metadata": {},
   "outputs": [
    {
     "data": {
      "text/html": [
       "<style>\n",
       ".list-inline {list-style: none; margin:0; padding: 0}\n",
       ".list-inline>li {display: inline-block}\n",
       ".list-inline>li:not(:last-child)::after {content: \"\\00b7\"; padding: 0 .5ex}\n",
       "</style>\n",
       "<ol class=list-inline><li>0.00178269076480718</li><li>0.00120763091485799</li><li>0.00153558921314861</li><li>0.00114699057726214</li></ol>\n"
      ],
      "text/latex": [
       "\\begin{enumerate*}\n",
       "\\item 0.00178269076480718\n",
       "\\item 0.00120763091485799\n",
       "\\item 0.00153558921314861\n",
       "\\item 0.00114699057726214\n",
       "\\end{enumerate*}\n"
      ],
      "text/markdown": [
       "1. 0.00178269076480718\n",
       "2. 0.00120763091485799\n",
       "3. 0.00153558921314861\n",
       "4. 0.00114699057726214\n",
       "\n",
       "\n"
      ],
      "text/plain": [
       "[1] 0.001782691 0.001207631 0.001535589 0.001146991"
      ]
     },
     "metadata": {},
     "output_type": "display_data"
    }
   ],
   "source": [
    "vector_medias = c(medA,medB,medC,medD)\n",
    "vector_medias"
   ]
  },
  {
   "cell_type": "code",
   "execution_count": 58,
   "id": "6603c38e-a47b-4931-9e3c-fe8a85881e90",
   "metadata": {},
   "outputs": [],
   "source": [
    "matrix_muestras =c()"
   ]
  },
  {
   "cell_type": "code",
   "execution_count": 59,
   "id": "3450bdb2-5790-4f84-83d1-b16c416df7b8",
   "metadata": {},
   "outputs": [],
   "source": [
    "for (i in 1:N){\n",
    "    z=(vector_medias)+cholesky%*%c(sample_A[i],sample_B[i],sample_C[i],sample_D[i])\n",
    "    matrix_muestras=rbind(matrix_muestras,t(z))\n",
    "    }"
   ]
  },
  {
   "cell_type": "code",
   "execution_count": 60,
   "id": "588c7d69-129c-49b8-855d-438a9c7b3826",
   "metadata": {},
   "outputs": [
    {
     "data": {
      "text/html": [
       "<table class=\"dataframe\">\n",
       "<caption>A matrix: 1600 × 4 of type dbl</caption>\n",
       "<tbody>\n",
       "\t<tr><td> 0.0032924362</td><td>-0.0174380096</td><td>-0.0191626258</td><td>-2.005578e-02</td></tr>\n",
       "\t<tr><td> 0.0689469610</td><td> 0.0296811224</td><td> 0.0131494544</td><td> 1.220705e-02</td></tr>\n",
       "\t<tr><td> 0.0220626180</td><td> 0.0065768649</td><td> 0.0300054685</td><td>-5.414545e-03</td></tr>\n",
       "\t<tr><td> 0.0167056216</td><td> 0.0079301114</td><td> 0.0303837975</td><td>-4.743541e-02</td></tr>\n",
       "\t<tr><td> 0.0145913723</td><td> 0.0611708843</td><td> 0.0309618718</td><td> 1.501469e-02</td></tr>\n",
       "\t<tr><td> 0.0231594435</td><td>-0.0110804658</td><td> 0.0001867725</td><td>-3.740632e-02</td></tr>\n",
       "\t<tr><td> 0.0160562918</td><td>-0.0243489741</td><td> 0.0134205502</td><td> 1.592446e-02</td></tr>\n",
       "\t<tr><td> 0.0004991995</td><td> 0.0026538341</td><td>-0.0214901498</td><td> 8.744450e-03</td></tr>\n",
       "\t<tr><td> 0.0151424856</td><td> 0.0564304042</td><td>-0.0025422875</td><td> 3.195804e-02</td></tr>\n",
       "\t<tr><td>-0.0133442239</td><td>-0.0456530453</td><td> 0.0128043646</td><td> 2.461561e-03</td></tr>\n",
       "\t<tr><td>-0.0135819011</td><td> 0.0029024264</td><td>-0.0044185311</td><td>-7.541978e-03</td></tr>\n",
       "\t<tr><td>-0.0131721892</td><td> 0.0083692906</td><td>-0.0101626723</td><td> 3.781438e-02</td></tr>\n",
       "\t<tr><td> 0.0444431982</td><td> 0.0011342335</td><td> 0.0274633474</td><td> 4.346506e-02</td></tr>\n",
       "\t<tr><td> 0.0045966425</td><td>-0.0238147547</td><td>-0.0123392204</td><td>-2.159184e-03</td></tr>\n",
       "\t<tr><td> 0.0359396448</td><td> 0.0237561723</td><td> 0.0257734141</td><td> 3.329402e-02</td></tr>\n",
       "\t<tr><td> 0.0076821419</td><td>-0.0200160386</td><td>-0.0095916537</td><td>-1.585045e-02</td></tr>\n",
       "\t<tr><td>-0.0077284545</td><td> 0.0041867833</td><td> 0.0043961736</td><td> 1.758342e-02</td></tr>\n",
       "\t<tr><td> 0.0376168597</td><td> 0.0170822613</td><td> 0.0306928717</td><td>-7.699804e-06</td></tr>\n",
       "\t<tr><td>-0.0091590482</td><td> 0.0250402524</td><td>-0.0047392278</td><td>-4.653013e-02</td></tr>\n",
       "\t<tr><td>-0.0561796134</td><td> 0.0138922114</td><td>-0.0131941863</td><td> 2.389502e-02</td></tr>\n",
       "\t<tr><td> 0.0066892580</td><td> 0.0219577055</td><td> 0.0151174890</td><td> 5.636209e-02</td></tr>\n",
       "\t<tr><td> 0.0079714311</td><td> 0.0183898968</td><td> 0.0060707251</td><td> 3.477877e-02</td></tr>\n",
       "\t<tr><td>-0.0172239729</td><td>-0.0087222055</td><td> 0.0062008612</td><td>-3.551375e-02</td></tr>\n",
       "\t<tr><td>-0.0050746984</td><td>-0.0318975310</td><td> 0.0109986592</td><td> 1.264090e-02</td></tr>\n",
       "\t<tr><td> 0.0303016277</td><td> 0.0190248396</td><td> 0.0158631883</td><td>-1.096052e-02</td></tr>\n",
       "\t<tr><td>-0.0121315858</td><td> 0.0277476344</td><td>-0.0123559525</td><td> 2.867447e-02</td></tr>\n",
       "\t<tr><td>-0.0007981491</td><td> 0.0003928223</td><td> 0.0070851126</td><td>-2.292827e-02</td></tr>\n",
       "\t<tr><td> 0.0262447759</td><td>-0.0157375084</td><td> 0.0134571948</td><td> 2.564094e-02</td></tr>\n",
       "\t<tr><td> 0.0176421046</td><td>-0.0235949067</td><td>-0.0072075090</td><td>-7.802319e-03</td></tr>\n",
       "\t<tr><td> 0.0166830021</td><td> 0.0088411236</td><td>-0.0257253169</td><td> 1.948622e-02</td></tr>\n",
       "\t<tr><td>⋮</td><td>⋮</td><td>⋮</td><td>⋮</td></tr>\n",
       "\t<tr><td> 0.002982828</td><td>-0.002411496</td><td> 0.003243111</td><td> 0.0080922594</td></tr>\n",
       "\t<tr><td> 0.015847808</td><td>-0.026357732</td><td> 0.009043297</td><td>-0.0057111229</td></tr>\n",
       "\t<tr><td>-0.049518292</td><td>-0.044981779</td><td>-0.006187907</td><td>-0.0221610253</td></tr>\n",
       "\t<tr><td> 0.024022449</td><td> 0.015057116</td><td>-0.006183243</td><td> 0.0342880192</td></tr>\n",
       "\t<tr><td> 0.001557270</td><td>-0.005159119</td><td> 0.005171492</td><td> 0.0048955131</td></tr>\n",
       "\t<tr><td> 0.049426596</td><td> 0.012413093</td><td> 0.037431663</td><td>-0.0049697529</td></tr>\n",
       "\t<tr><td> 0.021895206</td><td> 0.018585580</td><td> 0.011699680</td><td> 0.0432615500</td></tr>\n",
       "\t<tr><td> 0.051621138</td><td> 0.049915464</td><td> 0.036086833</td><td> 0.0198181416</td></tr>\n",
       "\t<tr><td>-0.023381288</td><td>-0.021189820</td><td>-0.037623135</td><td>-0.0095135218</td></tr>\n",
       "\t<tr><td>-0.015462091</td><td>-0.003928144</td><td> 0.008215267</td><td>-0.0301913893</td></tr>\n",
       "\t<tr><td>-0.013532265</td><td> 0.025374479</td><td>-0.007468309</td><td>-0.0060161178</td></tr>\n",
       "\t<tr><td> 0.026810136</td><td>-0.031765249</td><td> 0.049713202</td><td>-0.0081537080</td></tr>\n",
       "\t<tr><td>-0.013855904</td><td>-0.026955466</td><td>-0.002819736</td><td>-0.0103548204</td></tr>\n",
       "\t<tr><td> 0.016794088</td><td>-0.001848566</td><td> 0.009344729</td><td> 0.0269482677</td></tr>\n",
       "\t<tr><td> 0.015474445</td><td>-0.007340941</td><td> 0.025427519</td><td>-0.0217887275</td></tr>\n",
       "\t<tr><td>-0.026716728</td><td>-0.011386395</td><td>-0.019265660</td><td>-0.0057642802</td></tr>\n",
       "\t<tr><td> 0.011153921</td><td> 0.010605528</td><td> 0.027450332</td><td> 0.0217561824</td></tr>\n",
       "\t<tr><td> 0.022040866</td><td> 0.044168164</td><td> 0.015701863</td><td> 0.0357605468</td></tr>\n",
       "\t<tr><td>-0.042352898</td><td>-0.041763378</td><td>-0.007980984</td><td>-0.0244937279</td></tr>\n",
       "\t<tr><td> 0.080962702</td><td> 0.032808716</td><td> 0.036289754</td><td> 0.0641704975</td></tr>\n",
       "\t<tr><td> 0.025726999</td><td> 0.012384905</td><td> 0.034953091</td><td> 0.0294164358</td></tr>\n",
       "\t<tr><td>-0.003921092</td><td>-0.007540036</td><td> 0.011038232</td><td> 0.0001769685</td></tr>\n",
       "\t<tr><td> 0.001009209</td><td> 0.010367433</td><td> 0.008135249</td><td> 0.0247531722</td></tr>\n",
       "\t<tr><td> 0.048616637</td><td> 0.057388628</td><td> 0.013524706</td><td> 0.0165525732</td></tr>\n",
       "\t<tr><td>-0.009317662</td><td>-0.001102085</td><td> 0.002018419</td><td> 0.0030616453</td></tr>\n",
       "\t<tr><td> 0.014421770</td><td>-0.006415074</td><td>-0.002083168</td><td> 0.0093986694</td></tr>\n",
       "\t<tr><td>-0.033131415</td><td> 0.027305791</td><td> 0.006469667</td><td> 0.0317093414</td></tr>\n",
       "\t<tr><td> 0.005010106</td><td>-0.009567672</td><td> 0.019109548</td><td>-0.0066768677</td></tr>\n",
       "\t<tr><td> 0.024713776</td><td> 0.014596381</td><td> 0.029418901</td><td> 0.0297193512</td></tr>\n",
       "\t<tr><td>-0.012490241</td><td> 0.050484900</td><td> 0.013685387</td><td>-0.0109395790</td></tr>\n",
       "</tbody>\n",
       "</table>\n"
      ],
      "text/latex": [
       "A matrix: 1600 × 4 of type dbl\n",
       "\\begin{tabular}{llll}\n",
       "\t  0.0032924362 & -0.0174380096 & -0.0191626258 & -2.005578e-02\\\\\n",
       "\t  0.0689469610 &  0.0296811224 &  0.0131494544 &  1.220705e-02\\\\\n",
       "\t  0.0220626180 &  0.0065768649 &  0.0300054685 & -5.414545e-03\\\\\n",
       "\t  0.0167056216 &  0.0079301114 &  0.0303837975 & -4.743541e-02\\\\\n",
       "\t  0.0145913723 &  0.0611708843 &  0.0309618718 &  1.501469e-02\\\\\n",
       "\t  0.0231594435 & -0.0110804658 &  0.0001867725 & -3.740632e-02\\\\\n",
       "\t  0.0160562918 & -0.0243489741 &  0.0134205502 &  1.592446e-02\\\\\n",
       "\t  0.0004991995 &  0.0026538341 & -0.0214901498 &  8.744450e-03\\\\\n",
       "\t  0.0151424856 &  0.0564304042 & -0.0025422875 &  3.195804e-02\\\\\n",
       "\t -0.0133442239 & -0.0456530453 &  0.0128043646 &  2.461561e-03\\\\\n",
       "\t -0.0135819011 &  0.0029024264 & -0.0044185311 & -7.541978e-03\\\\\n",
       "\t -0.0131721892 &  0.0083692906 & -0.0101626723 &  3.781438e-02\\\\\n",
       "\t  0.0444431982 &  0.0011342335 &  0.0274633474 &  4.346506e-02\\\\\n",
       "\t  0.0045966425 & -0.0238147547 & -0.0123392204 & -2.159184e-03\\\\\n",
       "\t  0.0359396448 &  0.0237561723 &  0.0257734141 &  3.329402e-02\\\\\n",
       "\t  0.0076821419 & -0.0200160386 & -0.0095916537 & -1.585045e-02\\\\\n",
       "\t -0.0077284545 &  0.0041867833 &  0.0043961736 &  1.758342e-02\\\\\n",
       "\t  0.0376168597 &  0.0170822613 &  0.0306928717 & -7.699804e-06\\\\\n",
       "\t -0.0091590482 &  0.0250402524 & -0.0047392278 & -4.653013e-02\\\\\n",
       "\t -0.0561796134 &  0.0138922114 & -0.0131941863 &  2.389502e-02\\\\\n",
       "\t  0.0066892580 &  0.0219577055 &  0.0151174890 &  5.636209e-02\\\\\n",
       "\t  0.0079714311 &  0.0183898968 &  0.0060707251 &  3.477877e-02\\\\\n",
       "\t -0.0172239729 & -0.0087222055 &  0.0062008612 & -3.551375e-02\\\\\n",
       "\t -0.0050746984 & -0.0318975310 &  0.0109986592 &  1.264090e-02\\\\\n",
       "\t  0.0303016277 &  0.0190248396 &  0.0158631883 & -1.096052e-02\\\\\n",
       "\t -0.0121315858 &  0.0277476344 & -0.0123559525 &  2.867447e-02\\\\\n",
       "\t -0.0007981491 &  0.0003928223 &  0.0070851126 & -2.292827e-02\\\\\n",
       "\t  0.0262447759 & -0.0157375084 &  0.0134571948 &  2.564094e-02\\\\\n",
       "\t  0.0176421046 & -0.0235949067 & -0.0072075090 & -7.802319e-03\\\\\n",
       "\t  0.0166830021 &  0.0088411236 & -0.0257253169 &  1.948622e-02\\\\\n",
       "\t ⋮ & ⋮ & ⋮ & ⋮\\\\\n",
       "\t  0.002982828 & -0.002411496 &  0.003243111 &  0.0080922594\\\\\n",
       "\t  0.015847808 & -0.026357732 &  0.009043297 & -0.0057111229\\\\\n",
       "\t -0.049518292 & -0.044981779 & -0.006187907 & -0.0221610253\\\\\n",
       "\t  0.024022449 &  0.015057116 & -0.006183243 &  0.0342880192\\\\\n",
       "\t  0.001557270 & -0.005159119 &  0.005171492 &  0.0048955131\\\\\n",
       "\t  0.049426596 &  0.012413093 &  0.037431663 & -0.0049697529\\\\\n",
       "\t  0.021895206 &  0.018585580 &  0.011699680 &  0.0432615500\\\\\n",
       "\t  0.051621138 &  0.049915464 &  0.036086833 &  0.0198181416\\\\\n",
       "\t -0.023381288 & -0.021189820 & -0.037623135 & -0.0095135218\\\\\n",
       "\t -0.015462091 & -0.003928144 &  0.008215267 & -0.0301913893\\\\\n",
       "\t -0.013532265 &  0.025374479 & -0.007468309 & -0.0060161178\\\\\n",
       "\t  0.026810136 & -0.031765249 &  0.049713202 & -0.0081537080\\\\\n",
       "\t -0.013855904 & -0.026955466 & -0.002819736 & -0.0103548204\\\\\n",
       "\t  0.016794088 & -0.001848566 &  0.009344729 &  0.0269482677\\\\\n",
       "\t  0.015474445 & -0.007340941 &  0.025427519 & -0.0217887275\\\\\n",
       "\t -0.026716728 & -0.011386395 & -0.019265660 & -0.0057642802\\\\\n",
       "\t  0.011153921 &  0.010605528 &  0.027450332 &  0.0217561824\\\\\n",
       "\t  0.022040866 &  0.044168164 &  0.015701863 &  0.0357605468\\\\\n",
       "\t -0.042352898 & -0.041763378 & -0.007980984 & -0.0244937279\\\\\n",
       "\t  0.080962702 &  0.032808716 &  0.036289754 &  0.0641704975\\\\\n",
       "\t  0.025726999 &  0.012384905 &  0.034953091 &  0.0294164358\\\\\n",
       "\t -0.003921092 & -0.007540036 &  0.011038232 &  0.0001769685\\\\\n",
       "\t  0.001009209 &  0.010367433 &  0.008135249 &  0.0247531722\\\\\n",
       "\t  0.048616637 &  0.057388628 &  0.013524706 &  0.0165525732\\\\\n",
       "\t -0.009317662 & -0.001102085 &  0.002018419 &  0.0030616453\\\\\n",
       "\t  0.014421770 & -0.006415074 & -0.002083168 &  0.0093986694\\\\\n",
       "\t -0.033131415 &  0.027305791 &  0.006469667 &  0.0317093414\\\\\n",
       "\t  0.005010106 & -0.009567672 &  0.019109548 & -0.0066768677\\\\\n",
       "\t  0.024713776 &  0.014596381 &  0.029418901 &  0.0297193512\\\\\n",
       "\t -0.012490241 &  0.050484900 &  0.013685387 & -0.0109395790\\\\\n",
       "\\end{tabular}\n"
      ],
      "text/markdown": [
       "\n",
       "A matrix: 1600 × 4 of type dbl\n",
       "\n",
       "|  0.0032924362 | -0.0174380096 | -0.0191626258 | -2.005578e-02 |\n",
       "|  0.0689469610 |  0.0296811224 |  0.0131494544 |  1.220705e-02 |\n",
       "|  0.0220626180 |  0.0065768649 |  0.0300054685 | -5.414545e-03 |\n",
       "|  0.0167056216 |  0.0079301114 |  0.0303837975 | -4.743541e-02 |\n",
       "|  0.0145913723 |  0.0611708843 |  0.0309618718 |  1.501469e-02 |\n",
       "|  0.0231594435 | -0.0110804658 |  0.0001867725 | -3.740632e-02 |\n",
       "|  0.0160562918 | -0.0243489741 |  0.0134205502 |  1.592446e-02 |\n",
       "|  0.0004991995 |  0.0026538341 | -0.0214901498 |  8.744450e-03 |\n",
       "|  0.0151424856 |  0.0564304042 | -0.0025422875 |  3.195804e-02 |\n",
       "| -0.0133442239 | -0.0456530453 |  0.0128043646 |  2.461561e-03 |\n",
       "| -0.0135819011 |  0.0029024264 | -0.0044185311 | -7.541978e-03 |\n",
       "| -0.0131721892 |  0.0083692906 | -0.0101626723 |  3.781438e-02 |\n",
       "|  0.0444431982 |  0.0011342335 |  0.0274633474 |  4.346506e-02 |\n",
       "|  0.0045966425 | -0.0238147547 | -0.0123392204 | -2.159184e-03 |\n",
       "|  0.0359396448 |  0.0237561723 |  0.0257734141 |  3.329402e-02 |\n",
       "|  0.0076821419 | -0.0200160386 | -0.0095916537 | -1.585045e-02 |\n",
       "| -0.0077284545 |  0.0041867833 |  0.0043961736 |  1.758342e-02 |\n",
       "|  0.0376168597 |  0.0170822613 |  0.0306928717 | -7.699804e-06 |\n",
       "| -0.0091590482 |  0.0250402524 | -0.0047392278 | -4.653013e-02 |\n",
       "| -0.0561796134 |  0.0138922114 | -0.0131941863 |  2.389502e-02 |\n",
       "|  0.0066892580 |  0.0219577055 |  0.0151174890 |  5.636209e-02 |\n",
       "|  0.0079714311 |  0.0183898968 |  0.0060707251 |  3.477877e-02 |\n",
       "| -0.0172239729 | -0.0087222055 |  0.0062008612 | -3.551375e-02 |\n",
       "| -0.0050746984 | -0.0318975310 |  0.0109986592 |  1.264090e-02 |\n",
       "|  0.0303016277 |  0.0190248396 |  0.0158631883 | -1.096052e-02 |\n",
       "| -0.0121315858 |  0.0277476344 | -0.0123559525 |  2.867447e-02 |\n",
       "| -0.0007981491 |  0.0003928223 |  0.0070851126 | -2.292827e-02 |\n",
       "|  0.0262447759 | -0.0157375084 |  0.0134571948 |  2.564094e-02 |\n",
       "|  0.0176421046 | -0.0235949067 | -0.0072075090 | -7.802319e-03 |\n",
       "|  0.0166830021 |  0.0088411236 | -0.0257253169 |  1.948622e-02 |\n",
       "| ⋮ | ⋮ | ⋮ | ⋮ |\n",
       "|  0.002982828 | -0.002411496 |  0.003243111 |  0.0080922594 |\n",
       "|  0.015847808 | -0.026357732 |  0.009043297 | -0.0057111229 |\n",
       "| -0.049518292 | -0.044981779 | -0.006187907 | -0.0221610253 |\n",
       "|  0.024022449 |  0.015057116 | -0.006183243 |  0.0342880192 |\n",
       "|  0.001557270 | -0.005159119 |  0.005171492 |  0.0048955131 |\n",
       "|  0.049426596 |  0.012413093 |  0.037431663 | -0.0049697529 |\n",
       "|  0.021895206 |  0.018585580 |  0.011699680 |  0.0432615500 |\n",
       "|  0.051621138 |  0.049915464 |  0.036086833 |  0.0198181416 |\n",
       "| -0.023381288 | -0.021189820 | -0.037623135 | -0.0095135218 |\n",
       "| -0.015462091 | -0.003928144 |  0.008215267 | -0.0301913893 |\n",
       "| -0.013532265 |  0.025374479 | -0.007468309 | -0.0060161178 |\n",
       "|  0.026810136 | -0.031765249 |  0.049713202 | -0.0081537080 |\n",
       "| -0.013855904 | -0.026955466 | -0.002819736 | -0.0103548204 |\n",
       "|  0.016794088 | -0.001848566 |  0.009344729 |  0.0269482677 |\n",
       "|  0.015474445 | -0.007340941 |  0.025427519 | -0.0217887275 |\n",
       "| -0.026716728 | -0.011386395 | -0.019265660 | -0.0057642802 |\n",
       "|  0.011153921 |  0.010605528 |  0.027450332 |  0.0217561824 |\n",
       "|  0.022040866 |  0.044168164 |  0.015701863 |  0.0357605468 |\n",
       "| -0.042352898 | -0.041763378 | -0.007980984 | -0.0244937279 |\n",
       "|  0.080962702 |  0.032808716 |  0.036289754 |  0.0641704975 |\n",
       "|  0.025726999 |  0.012384905 |  0.034953091 |  0.0294164358 |\n",
       "| -0.003921092 | -0.007540036 |  0.011038232 |  0.0001769685 |\n",
       "|  0.001009209 |  0.010367433 |  0.008135249 |  0.0247531722 |\n",
       "|  0.048616637 |  0.057388628 |  0.013524706 |  0.0165525732 |\n",
       "| -0.009317662 | -0.001102085 |  0.002018419 |  0.0030616453 |\n",
       "|  0.014421770 | -0.006415074 | -0.002083168 |  0.0093986694 |\n",
       "| -0.033131415 |  0.027305791 |  0.006469667 |  0.0317093414 |\n",
       "|  0.005010106 | -0.009567672 |  0.019109548 | -0.0066768677 |\n",
       "|  0.024713776 |  0.014596381 |  0.029418901 |  0.0297193512 |\n",
       "| -0.012490241 |  0.050484900 |  0.013685387 | -0.0109395790 |\n",
       "\n"
      ],
      "text/plain": [
       "      [,1]          [,2]          [,3]          [,4]         \n",
       " [1,]  0.0032924362 -0.0174380096 -0.0191626258 -2.005578e-02\n",
       " [2,]  0.0689469610  0.0296811224  0.0131494544  1.220705e-02\n",
       " [3,]  0.0220626180  0.0065768649  0.0300054685 -5.414545e-03\n",
       " [4,]  0.0167056216  0.0079301114  0.0303837975 -4.743541e-02\n",
       " [5,]  0.0145913723  0.0611708843  0.0309618718  1.501469e-02\n",
       " [6,]  0.0231594435 -0.0110804658  0.0001867725 -3.740632e-02\n",
       " [7,]  0.0160562918 -0.0243489741  0.0134205502  1.592446e-02\n",
       " [8,]  0.0004991995  0.0026538341 -0.0214901498  8.744450e-03\n",
       " [9,]  0.0151424856  0.0564304042 -0.0025422875  3.195804e-02\n",
       "[10,] -0.0133442239 -0.0456530453  0.0128043646  2.461561e-03\n",
       "[11,] -0.0135819011  0.0029024264 -0.0044185311 -7.541978e-03\n",
       "[12,] -0.0131721892  0.0083692906 -0.0101626723  3.781438e-02\n",
       "[13,]  0.0444431982  0.0011342335  0.0274633474  4.346506e-02\n",
       "[14,]  0.0045966425 -0.0238147547 -0.0123392204 -2.159184e-03\n",
       "[15,]  0.0359396448  0.0237561723  0.0257734141  3.329402e-02\n",
       "[16,]  0.0076821419 -0.0200160386 -0.0095916537 -1.585045e-02\n",
       "[17,] -0.0077284545  0.0041867833  0.0043961736  1.758342e-02\n",
       "[18,]  0.0376168597  0.0170822613  0.0306928717 -7.699804e-06\n",
       "[19,] -0.0091590482  0.0250402524 -0.0047392278 -4.653013e-02\n",
       "[20,] -0.0561796134  0.0138922114 -0.0131941863  2.389502e-02\n",
       "[21,]  0.0066892580  0.0219577055  0.0151174890  5.636209e-02\n",
       "[22,]  0.0079714311  0.0183898968  0.0060707251  3.477877e-02\n",
       "[23,] -0.0172239729 -0.0087222055  0.0062008612 -3.551375e-02\n",
       "[24,] -0.0050746984 -0.0318975310  0.0109986592  1.264090e-02\n",
       "[25,]  0.0303016277  0.0190248396  0.0158631883 -1.096052e-02\n",
       "[26,] -0.0121315858  0.0277476344 -0.0123559525  2.867447e-02\n",
       "[27,] -0.0007981491  0.0003928223  0.0070851126 -2.292827e-02\n",
       "[28,]  0.0262447759 -0.0157375084  0.0134571948  2.564094e-02\n",
       "[29,]  0.0176421046 -0.0235949067 -0.0072075090 -7.802319e-03\n",
       "[30,]  0.0166830021  0.0088411236 -0.0257253169  1.948622e-02\n",
       "[31,] ⋮             ⋮             ⋮             ⋮            \n",
       "[32,]  0.002982828  -0.002411496   0.003243111   0.0080922594\n",
       "[33,]  0.015847808  -0.026357732   0.009043297  -0.0057111229\n",
       "[34,] -0.049518292  -0.044981779  -0.006187907  -0.0221610253\n",
       "[35,]  0.024022449   0.015057116  -0.006183243   0.0342880192\n",
       "[36,]  0.001557270  -0.005159119   0.005171492   0.0048955131\n",
       "[37,]  0.049426596   0.012413093   0.037431663  -0.0049697529\n",
       "[38,]  0.021895206   0.018585580   0.011699680   0.0432615500\n",
       "[39,]  0.051621138   0.049915464   0.036086833   0.0198181416\n",
       "[40,] -0.023381288  -0.021189820  -0.037623135  -0.0095135218\n",
       "[41,] -0.015462091  -0.003928144   0.008215267  -0.0301913893\n",
       "[42,] -0.013532265   0.025374479  -0.007468309  -0.0060161178\n",
       "[43,]  0.026810136  -0.031765249   0.049713202  -0.0081537080\n",
       "[44,] -0.013855904  -0.026955466  -0.002819736  -0.0103548204\n",
       "[45,]  0.016794088  -0.001848566   0.009344729   0.0269482677\n",
       "[46,]  0.015474445  -0.007340941   0.025427519  -0.0217887275\n",
       "[47,] -0.026716728  -0.011386395  -0.019265660  -0.0057642802\n",
       "[48,]  0.011153921   0.010605528   0.027450332   0.0217561824\n",
       "[49,]  0.022040866   0.044168164   0.015701863   0.0357605468\n",
       "[50,] -0.042352898  -0.041763378  -0.007980984  -0.0244937279\n",
       "[51,]  0.080962702   0.032808716   0.036289754   0.0641704975\n",
       "[52,]  0.025726999   0.012384905   0.034953091   0.0294164358\n",
       "[53,] -0.003921092  -0.007540036   0.011038232   0.0001769685\n",
       "[54,]  0.001009209   0.010367433   0.008135249   0.0247531722\n",
       "[55,]  0.048616637   0.057388628   0.013524706   0.0165525732\n",
       "[56,] -0.009317662  -0.001102085   0.002018419   0.0030616453\n",
       "[57,]  0.014421770  -0.006415074  -0.002083168   0.0093986694\n",
       "[58,] -0.033131415   0.027305791   0.006469667   0.0317093414\n",
       "[59,]  0.005010106  -0.009567672   0.019109548  -0.0066768677\n",
       "[60,]  0.024713776   0.014596381   0.029418901   0.0297193512\n",
       "[61,] -0.012490241   0.050484900   0.013685387  -0.0109395790"
      ]
     },
     "metadata": {},
     "output_type": "display_data"
    }
   ],
   "source": [
    "matrix_muestras"
   ]
  },
  {
   "cell_type": "code",
   "execution_count": 62,
   "id": "494cc553-0114-4537-9c72-fc6ae1866ad3",
   "metadata": {},
   "outputs": [
    {
     "data": {
      "text/html": [
       "<style>\n",
       ".list-inline {list-style: none; margin:0; padding: 0}\n",
       ".list-inline>li {display: inline-block}\n",
       ".list-inline>li:not(:last-child)::after {content: \"\\00b7\"; padding: 0 .5ex}\n",
       "</style>\n",
       "<ol class=list-inline><li>0.00329243621687191</li><li>0.068946961043012</li><li>0.0220626179560762</li><li>0.016705621614335</li><li>0.014591372340519</li><li>0.0231594434989172</li><li>0.0160562918255242</li><li>0.000499199511776904</li><li>0.0151424855935993</li><li>-0.0133442239496685</li><li>-0.0135819011350366</li><li>-0.0131721892098108</li><li>0.044443198154187</li><li>0.00459664248788498</li><li>0.0359396448122895</li><li>0.00768214193349724</li><li>-0.0077284545259251</li><li>0.0376168596996657</li><li>-0.009159048164901</li><li>-0.0561796134088662</li><li>0.00668925804831916</li><li>0.00797143107266649</li><li>-0.0172239728875052</li><li>-0.00507469838753019</li><li>0.0303016277448265</li><li>-0.0121315858285616</li><li>-0.000798149106678131</li><li>0.0262447759429779</li><li>0.017642104578461</li><li>0.0166830020733361</li><li>-0.0236363132536586</li><li>-0.00168624000608685</li><li>-0.00885064911765463</li><li>-0.0195443417088323</li><li>0.032406383717468</li><li>0.0511554787314285</li><li>0.0240091033064944</li><li>-0.0128940033977202</li><li>0.00637050041889299</li><li>0.0185760241253043</li><li>-0.00105043137733884</li><li>-0.014125336234476</li><li>0.019485839801996</li><li>0.0076311934308525</li><li>-0.0147838170100516</li><li>0.000960986215658034</li><li>0.032324475429775</li><li>-0.00823603175645504</li><li>0.0271915139082227</li><li>-0.0222268308978144</li><li>0.0145087944401874</li><li>-0.0169044782540788</li><li>0.0146417971311201</li><li>-0.00516178138881922</li><li>-0.00716094688283143</li><li>-0.00126800676280769</li><li>-0.0109979115460616</li><li>0.0382399094602302</li><li>-0.000675542054728078</li><li>-0.0256067690615221</li><li>-0.00629490577004114</li><li>-0.0203317331682227</li><li>0.025624507110054</li><li>-0.0159612067471769</li><li>-0.00185343227374815</li><li>-0.00448647879417872</li><li>0.0170738104439225</li><li>-0.029991380839995</li><li>-0.0525666138440285</li><li>0.0134886144731119</li><li>0.00956960898355708</li><li>0.00343649135527973</li><li>-0.0146774193579571</li><li>0.06331717731915</li><li>0.0417751048314486</li><li>-0.00138885894591689</li><li>-0.0103901036478576</li><li>0.00877458952362674</li><li>0.041396070335846</li><li>0.0173927098153746</li><li>0.000698223349123003</li><li>0.00340384679354714</li><li>0.0135127863564769</li><li>-0.00394586441068373</li><li>0.0112353237547794</li><li>-0.0294949637832825</li><li>-0.00773650820473951</li><li>0.019780552807608</li><li>-0.0201789018523506</li><li>-0.00424356229455833</li><li>-0.0100701577740625</li><li>-0.0156476843553826</li><li>-0.0211636364131625</li><li>0.015314869506338</li><li>0.0491974136812548</li><li>0.0170108890796221</li><li>0.0290535310457598</li><li>0.013320570446949</li><li>0.00484982096470873</li><li>0.0147531329618289</li><li>0.00251402351795319</li><li>0.0066696281038484</li><li>0.0328332912421054</li><li>-0.0171623243251561</li><li>0.0125132687606325</li><li>0.00842262874570129</li><li>0.00150693056977774</li><li>-0.0310548566009433</li><li>0.0336918010865062</li><li>-0.0180230220351796</li><li>0.00656433638555408</li><li>0.00832944849267253</li><li>-0.0337258792968788</li><li>-0.0333069470329777</li><li>0.0244042897814427</li><li>0.000641202645539437</li><li>-0.0202729512222987</li><li>0.0418474866104461</li><li>-0.0265330695578285</li><li>0.0226487313638229</li><li>0.00264774531726441</li><li>0.0274748669847337</li><li>-0.00304892110029765</li><li>-0.0140051609065519</li><li>-0.00246072332586885</li><li>-0.0157399862373851</li><li>-0.00175988042847735</li><li>-0.00985587095565415</li><li>0.00487681147368514</li><li>0.00433734450774079</li><li>0.0304904937513079</li><li>-0.025138792486034</li><li>0.0132657015811703</li><li>-0.0105957767857412</li><li>0.0289518560940279</li><li>0.0677554358423594</li><li>-0.0490877270478584</li><li>-0.00162175217786449</li><li>0.0242815197935295</li><li>0.02058508327776</li><li>-0.0225761449324691</li><li>0.0161549518716274</li><li>-0.0221784609462795</li><li>0.0358733327623627</li><li>0.00300817658185159</li><li>0.00831532226807374</li><li>0.0617815789843604</li><li>0.0467026086440983</li><li>0.00123210574667159</li><li>0.0698197489168432</li><li>-0.0249158181319985</li><li>-0.0276929725766502</li><li>-0.00148957137695103</li><li>0.00757157232794058</li><li>-0.00598228230353466</li><li>-0.0184735232363312</li><li>-0.0212747195312883</li><li>0.0255468179409303</li><li>0.00241230076716079</li><li>-0.0352802315956834</li><li>0.0217516302025915</li><li>0.0232630549613804</li><li>-0.0329605159780992</li><li>0.00899828574444285</li><li>0.0203505957461869</li><li>-0.0171475515914934</li><li>-0.0108135834591313</li><li>-0.0387580664689693</li><li>-0.0177285950324049</li><li>-0.0186017173235085</li><li>-0.0284958861681173</li><li>-0.00115124990922002</li><li>0.013468498892432</li><li>-0.0288163991401114</li><li>-0.012195947119403</li><li>-0.00183174724865077</li><li>-0.017830257239104</li><li>-0.0448164582043751</li><li>0.00203092018224676</li><li>0.00646722958740076</li><li>0.0108934703955755</li><li>0.0154017741378506</li><li>-0.0353969824035436</li><li>0.027409534639249</li><li>-0.00554202500819585</li><li>-0.0483212016520878</li><li>0.0505270015489822</li><li>0.0104090843200926</li><li>-0.0115202982445653</li><li>-0.020629452214974</li><li>0.0110347722786533</li><li>-0.0272604305104004</li><li>0.0190406151058507</li><li>0.028602320971433</li><li>-0.00414983292256562</li><li>-0.0181910680152324</li><li>-0.0136877881688382</li><li>0.0186365447941836</li><li>-0.0088338116743839</li><li>-0.0142833263212741</li><li>⋯</li><li>0.0488415154044831</li><li>-0.024631069783442</li><li>0.0035874685486859</li><li>-0.0227620072305954</li><li>-0.0224190024389022</li><li>-0.0121397460675651</li><li>-0.0362213409412988</li><li>-0.0210531771336238</li><li>-0.00345479149942925</li><li>0.0394488391367981</li><li>0.0201178729974437</li><li>0.0018732706659854</li><li>0.0502994925820512</li><li>-0.0190585348638899</li><li>-0.0298524493164656</li><li>0.0417777824550606</li><li>-0.0333841676161948</li><li>-4.50553243519451e-05</li><li>-0.0287593766819904</li><li>0.0216740734003711</li><li>-0.00111750158316111</li><li>-0.00231647322262096</li><li>0.00348662846954131</li><li>-0.00285819449431159</li><li>0.0181096810015758</li><li>0.0172136715646006</li><li>0.0210431551576502</li><li>0.0106754147344612</li><li>0.00660580712689709</li><li>-0.0373883668355507</li><li>0.0320592017098371</li><li>-0.0024868086823736</li><li>0.0330896340983819</li><li>0.0048233349274476</li><li>0.00164762503928456</li><li>-0.0230123521255887</li><li>0.00185943824961385</li><li>0.0268970647420927</li><li>-0.0157712483039264</li><li>-0.00574542760278043</li><li>0.0205788238020812</li><li>-0.000543917514634173</li><li>0.00830057198917314</li><li>-0.026354994880196</li><li>-0.0255816145692078</li><li>0.0215649290968631</li><li>0.00515522419485554</li><li>-0.0177511915768117</li><li>0.0271073936530698</li><li>0.00124722848019345</li><li>0.0562711218281878</li><li>0.0234408572019138</li><li>-0.0198873751629201</li><li>0.00459170293680553</li><li>-0.0163519916293834</li><li>-0.0146432082348765</li><li>-0.00803458953943935</li><li>-0.0276129441790696</li><li>-0.0260722829220708</li><li>0.0166961982784613</li><li>0.0169906148162701</li><li>-0.00339369412194089</li><li>0.0132038503982264</li><li>-0.0190590137045706</li><li>0.0236512530209778</li><li>-0.00988149852123303</li><li>0.00900026667128027</li><li>-0.0462794131876224</li><li>0.0157124147303751</li><li>-0.0290223465072605</li><li>-0.052771709015826</li><li>-0.0108444745847427</li><li>0.0357783979677413</li><li>0.0339995706860159</li><li>0.0255436392965703</li><li>0.0240806889715863</li><li>0.0199156006227524</li><li>-0.0144307027568588</li><li>-0.0065034630700574</li><li>-0.0123715654325289</li><li>0.0362911011244679</li><li>0.00152744916130253</li><li>0.0188747902398905</li><li>0.0128283587487653</li><li>0.0227901314705362</li><li>-0.042725333928302</li><li>0.0467947663090213</li><li>0.034956189865018</li><li>-0.0285532311270781</li><li>0.0334401379870016</li><li>-0.00464606943892734</li><li>0.0177724326836968</li><li>0.0170015966963584</li><li>-0.00434273261555109</li><li>0.0497406824160991</li><li>0.0163378168161717</li><li>-0.0125817148613587</li><li>-0.00226232569590175</li><li>0.0788787120242329</li><li>-0.0415827510163302</li><li>0.00506461784583355</li><li>-0.0225492912663859</li><li>-0.00749055295110188</li><li>-0.0432481042908679</li><li>0.000667011751697501</li><li>-0.00161459109601585</li><li>-0.0112767153031565</li><li>0.024931320621876</li><li>0.0537711779736573</li><li>-0.017485007807061</li><li>0.00946407404273235</li><li>-0.00726057539751848</li><li>0.0144284517662705</li><li>0.00785170367613639</li><li>-0.0319111964129722</li><li>0.00920542547206593</li><li>-0.0162942653785302</li><li>-0.0257993513160659</li><li>0.0286420029837562</li><li>-0.0138141827211031</li><li>0.0274318326360302</li><li>-0.017917581376199</li><li>-0.0035939315461779</li><li>-0.00492371086950284</li><li>0.0133490040761357</li><li>0.0402400074666805</li><li>0.00932257105254169</li><li>-0.0239570889241504</li><li>-0.00727817283650296</li><li>-0.00170219920893564</li><li>-0.0090439096914975</li><li>0.012648438054321</li><li>-0.017985795499656</li><li>-0.000357815301498502</li><li>0.0102619930882076</li><li>-0.015476398893815</li><li>-0.0103688062788971</li><li>-0.0262102930231783</li><li>0.0130428565754994</li><li>0.0120745656683956</li><li>-0.00877694171681238</li><li>0.046609946979744</li><li>0.0184588401100934</li><li>-0.0218808227445849</li><li>0.0143600992434856</li><li>-0.0131351343083058</li><li>0.0500187922634262</li><li>-0.0106235788510776</li><li>0.0131493696224543</li><li>-0.00781283413905213</li><li>0.0153295685940627</li><li>-0.0112175173018267</li><li>0.0271365361041805</li><li>-0.020546812745961</li><li>-0.0232018567365539</li><li>-0.00725041295057257</li><li>-0.0132085690954128</li><li>0.0044037532098822</li><li>0.0419916269319401</li><li>0.0369743699976896</li><li>-0.0237820156918768</li><li>0.0391104221055145</li><li>0.0208195540928508</li><li>-0.0133398062866429</li><li>0.0564493414039691</li><li>0.00300765467992733</li><li>0.0494999890525104</li><li>0.0256434200339003</li><li>0.0296500398665077</li><li>0.0160493037580666</li><li>0.00298282782781746</li><li>0.015847807999273</li><li>-0.0495182923787925</li><li>0.02402244860511</li><li>0.00155726996661162</li><li>0.0494265957965585</li><li>0.0218952059325951</li><li>0.0516211382605085</li><li>-0.0233812884189868</li><li>-0.0154620913189008</li><li>-0.013532264658461</li><li>0.0268101362887508</li><li>-0.0138559040837148</li><li>0.0167940883813511</li><li>0.0154744448176612</li><li>-0.0267167281816751</li><li>0.0111539207264572</li><li>0.0220408660106068</li><li>-0.0423528977095486</li><li>0.0809627018789221</li><li>0.0257269992753909</li><li>-0.00392109194339508</li><li>0.00100920879278109</li><li>0.0486166368841436</li><li>-0.0093176616991641</li><li>0.0144217697421619</li><li>-0.0331314146309802</li><li>0.00501010649078643</li><li>0.0247137761562967</li><li>-0.0124902411224654</li></ol>\n"
      ],
      "text/latex": [
       "\\begin{enumerate*}\n",
       "\\item 0.00329243621687191\n",
       "\\item 0.068946961043012\n",
       "\\item 0.0220626179560762\n",
       "\\item 0.016705621614335\n",
       "\\item 0.014591372340519\n",
       "\\item 0.0231594434989172\n",
       "\\item 0.0160562918255242\n",
       "\\item 0.000499199511776904\n",
       "\\item 0.0151424855935993\n",
       "\\item -0.0133442239496685\n",
       "\\item -0.0135819011350366\n",
       "\\item -0.0131721892098108\n",
       "\\item 0.044443198154187\n",
       "\\item 0.00459664248788498\n",
       "\\item 0.0359396448122895\n",
       "\\item 0.00768214193349724\n",
       "\\item -0.0077284545259251\n",
       "\\item 0.0376168596996657\n",
       "\\item -0.009159048164901\n",
       "\\item -0.0561796134088662\n",
       "\\item 0.00668925804831916\n",
       "\\item 0.00797143107266649\n",
       "\\item -0.0172239728875052\n",
       "\\item -0.00507469838753019\n",
       "\\item 0.0303016277448265\n",
       "\\item -0.0121315858285616\n",
       "\\item -0.000798149106678131\n",
       "\\item 0.0262447759429779\n",
       "\\item 0.017642104578461\n",
       "\\item 0.0166830020733361\n",
       "\\item -0.0236363132536586\n",
       "\\item -0.00168624000608685\n",
       "\\item -0.00885064911765463\n",
       "\\item -0.0195443417088323\n",
       "\\item 0.032406383717468\n",
       "\\item 0.0511554787314285\n",
       "\\item 0.0240091033064944\n",
       "\\item -0.0128940033977202\n",
       "\\item 0.00637050041889299\n",
       "\\item 0.0185760241253043\n",
       "\\item -0.00105043137733884\n",
       "\\item -0.014125336234476\n",
       "\\item 0.019485839801996\n",
       "\\item 0.0076311934308525\n",
       "\\item -0.0147838170100516\n",
       "\\item 0.000960986215658034\n",
       "\\item 0.032324475429775\n",
       "\\item -0.00823603175645504\n",
       "\\item 0.0271915139082227\n",
       "\\item -0.0222268308978144\n",
       "\\item 0.0145087944401874\n",
       "\\item -0.0169044782540788\n",
       "\\item 0.0146417971311201\n",
       "\\item -0.00516178138881922\n",
       "\\item -0.00716094688283143\n",
       "\\item -0.00126800676280769\n",
       "\\item -0.0109979115460616\n",
       "\\item 0.0382399094602302\n",
       "\\item -0.000675542054728078\n",
       "\\item -0.0256067690615221\n",
       "\\item -0.00629490577004114\n",
       "\\item -0.0203317331682227\n",
       "\\item 0.025624507110054\n",
       "\\item -0.0159612067471769\n",
       "\\item -0.00185343227374815\n",
       "\\item -0.00448647879417872\n",
       "\\item 0.0170738104439225\n",
       "\\item -0.029991380839995\n",
       "\\item -0.0525666138440285\n",
       "\\item 0.0134886144731119\n",
       "\\item 0.00956960898355708\n",
       "\\item 0.00343649135527973\n",
       "\\item -0.0146774193579571\n",
       "\\item 0.06331717731915\n",
       "\\item 0.0417751048314486\n",
       "\\item -0.00138885894591689\n",
       "\\item -0.0103901036478576\n",
       "\\item 0.00877458952362674\n",
       "\\item 0.041396070335846\n",
       "\\item 0.0173927098153746\n",
       "\\item 0.000698223349123003\n",
       "\\item 0.00340384679354714\n",
       "\\item 0.0135127863564769\n",
       "\\item -0.00394586441068373\n",
       "\\item 0.0112353237547794\n",
       "\\item -0.0294949637832825\n",
       "\\item -0.00773650820473951\n",
       "\\item 0.019780552807608\n",
       "\\item -0.0201789018523506\n",
       "\\item -0.00424356229455833\n",
       "\\item -0.0100701577740625\n",
       "\\item -0.0156476843553826\n",
       "\\item -0.0211636364131625\n",
       "\\item 0.015314869506338\n",
       "\\item 0.0491974136812548\n",
       "\\item 0.0170108890796221\n",
       "\\item 0.0290535310457598\n",
       "\\item 0.013320570446949\n",
       "\\item 0.00484982096470873\n",
       "\\item 0.0147531329618289\n",
       "\\item 0.00251402351795319\n",
       "\\item 0.0066696281038484\n",
       "\\item 0.0328332912421054\n",
       "\\item -0.0171623243251561\n",
       "\\item 0.0125132687606325\n",
       "\\item 0.00842262874570129\n",
       "\\item 0.00150693056977774\n",
       "\\item -0.0310548566009433\n",
       "\\item 0.0336918010865062\n",
       "\\item -0.0180230220351796\n",
       "\\item 0.00656433638555408\n",
       "\\item 0.00832944849267253\n",
       "\\item -0.0337258792968788\n",
       "\\item -0.0333069470329777\n",
       "\\item 0.0244042897814427\n",
       "\\item 0.000641202645539437\n",
       "\\item -0.0202729512222987\n",
       "\\item 0.0418474866104461\n",
       "\\item -0.0265330695578285\n",
       "\\item 0.0226487313638229\n",
       "\\item 0.00264774531726441\n",
       "\\item 0.0274748669847337\n",
       "\\item -0.00304892110029765\n",
       "\\item -0.0140051609065519\n",
       "\\item -0.00246072332586885\n",
       "\\item -0.0157399862373851\n",
       "\\item -0.00175988042847735\n",
       "\\item -0.00985587095565415\n",
       "\\item 0.00487681147368514\n",
       "\\item 0.00433734450774079\n",
       "\\item 0.0304904937513079\n",
       "\\item -0.025138792486034\n",
       "\\item 0.0132657015811703\n",
       "\\item -0.0105957767857412\n",
       "\\item 0.0289518560940279\n",
       "\\item 0.0677554358423594\n",
       "\\item -0.0490877270478584\n",
       "\\item -0.00162175217786449\n",
       "\\item 0.0242815197935295\n",
       "\\item 0.02058508327776\n",
       "\\item -0.0225761449324691\n",
       "\\item 0.0161549518716274\n",
       "\\item -0.0221784609462795\n",
       "\\item 0.0358733327623627\n",
       "\\item 0.00300817658185159\n",
       "\\item 0.00831532226807374\n",
       "\\item 0.0617815789843604\n",
       "\\item 0.0467026086440983\n",
       "\\item 0.00123210574667159\n",
       "\\item 0.0698197489168432\n",
       "\\item -0.0249158181319985\n",
       "\\item -0.0276929725766502\n",
       "\\item -0.00148957137695103\n",
       "\\item 0.00757157232794058\n",
       "\\item -0.00598228230353466\n",
       "\\item -0.0184735232363312\n",
       "\\item -0.0212747195312883\n",
       "\\item 0.0255468179409303\n",
       "\\item 0.00241230076716079\n",
       "\\item -0.0352802315956834\n",
       "\\item 0.0217516302025915\n",
       "\\item 0.0232630549613804\n",
       "\\item -0.0329605159780992\n",
       "\\item 0.00899828574444285\n",
       "\\item 0.0203505957461869\n",
       "\\item -0.0171475515914934\n",
       "\\item -0.0108135834591313\n",
       "\\item -0.0387580664689693\n",
       "\\item -0.0177285950324049\n",
       "\\item -0.0186017173235085\n",
       "\\item -0.0284958861681173\n",
       "\\item -0.00115124990922002\n",
       "\\item 0.013468498892432\n",
       "\\item -0.0288163991401114\n",
       "\\item -0.012195947119403\n",
       "\\item -0.00183174724865077\n",
       "\\item -0.017830257239104\n",
       "\\item -0.0448164582043751\n",
       "\\item 0.00203092018224676\n",
       "\\item 0.00646722958740076\n",
       "\\item 0.0108934703955755\n",
       "\\item 0.0154017741378506\n",
       "\\item -0.0353969824035436\n",
       "\\item 0.027409534639249\n",
       "\\item -0.00554202500819585\n",
       "\\item -0.0483212016520878\n",
       "\\item 0.0505270015489822\n",
       "\\item 0.0104090843200926\n",
       "\\item -0.0115202982445653\n",
       "\\item -0.020629452214974\n",
       "\\item 0.0110347722786533\n",
       "\\item -0.0272604305104004\n",
       "\\item 0.0190406151058507\n",
       "\\item 0.028602320971433\n",
       "\\item -0.00414983292256562\n",
       "\\item -0.0181910680152324\n",
       "\\item -0.0136877881688382\n",
       "\\item 0.0186365447941836\n",
       "\\item -0.0088338116743839\n",
       "\\item -0.0142833263212741\n",
       "\\item ⋯\n",
       "\\item 0.0488415154044831\n",
       "\\item -0.024631069783442\n",
       "\\item 0.0035874685486859\n",
       "\\item -0.0227620072305954\n",
       "\\item -0.0224190024389022\n",
       "\\item -0.0121397460675651\n",
       "\\item -0.0362213409412988\n",
       "\\item -0.0210531771336238\n",
       "\\item -0.00345479149942925\n",
       "\\item 0.0394488391367981\n",
       "\\item 0.0201178729974437\n",
       "\\item 0.0018732706659854\n",
       "\\item 0.0502994925820512\n",
       "\\item -0.0190585348638899\n",
       "\\item -0.0298524493164656\n",
       "\\item 0.0417777824550606\n",
       "\\item -0.0333841676161948\n",
       "\\item -4.50553243519451e-05\n",
       "\\item -0.0287593766819904\n",
       "\\item 0.0216740734003711\n",
       "\\item -0.00111750158316111\n",
       "\\item -0.00231647322262096\n",
       "\\item 0.00348662846954131\n",
       "\\item -0.00285819449431159\n",
       "\\item 0.0181096810015758\n",
       "\\item 0.0172136715646006\n",
       "\\item 0.0210431551576502\n",
       "\\item 0.0106754147344612\n",
       "\\item 0.00660580712689709\n",
       "\\item -0.0373883668355507\n",
       "\\item 0.0320592017098371\n",
       "\\item -0.0024868086823736\n",
       "\\item 0.0330896340983819\n",
       "\\item 0.0048233349274476\n",
       "\\item 0.00164762503928456\n",
       "\\item -0.0230123521255887\n",
       "\\item 0.00185943824961385\n",
       "\\item 0.0268970647420927\n",
       "\\item -0.0157712483039264\n",
       "\\item -0.00574542760278043\n",
       "\\item 0.0205788238020812\n",
       "\\item -0.000543917514634173\n",
       "\\item 0.00830057198917314\n",
       "\\item -0.026354994880196\n",
       "\\item -0.0255816145692078\n",
       "\\item 0.0215649290968631\n",
       "\\item 0.00515522419485554\n",
       "\\item -0.0177511915768117\n",
       "\\item 0.0271073936530698\n",
       "\\item 0.00124722848019345\n",
       "\\item 0.0562711218281878\n",
       "\\item 0.0234408572019138\n",
       "\\item -0.0198873751629201\n",
       "\\item 0.00459170293680553\n",
       "\\item -0.0163519916293834\n",
       "\\item -0.0146432082348765\n",
       "\\item -0.00803458953943935\n",
       "\\item -0.0276129441790696\n",
       "\\item -0.0260722829220708\n",
       "\\item 0.0166961982784613\n",
       "\\item 0.0169906148162701\n",
       "\\item -0.00339369412194089\n",
       "\\item 0.0132038503982264\n",
       "\\item -0.0190590137045706\n",
       "\\item 0.0236512530209778\n",
       "\\item -0.00988149852123303\n",
       "\\item 0.00900026667128027\n",
       "\\item -0.0462794131876224\n",
       "\\item 0.0157124147303751\n",
       "\\item -0.0290223465072605\n",
       "\\item -0.052771709015826\n",
       "\\item -0.0108444745847427\n",
       "\\item 0.0357783979677413\n",
       "\\item 0.0339995706860159\n",
       "\\item 0.0255436392965703\n",
       "\\item 0.0240806889715863\n",
       "\\item 0.0199156006227524\n",
       "\\item -0.0144307027568588\n",
       "\\item -0.0065034630700574\n",
       "\\item -0.0123715654325289\n",
       "\\item 0.0362911011244679\n",
       "\\item 0.00152744916130253\n",
       "\\item 0.0188747902398905\n",
       "\\item 0.0128283587487653\n",
       "\\item 0.0227901314705362\n",
       "\\item -0.042725333928302\n",
       "\\item 0.0467947663090213\n",
       "\\item 0.034956189865018\n",
       "\\item -0.0285532311270781\n",
       "\\item 0.0334401379870016\n",
       "\\item -0.00464606943892734\n",
       "\\item 0.0177724326836968\n",
       "\\item 0.0170015966963584\n",
       "\\item -0.00434273261555109\n",
       "\\item 0.0497406824160991\n",
       "\\item 0.0163378168161717\n",
       "\\item -0.0125817148613587\n",
       "\\item -0.00226232569590175\n",
       "\\item 0.0788787120242329\n",
       "\\item -0.0415827510163302\n",
       "\\item 0.00506461784583355\n",
       "\\item -0.0225492912663859\n",
       "\\item -0.00749055295110188\n",
       "\\item -0.0432481042908679\n",
       "\\item 0.000667011751697501\n",
       "\\item -0.00161459109601585\n",
       "\\item -0.0112767153031565\n",
       "\\item 0.024931320621876\n",
       "\\item 0.0537711779736573\n",
       "\\item -0.017485007807061\n",
       "\\item 0.00946407404273235\n",
       "\\item -0.00726057539751848\n",
       "\\item 0.0144284517662705\n",
       "\\item 0.00785170367613639\n",
       "\\item -0.0319111964129722\n",
       "\\item 0.00920542547206593\n",
       "\\item -0.0162942653785302\n",
       "\\item -0.0257993513160659\n",
       "\\item 0.0286420029837562\n",
       "\\item -0.0138141827211031\n",
       "\\item 0.0274318326360302\n",
       "\\item -0.017917581376199\n",
       "\\item -0.0035939315461779\n",
       "\\item -0.00492371086950284\n",
       "\\item 0.0133490040761357\n",
       "\\item 0.0402400074666805\n",
       "\\item 0.00932257105254169\n",
       "\\item -0.0239570889241504\n",
       "\\item -0.00727817283650296\n",
       "\\item -0.00170219920893564\n",
       "\\item -0.0090439096914975\n",
       "\\item 0.012648438054321\n",
       "\\item -0.017985795499656\n",
       "\\item -0.000357815301498502\n",
       "\\item 0.0102619930882076\n",
       "\\item -0.015476398893815\n",
       "\\item -0.0103688062788971\n",
       "\\item -0.0262102930231783\n",
       "\\item 0.0130428565754994\n",
       "\\item 0.0120745656683956\n",
       "\\item -0.00877694171681238\n",
       "\\item 0.046609946979744\n",
       "\\item 0.0184588401100934\n",
       "\\item -0.0218808227445849\n",
       "\\item 0.0143600992434856\n",
       "\\item -0.0131351343083058\n",
       "\\item 0.0500187922634262\n",
       "\\item -0.0106235788510776\n",
       "\\item 0.0131493696224543\n",
       "\\item -0.00781283413905213\n",
       "\\item 0.0153295685940627\n",
       "\\item -0.0112175173018267\n",
       "\\item 0.0271365361041805\n",
       "\\item -0.020546812745961\n",
       "\\item -0.0232018567365539\n",
       "\\item -0.00725041295057257\n",
       "\\item -0.0132085690954128\n",
       "\\item 0.0044037532098822\n",
       "\\item 0.0419916269319401\n",
       "\\item 0.0369743699976896\n",
       "\\item -0.0237820156918768\n",
       "\\item 0.0391104221055145\n",
       "\\item 0.0208195540928508\n",
       "\\item -0.0133398062866429\n",
       "\\item 0.0564493414039691\n",
       "\\item 0.00300765467992733\n",
       "\\item 0.0494999890525104\n",
       "\\item 0.0256434200339003\n",
       "\\item 0.0296500398665077\n",
       "\\item 0.0160493037580666\n",
       "\\item 0.00298282782781746\n",
       "\\item 0.015847807999273\n",
       "\\item -0.0495182923787925\n",
       "\\item 0.02402244860511\n",
       "\\item 0.00155726996661162\n",
       "\\item 0.0494265957965585\n",
       "\\item 0.0218952059325951\n",
       "\\item 0.0516211382605085\n",
       "\\item -0.0233812884189868\n",
       "\\item -0.0154620913189008\n",
       "\\item -0.013532264658461\n",
       "\\item 0.0268101362887508\n",
       "\\item -0.0138559040837148\n",
       "\\item 0.0167940883813511\n",
       "\\item 0.0154744448176612\n",
       "\\item -0.0267167281816751\n",
       "\\item 0.0111539207264572\n",
       "\\item 0.0220408660106068\n",
       "\\item -0.0423528977095486\n",
       "\\item 0.0809627018789221\n",
       "\\item 0.0257269992753909\n",
       "\\item -0.00392109194339508\n",
       "\\item 0.00100920879278109\n",
       "\\item 0.0486166368841436\n",
       "\\item -0.0093176616991641\n",
       "\\item 0.0144217697421619\n",
       "\\item -0.0331314146309802\n",
       "\\item 0.00501010649078643\n",
       "\\item 0.0247137761562967\n",
       "\\item -0.0124902411224654\n",
       "\\end{enumerate*}\n"
      ],
      "text/markdown": [
       "1. 0.00329243621687191\n",
       "2. 0.068946961043012\n",
       "3. 0.0220626179560762\n",
       "4. 0.016705621614335\n",
       "5. 0.014591372340519\n",
       "6. 0.0231594434989172\n",
       "7. 0.0160562918255242\n",
       "8. 0.000499199511776904\n",
       "9. 0.0151424855935993\n",
       "10. -0.0133442239496685\n",
       "11. -0.0135819011350366\n",
       "12. -0.0131721892098108\n",
       "13. 0.044443198154187\n",
       "14. 0.00459664248788498\n",
       "15. 0.0359396448122895\n",
       "16. 0.00768214193349724\n",
       "17. -0.0077284545259251\n",
       "18. 0.0376168596996657\n",
       "19. -0.009159048164901\n",
       "20. -0.0561796134088662\n",
       "21. 0.00668925804831916\n",
       "22. 0.00797143107266649\n",
       "23. -0.0172239728875052\n",
       "24. -0.00507469838753019\n",
       "25. 0.0303016277448265\n",
       "26. -0.0121315858285616\n",
       "27. -0.000798149106678131\n",
       "28. 0.0262447759429779\n",
       "29. 0.017642104578461\n",
       "30. 0.0166830020733361\n",
       "31. -0.0236363132536586\n",
       "32. -0.00168624000608685\n",
       "33. -0.00885064911765463\n",
       "34. -0.0195443417088323\n",
       "35. 0.032406383717468\n",
       "36. 0.0511554787314285\n",
       "37. 0.0240091033064944\n",
       "38. -0.0128940033977202\n",
       "39. 0.00637050041889299\n",
       "40. 0.0185760241253043\n",
       "41. -0.00105043137733884\n",
       "42. -0.014125336234476\n",
       "43. 0.019485839801996\n",
       "44. 0.0076311934308525\n",
       "45. -0.0147838170100516\n",
       "46. 0.000960986215658034\n",
       "47. 0.032324475429775\n",
       "48. -0.00823603175645504\n",
       "49. 0.0271915139082227\n",
       "50. -0.0222268308978144\n",
       "51. 0.0145087944401874\n",
       "52. -0.0169044782540788\n",
       "53. 0.0146417971311201\n",
       "54. -0.00516178138881922\n",
       "55. -0.00716094688283143\n",
       "56. -0.00126800676280769\n",
       "57. -0.0109979115460616\n",
       "58. 0.0382399094602302\n",
       "59. -0.000675542054728078\n",
       "60. -0.0256067690615221\n",
       "61. -0.00629490577004114\n",
       "62. -0.0203317331682227\n",
       "63. 0.025624507110054\n",
       "64. -0.0159612067471769\n",
       "65. -0.00185343227374815\n",
       "66. -0.00448647879417872\n",
       "67. 0.0170738104439225\n",
       "68. -0.029991380839995\n",
       "69. -0.0525666138440285\n",
       "70. 0.0134886144731119\n",
       "71. 0.00956960898355708\n",
       "72. 0.00343649135527973\n",
       "73. -0.0146774193579571\n",
       "74. 0.06331717731915\n",
       "75. 0.0417751048314486\n",
       "76. -0.00138885894591689\n",
       "77. -0.0103901036478576\n",
       "78. 0.00877458952362674\n",
       "79. 0.041396070335846\n",
       "80. 0.0173927098153746\n",
       "81. 0.000698223349123003\n",
       "82. 0.00340384679354714\n",
       "83. 0.0135127863564769\n",
       "84. -0.00394586441068373\n",
       "85. 0.0112353237547794\n",
       "86. -0.0294949637832825\n",
       "87. -0.00773650820473951\n",
       "88. 0.019780552807608\n",
       "89. -0.0201789018523506\n",
       "90. -0.00424356229455833\n",
       "91. -0.0100701577740625\n",
       "92. -0.0156476843553826\n",
       "93. -0.0211636364131625\n",
       "94. 0.015314869506338\n",
       "95. 0.0491974136812548\n",
       "96. 0.0170108890796221\n",
       "97. 0.0290535310457598\n",
       "98. 0.013320570446949\n",
       "99. 0.00484982096470873\n",
       "100. 0.0147531329618289\n",
       "101. 0.00251402351795319\n",
       "102. 0.0066696281038484\n",
       "103. 0.0328332912421054\n",
       "104. -0.0171623243251561\n",
       "105. 0.0125132687606325\n",
       "106. 0.00842262874570129\n",
       "107. 0.00150693056977774\n",
       "108. -0.0310548566009433\n",
       "109. 0.0336918010865062\n",
       "110. -0.0180230220351796\n",
       "111. 0.00656433638555408\n",
       "112. 0.00832944849267253\n",
       "113. -0.0337258792968788\n",
       "114. -0.0333069470329777\n",
       "115. 0.0244042897814427\n",
       "116. 0.000641202645539437\n",
       "117. -0.0202729512222987\n",
       "118. 0.0418474866104461\n",
       "119. -0.0265330695578285\n",
       "120. 0.0226487313638229\n",
       "121. 0.00264774531726441\n",
       "122. 0.0274748669847337\n",
       "123. -0.00304892110029765\n",
       "124. -0.0140051609065519\n",
       "125. -0.00246072332586885\n",
       "126. -0.0157399862373851\n",
       "127. -0.00175988042847735\n",
       "128. -0.00985587095565415\n",
       "129. 0.00487681147368514\n",
       "130. 0.00433734450774079\n",
       "131. 0.0304904937513079\n",
       "132. -0.025138792486034\n",
       "133. 0.0132657015811703\n",
       "134. -0.0105957767857412\n",
       "135. 0.0289518560940279\n",
       "136. 0.0677554358423594\n",
       "137. -0.0490877270478584\n",
       "138. -0.00162175217786449\n",
       "139. 0.0242815197935295\n",
       "140. 0.02058508327776\n",
       "141. -0.0225761449324691\n",
       "142. 0.0161549518716274\n",
       "143. -0.0221784609462795\n",
       "144. 0.0358733327623627\n",
       "145. 0.00300817658185159\n",
       "146. 0.00831532226807374\n",
       "147. 0.0617815789843604\n",
       "148. 0.0467026086440983\n",
       "149. 0.00123210574667159\n",
       "150. 0.0698197489168432\n",
       "151. -0.0249158181319985\n",
       "152. -0.0276929725766502\n",
       "153. -0.00148957137695103\n",
       "154. 0.00757157232794058\n",
       "155. -0.00598228230353466\n",
       "156. -0.0184735232363312\n",
       "157. -0.0212747195312883\n",
       "158. 0.0255468179409303\n",
       "159. 0.00241230076716079\n",
       "160. -0.0352802315956834\n",
       "161. 0.0217516302025915\n",
       "162. 0.0232630549613804\n",
       "163. -0.0329605159780992\n",
       "164. 0.00899828574444285\n",
       "165. 0.0203505957461869\n",
       "166. -0.0171475515914934\n",
       "167. -0.0108135834591313\n",
       "168. -0.0387580664689693\n",
       "169. -0.0177285950324049\n",
       "170. -0.0186017173235085\n",
       "171. -0.0284958861681173\n",
       "172. -0.00115124990922002\n",
       "173. 0.013468498892432\n",
       "174. -0.0288163991401114\n",
       "175. -0.012195947119403\n",
       "176. -0.00183174724865077\n",
       "177. -0.017830257239104\n",
       "178. -0.0448164582043751\n",
       "179. 0.00203092018224676\n",
       "180. 0.00646722958740076\n",
       "181. 0.0108934703955755\n",
       "182. 0.0154017741378506\n",
       "183. -0.0353969824035436\n",
       "184. 0.027409534639249\n",
       "185. -0.00554202500819585\n",
       "186. -0.0483212016520878\n",
       "187. 0.0505270015489822\n",
       "188. 0.0104090843200926\n",
       "189. -0.0115202982445653\n",
       "190. -0.020629452214974\n",
       "191. 0.0110347722786533\n",
       "192. -0.0272604305104004\n",
       "193. 0.0190406151058507\n",
       "194. 0.028602320971433\n",
       "195. -0.00414983292256562\n",
       "196. -0.0181910680152324\n",
       "197. -0.0136877881688382\n",
       "198. 0.0186365447941836\n",
       "199. -0.0088338116743839\n",
       "200. -0.0142833263212741\n",
       "201. ⋯\n",
       "202. 0.0488415154044831\n",
       "203. -0.024631069783442\n",
       "204. 0.0035874685486859\n",
       "205. -0.0227620072305954\n",
       "206. -0.0224190024389022\n",
       "207. -0.0121397460675651\n",
       "208. -0.0362213409412988\n",
       "209. -0.0210531771336238\n",
       "210. -0.00345479149942925\n",
       "211. 0.0394488391367981\n",
       "212. 0.0201178729974437\n",
       "213. 0.0018732706659854\n",
       "214. 0.0502994925820512\n",
       "215. -0.0190585348638899\n",
       "216. -0.0298524493164656\n",
       "217. 0.0417777824550606\n",
       "218. -0.0333841676161948\n",
       "219. -4.50553243519451e-05\n",
       "220. -0.0287593766819904\n",
       "221. 0.0216740734003711\n",
       "222. -0.00111750158316111\n",
       "223. -0.00231647322262096\n",
       "224. 0.00348662846954131\n",
       "225. -0.00285819449431159\n",
       "226. 0.0181096810015758\n",
       "227. 0.0172136715646006\n",
       "228. 0.0210431551576502\n",
       "229. 0.0106754147344612\n",
       "230. 0.00660580712689709\n",
       "231. -0.0373883668355507\n",
       "232. 0.0320592017098371\n",
       "233. -0.0024868086823736\n",
       "234. 0.0330896340983819\n",
       "235. 0.0048233349274476\n",
       "236. 0.00164762503928456\n",
       "237. -0.0230123521255887\n",
       "238. 0.00185943824961385\n",
       "239. 0.0268970647420927\n",
       "240. -0.0157712483039264\n",
       "241. -0.00574542760278043\n",
       "242. 0.0205788238020812\n",
       "243. -0.000543917514634173\n",
       "244. 0.00830057198917314\n",
       "245. -0.026354994880196\n",
       "246. -0.0255816145692078\n",
       "247. 0.0215649290968631\n",
       "248. 0.00515522419485554\n",
       "249. -0.0177511915768117\n",
       "250. 0.0271073936530698\n",
       "251. 0.00124722848019345\n",
       "252. 0.0562711218281878\n",
       "253. 0.0234408572019138\n",
       "254. -0.0198873751629201\n",
       "255. 0.00459170293680553\n",
       "256. -0.0163519916293834\n",
       "257. -0.0146432082348765\n",
       "258. -0.00803458953943935\n",
       "259. -0.0276129441790696\n",
       "260. -0.0260722829220708\n",
       "261. 0.0166961982784613\n",
       "262. 0.0169906148162701\n",
       "263. -0.00339369412194089\n",
       "264. 0.0132038503982264\n",
       "265. -0.0190590137045706\n",
       "266. 0.0236512530209778\n",
       "267. -0.00988149852123303\n",
       "268. 0.00900026667128027\n",
       "269. -0.0462794131876224\n",
       "270. 0.0157124147303751\n",
       "271. -0.0290223465072605\n",
       "272. -0.052771709015826\n",
       "273. -0.0108444745847427\n",
       "274. 0.0357783979677413\n",
       "275. 0.0339995706860159\n",
       "276. 0.0255436392965703\n",
       "277. 0.0240806889715863\n",
       "278. 0.0199156006227524\n",
       "279. -0.0144307027568588\n",
       "280. -0.0065034630700574\n",
       "281. -0.0123715654325289\n",
       "282. 0.0362911011244679\n",
       "283. 0.00152744916130253\n",
       "284. 0.0188747902398905\n",
       "285. 0.0128283587487653\n",
       "286. 0.0227901314705362\n",
       "287. -0.042725333928302\n",
       "288. 0.0467947663090213\n",
       "289. 0.034956189865018\n",
       "290. -0.0285532311270781\n",
       "291. 0.0334401379870016\n",
       "292. -0.00464606943892734\n",
       "293. 0.0177724326836968\n",
       "294. 0.0170015966963584\n",
       "295. -0.00434273261555109\n",
       "296. 0.0497406824160991\n",
       "297. 0.0163378168161717\n",
       "298. -0.0125817148613587\n",
       "299. -0.00226232569590175\n",
       "300. 0.0788787120242329\n",
       "301. -0.0415827510163302\n",
       "302. 0.00506461784583355\n",
       "303. -0.0225492912663859\n",
       "304. -0.00749055295110188\n",
       "305. -0.0432481042908679\n",
       "306. 0.000667011751697501\n",
       "307. -0.00161459109601585\n",
       "308. -0.0112767153031565\n",
       "309. 0.024931320621876\n",
       "310. 0.0537711779736573\n",
       "311. -0.017485007807061\n",
       "312. 0.00946407404273235\n",
       "313. -0.00726057539751848\n",
       "314. 0.0144284517662705\n",
       "315. 0.00785170367613639\n",
       "316. -0.0319111964129722\n",
       "317. 0.00920542547206593\n",
       "318. -0.0162942653785302\n",
       "319. -0.0257993513160659\n",
       "320. 0.0286420029837562\n",
       "321. -0.0138141827211031\n",
       "322. 0.0274318326360302\n",
       "323. -0.017917581376199\n",
       "324. -0.0035939315461779\n",
       "325. -0.00492371086950284\n",
       "326. 0.0133490040761357\n",
       "327. 0.0402400074666805\n",
       "328. 0.00932257105254169\n",
       "329. -0.0239570889241504\n",
       "330. -0.00727817283650296\n",
       "331. -0.00170219920893564\n",
       "332. -0.0090439096914975\n",
       "333. 0.012648438054321\n",
       "334. -0.017985795499656\n",
       "335. -0.000357815301498502\n",
       "336. 0.0102619930882076\n",
       "337. -0.015476398893815\n",
       "338. -0.0103688062788971\n",
       "339. -0.0262102930231783\n",
       "340. 0.0130428565754994\n",
       "341. 0.0120745656683956\n",
       "342. -0.00877694171681238\n",
       "343. 0.046609946979744\n",
       "344. 0.0184588401100934\n",
       "345. -0.0218808227445849\n",
       "346. 0.0143600992434856\n",
       "347. -0.0131351343083058\n",
       "348. 0.0500187922634262\n",
       "349. -0.0106235788510776\n",
       "350. 0.0131493696224543\n",
       "351. -0.00781283413905213\n",
       "352. 0.0153295685940627\n",
       "353. -0.0112175173018267\n",
       "354. 0.0271365361041805\n",
       "355. -0.020546812745961\n",
       "356. -0.0232018567365539\n",
       "357. -0.00725041295057257\n",
       "358. -0.0132085690954128\n",
       "359. 0.0044037532098822\n",
       "360. 0.0419916269319401\n",
       "361. 0.0369743699976896\n",
       "362. -0.0237820156918768\n",
       "363. 0.0391104221055145\n",
       "364. 0.0208195540928508\n",
       "365. -0.0133398062866429\n",
       "366. 0.0564493414039691\n",
       "367. 0.00300765467992733\n",
       "368. 0.0494999890525104\n",
       "369. 0.0256434200339003\n",
       "370. 0.0296500398665077\n",
       "371. 0.0160493037580666\n",
       "372. 0.00298282782781746\n",
       "373. 0.015847807999273\n",
       "374. -0.0495182923787925\n",
       "375. 0.02402244860511\n",
       "376. 0.00155726996661162\n",
       "377. 0.0494265957965585\n",
       "378. 0.0218952059325951\n",
       "379. 0.0516211382605085\n",
       "380. -0.0233812884189868\n",
       "381. -0.0154620913189008\n",
       "382. -0.013532264658461\n",
       "383. 0.0268101362887508\n",
       "384. -0.0138559040837148\n",
       "385. 0.0167940883813511\n",
       "386. 0.0154744448176612\n",
       "387. -0.0267167281816751\n",
       "388. 0.0111539207264572\n",
       "389. 0.0220408660106068\n",
       "390. -0.0423528977095486\n",
       "391. 0.0809627018789221\n",
       "392. 0.0257269992753909\n",
       "393. -0.00392109194339508\n",
       "394. 0.00100920879278109\n",
       "395. 0.0486166368841436\n",
       "396. -0.0093176616991641\n",
       "397. 0.0144217697421619\n",
       "398. -0.0331314146309802\n",
       "399. 0.00501010649078643\n",
       "400. 0.0247137761562967\n",
       "401. -0.0124902411224654\n",
       "\n",
       "\n"
      ],
      "text/plain": [
       "   [1]  3.292436e-03  6.894696e-02  2.206262e-02  1.670562e-02  1.459137e-02\n",
       "   [6]  2.315944e-02  1.605629e-02  4.991995e-04  1.514249e-02 -1.334422e-02\n",
       "  [11] -1.358190e-02 -1.317219e-02  4.444320e-02  4.596642e-03  3.593964e-02\n",
       "  [16]  7.682142e-03 -7.728455e-03  3.761686e-02 -9.159048e-03 -5.617961e-02\n",
       "  [21]  6.689258e-03  7.971431e-03 -1.722397e-02 -5.074698e-03  3.030163e-02\n",
       "  [26] -1.213159e-02 -7.981491e-04  2.624478e-02  1.764210e-02  1.668300e-02\n",
       "  [31] -2.363631e-02 -1.686240e-03 -8.850649e-03 -1.954434e-02  3.240638e-02\n",
       "  [36]  5.115548e-02  2.400910e-02 -1.289400e-02  6.370500e-03  1.857602e-02\n",
       "  [41] -1.050431e-03 -1.412534e-02  1.948584e-02  7.631193e-03 -1.478382e-02\n",
       "  [46]  9.609862e-04  3.232448e-02 -8.236032e-03  2.719151e-02 -2.222683e-02\n",
       "  [51]  1.450879e-02 -1.690448e-02  1.464180e-02 -5.161781e-03 -7.160947e-03\n",
       "  [56] -1.268007e-03 -1.099791e-02  3.823991e-02 -6.755421e-04 -2.560677e-02\n",
       "  [61] -6.294906e-03 -2.033173e-02  2.562451e-02 -1.596121e-02 -1.853432e-03\n",
       "  [66] -4.486479e-03  1.707381e-02 -2.999138e-02 -5.256661e-02  1.348861e-02\n",
       "  [71]  9.569609e-03  3.436491e-03 -1.467742e-02  6.331718e-02  4.177510e-02\n",
       "  [76] -1.388859e-03 -1.039010e-02  8.774590e-03  4.139607e-02  1.739271e-02\n",
       "  [81]  6.982233e-04  3.403847e-03  1.351279e-02 -3.945864e-03  1.123532e-02\n",
       "  [86] -2.949496e-02 -7.736508e-03  1.978055e-02 -2.017890e-02 -4.243562e-03\n",
       "  [91] -1.007016e-02 -1.564768e-02 -2.116364e-02  1.531487e-02  4.919741e-02\n",
       "  [96]  1.701089e-02  2.905353e-02  1.332057e-02  4.849821e-03  1.475313e-02\n",
       " [101]  2.514024e-03  6.669628e-03  3.283329e-02 -1.716232e-02  1.251327e-02\n",
       " [106]  8.422629e-03  1.506931e-03 -3.105486e-02  3.369180e-02 -1.802302e-02\n",
       " [111]  6.564336e-03  8.329448e-03 -3.372588e-02 -3.330695e-02  2.440429e-02\n",
       " [116]  6.412026e-04 -2.027295e-02  4.184749e-02 -2.653307e-02  2.264873e-02\n",
       " [121]  2.647745e-03  2.747487e-02 -3.048921e-03 -1.400516e-02 -2.460723e-03\n",
       " [126] -1.573999e-02 -1.759880e-03 -9.855871e-03  4.876811e-03  4.337345e-03\n",
       " [131]  3.049049e-02 -2.513879e-02  1.326570e-02 -1.059578e-02  2.895186e-02\n",
       " [136]  6.775544e-02 -4.908773e-02 -1.621752e-03  2.428152e-02  2.058508e-02\n",
       " [141] -2.257614e-02  1.615495e-02 -2.217846e-02  3.587333e-02  3.008177e-03\n",
       " [146]  8.315322e-03  6.178158e-02  4.670261e-02  1.232106e-03  6.981975e-02\n",
       " [151] -2.491582e-02 -2.769297e-02 -1.489571e-03  7.571572e-03 -5.982282e-03\n",
       " [156] -1.847352e-02 -2.127472e-02  2.554682e-02  2.412301e-03 -3.528023e-02\n",
       " [161]  2.175163e-02  2.326305e-02 -3.296052e-02  8.998286e-03  2.035060e-02\n",
       " [166] -1.714755e-02 -1.081358e-02 -3.875807e-02 -1.772860e-02 -1.860172e-02\n",
       " [171] -2.849589e-02 -1.151250e-03  1.346850e-02 -2.881640e-02 -1.219595e-02\n",
       " [176] -1.831747e-03 -1.783026e-02 -4.481646e-02  2.030920e-03  6.467230e-03\n",
       " [181]  1.089347e-02  1.540177e-02 -3.539698e-02  2.740953e-02 -5.542025e-03\n",
       " [186] -4.832120e-02  5.052700e-02  1.040908e-02 -1.152030e-02 -2.062945e-02\n",
       " [191]  1.103477e-02 -2.726043e-02  1.904062e-02  2.860232e-02 -4.149833e-03\n",
       " [196] -1.819107e-02 -1.368779e-02  1.863654e-02 -8.833812e-03 -1.428333e-02\n",
       " [201]  2.155041e-02  3.016008e-02  4.494199e-02 -2.204467e-02  7.286378e-03\n",
       " [206] -3.123434e-02  3.414479e-03 -2.014023e-02 -2.758110e-02 -1.487938e-02\n",
       " [211] -7.484888e-04 -1.791032e-02  4.832925e-02 -5.044925e-02 -1.700111e-02\n",
       " [216]  5.094229e-03 -2.156105e-02  1.899700e-02  3.867564e-03  4.342277e-02\n",
       " [221] -2.004282e-02  3.516178e-02  2.214833e-02  3.877303e-02  1.637798e-02\n",
       " [226] -4.335207e-05 -1.759099e-02  7.722399e-03  5.354261e-03  1.624474e-02\n",
       " [231] -2.912918e-02  2.595759e-02 -1.486375e-02 -1.469026e-02  1.517881e-02\n",
       " [236]  3.883850e-03 -5.590873e-02 -3.137187e-02 -1.127748e-02 -7.293233e-04\n",
       " [241]  8.893487e-03 -5.278311e-02  3.314462e-02  1.595934e-02  8.020603e-03\n",
       " [246]  3.120931e-02  6.810741e-03 -7.253599e-02 -1.141085e-02 -1.114368e-02\n",
       " [251] -2.464701e-02  1.871107e-02  1.269620e-02 -2.587483e-02 -3.263508e-02\n",
       " [256]  3.606059e-03  1.826336e-02  1.044384e-02  1.435688e-02  1.184085e-03\n",
       " [261] -2.847016e-02  2.277995e-02 -1.920175e-02  2.842097e-02 -3.644198e-03\n",
       " [266] -1.430777e-02  4.688499e-03  9.630555e-03  3.520276e-02  1.438996e-03\n",
       " [271]  5.428452e-02  2.638017e-03  1.217114e-02  1.563003e-02  2.318922e-02\n",
       " [276] -2.088610e-02  4.866705e-02  1.714742e-02  2.687721e-02  3.022926e-02\n",
       " [281] -3.949081e-02  1.673544e-02 -2.253197e-02  5.987960e-03  1.673940e-02\n",
       " [286]  4.443636e-03  1.738234e-02  9.253445e-03 -1.624305e-02  1.764889e-02\n",
       " [291]  3.454656e-02  1.674693e-02 -7.954350e-04  1.200053e-02 -3.488082e-03\n",
       " [296]  1.571032e-03 -3.480811e-02 -1.670386e-02  2.240669e-02  5.971651e-02\n",
       " [301]  9.149010e-03 -8.396441e-03 -3.016292e-02  1.825460e-02 -3.687562e-02\n",
       " [306] -1.743993e-02 -2.768145e-02 -1.616190e-02 -8.155344e-03 -8.078898e-03\n",
       " [311]  1.626456e-02 -2.171036e-02  4.017179e-02 -2.367227e-02 -9.609362e-03\n",
       " [316] -3.501482e-02 -1.953264e-03 -2.003511e-02 -1.667498e-02 -1.186307e-02\n",
       " [321] -4.458786e-03  3.291688e-02  9.426176e-03  7.546538e-03  4.797208e-02\n",
       " [326]  1.857557e-02  1.630780e-02 -3.520040e-02  2.538957e-02  1.706624e-02\n",
       " [331]  5.148227e-02  2.716379e-02 -5.365083e-03 -2.769518e-02  2.752120e-02\n",
       " [336] -8.705476e-03 -2.285756e-03 -5.844022e-02  2.143598e-03 -8.883439e-03\n",
       " [341]  2.422372e-02 -2.766495e-02  2.953776e-02  2.995754e-02 -2.801352e-02\n",
       " [346]  8.601438e-03  9.982350e-03 -4.114035e-02 -2.693490e-03  6.543033e-03\n",
       " [351]  3.428609e-02 -2.397810e-02 -2.516314e-02 -1.295164e-02 -1.484643e-02\n",
       " [356] -2.051135e-02 -3.238493e-03 -1.311584e-02  4.452651e-02  3.915820e-02\n",
       " [361] -1.118214e-02 -1.884802e-02  1.450151e-02 -1.627455e-02  3.671826e-02\n",
       " [366] -5.981291e-03  1.943123e-02  2.454934e-02 -1.173903e-02  3.691112e-02\n",
       " [371] -1.270576e-02  4.109568e-02  1.111044e-03 -5.053680e-03 -2.274645e-02\n",
       " [376]  4.859116e-02  2.757189e-03  3.943027e-03  1.836259e-02  1.098212e-02\n",
       " [381]  5.581050e-03 -1.750180e-02 -5.638639e-02 -6.050804e-03  2.192749e-02\n",
       " [386]  3.680437e-02  7.509690e-03  6.037708e-02  9.921058e-03 -3.986584e-02\n",
       " [391] -6.161840e-04  2.874481e-02 -1.765414e-02  5.119911e-03 -2.404744e-02\n",
       " [396]  2.411239e-02 -3.565074e-02 -3.085798e-02  2.724123e-02  1.935875e-02\n",
       " [401] -1.318585e-02 -5.450523e-02  7.412585e-03  4.390966e-02  3.389934e-02\n",
       " [406] -2.088577e-02 -1.866367e-02 -1.297291e-02 -7.741711e-03 -8.500482e-03\n",
       " [411]  6.776181e-03  9.525586e-03 -4.891409e-03 -4.289853e-03 -1.248441e-02\n",
       " [416]  2.791499e-02  2.599263e-02  1.383727e-02 -2.887738e-02  4.159658e-02\n",
       " [421]  3.053233e-03 -7.759464e-04 -3.780814e-02  2.707872e-02 -1.409818e-02\n",
       " [426] -5.248551e-02 -4.538838e-03  4.348671e-03  3.064545e-03  5.181438e-02\n",
       " [431] -2.229446e-02  8.320775e-03  2.705345e-03 -7.613810e-03  1.612724e-02\n",
       " [436]  5.607846e-03  4.307339e-02  2.395115e-02 -2.858149e-03  4.223075e-02\n",
       " [441]  2.418297e-03 -5.039661e-03 -1.916467e-02 -3.813661e-04  4.932480e-03\n",
       " [446] -1.543049e-02  2.225843e-02  7.495090e-03 -1.135198e-02 -8.857895e-03\n",
       " [451]  3.767807e-03  2.431147e-02 -5.871956e-02  9.095364e-03  2.075585e-02\n",
       " [456]  2.983627e-02 -1.256367e-02  7.137654e-03  2.544982e-02 -5.200510e-04\n",
       " [461]  2.264361e-02 -2.198504e-02  2.111448e-02  4.356045e-02 -8.541203e-03\n",
       " [466]  2.348562e-02 -2.016855e-02 -2.818764e-02  2.559212e-02  2.526206e-02\n",
       " [471] -2.309783e-02 -1.775949e-02 -1.243045e-02  2.614174e-02  9.385179e-03\n",
       " [476]  4.197756e-02  3.163673e-02  1.199841e-02 -4.229510e-02  1.559239e-02\n",
       " [481] -2.513802e-02 -4.523239e-02  5.632532e-02 -8.715873e-03 -1.765156e-02\n",
       " [486]  3.489043e-03 -4.372587e-04 -3.837127e-02  4.618119e-03  2.537162e-02\n",
       " [491]  2.900852e-02  3.391860e-02  2.856577e-02  1.546863e-02 -5.000110e-02\n",
       " [496]  6.532532e-02  4.848165e-02 -1.939991e-02  3.571851e-02  2.775169e-02\n",
       " [501] -2.476990e-02 -8.468727e-03  2.937042e-02 -1.428798e-02 -1.004031e-02\n",
       " [506] -2.047762e-02  3.214363e-02  2.177719e-02  6.908959e-03 -2.405411e-02\n",
       " [511]  1.432227e-02 -2.057858e-02  5.393802e-02 -1.421105e-02 -3.282126e-02\n",
       " [516]  2.788816e-03  1.993597e-02  3.256408e-02 -2.633356e-02 -2.654503e-02\n",
       " [521] -2.286419e-03  1.124225e-02  1.075043e-02  2.522036e-02 -1.534833e-02\n",
       " [526] -6.026363e-03  6.023349e-02  1.987587e-02  4.765143e-03  8.523313e-03\n",
       " [531]  4.030703e-02  1.383337e-02  1.912608e-02  1.797459e-02 -2.037642e-02\n",
       " [536] -5.242723e-03  1.417231e-03 -1.626198e-02 -1.587364e-02  2.099036e-03\n",
       " [541]  4.034101e-02 -1.318499e-02  2.496865e-02  1.747827e-03 -1.948804e-02\n",
       " [546] -1.601416e-02  7.584236e-04 -8.010990e-04  1.678989e-02  1.775837e-02\n",
       " [551]  3.918701e-02 -3.557072e-02  9.167657e-03 -5.684743e-02  5.607816e-03\n",
       " [556]  4.780274e-03 -5.174316e-02  7.708189e-02 -1.976607e-04 -1.645856e-02\n",
       " [561]  5.260185e-02  3.230805e-02  2.674762e-04  9.404181e-04 -1.577354e-02\n",
       " [566] -2.357736e-02  4.929313e-02 -1.620184e-03  4.095665e-02  3.596612e-02\n",
       " [571] -5.651309e-02 -2.222383e-02 -2.260629e-02  4.630337e-02  1.426760e-02\n",
       " [576]  2.279367e-02  6.876376e-03 -3.629823e-02 -2.324512e-02 -2.443841e-02\n",
       " [581] -4.080311e-02  2.520949e-02 -2.210397e-02  1.722271e-02  5.371971e-02\n",
       " [586]  2.985280e-04 -4.328786e-03  1.749802e-02  1.776658e-02  3.281279e-02\n",
       " [591]  1.096455e-03  3.596141e-03  2.266911e-02  3.944870e-03 -5.155960e-02\n",
       " [596]  2.370175e-02  7.782637e-04 -2.196861e-02  8.214122e-02  6.084394e-02\n",
       " [601] -5.716902e-02 -2.721771e-02  3.128932e-02  1.107954e-02  5.257898e-02\n",
       " [606]  3.432940e-03 -7.084971e-03 -6.168198e-03 -9.974993e-04  2.822598e-02\n",
       " [611]  2.271214e-03  4.174984e-02 -1.526153e-02  1.537672e-02  2.207515e-02\n",
       " [616]  3.728537e-02  8.792283e-03 -2.591098e-02 -1.459926e-03 -4.527840e-02\n",
       " [621] -1.005992e-02  1.726712e-02 -5.796405e-02  1.914491e-02 -1.438057e-03\n",
       " [626]  2.563238e-02  2.790623e-02  3.316674e-02  7.611367e-03 -4.675078e-02\n",
       " [631]  1.592239e-02  3.392539e-02 -2.794348e-02 -2.221512e-02  5.451979e-02\n",
       " [636]  1.850039e-02 -8.428915e-03 -2.784569e-02  1.710303e-02 -1.534415e-02\n",
       " [641] -1.584905e-02  1.104350e-02  3.009288e-02  1.012695e-02  5.073065e-03\n",
       " [646]  1.465479e-02 -1.833229e-02 -2.136592e-02 -3.790591e-02 -3.121267e-02\n",
       " [651] -7.082911e-03  8.171625e-03  3.065637e-03  5.563149e-02 -1.343233e-02\n",
       " [656]  3.065519e-02  4.159177e-02  4.515538e-02 -2.306182e-02 -9.557819e-03\n",
       " [661]  8.571446e-03  3.723458e-02 -2.250515e-03  6.086587e-02 -4.436793e-03\n",
       " [666]  5.021888e-04  4.238129e-02  5.182879e-02  2.568454e-02 -3.079407e-02\n",
       " [671]  1.935493e-02 -3.122925e-02  2.648632e-02  3.600133e-02  2.432228e-02\n",
       " [676] -2.380202e-02 -2.367713e-02  4.071347e-02  3.702326e-02  1.818334e-02\n",
       " [681] -9.553349e-03 -1.146571e-02  1.124663e-02  1.621357e-02 -3.224163e-02\n",
       " [686] -3.498013e-02 -1.298792e-03 -2.237442e-02 -1.442627e-02  5.619886e-02\n",
       " [691]  8.382298e-03  1.808691e-02 -1.493605e-02 -1.181434e-02  1.659063e-02\n",
       " [696] -4.066728e-02  1.002835e-02  2.679849e-02  2.562977e-02  5.752126e-03\n",
       " [701] -1.183014e-02 -6.576685e-03  4.720720e-02 -4.144246e-02  1.397350e-03\n",
       " [706]  9.266185e-04  1.621984e-02  6.767911e-03 -9.626848e-03 -2.694399e-02\n",
       " [711] -1.067399e-02 -3.454684e-02 -9.380169e-03 -1.065466e-02  6.387093e-02\n",
       " [716]  1.585505e-02  9.375825e-03  2.868995e-02 -1.619645e-02 -3.257814e-02\n",
       " [721] -3.198140e-02 -1.014327e-02 -4.825345e-04  1.092366e-02  1.080414e-02\n",
       " [726]  5.041383e-03  4.318558e-02  1.355894e-02  2.984551e-02 -4.140132e-02\n",
       " [731]  2.247008e-02 -8.072934e-03 -7.425215e-04  5.152942e-03 -3.302398e-02\n",
       " [736]  2.114468e-02 -5.280478e-02  6.846509e-03  2.632170e-02 -2.249854e-02\n",
       " [741]  1.114589e-02 -2.007343e-03  8.766931e-03  7.677216e-03  7.388081e-03\n",
       " [746] -4.889119e-03 -3.808563e-02 -7.176045e-03 -1.031810e-02 -2.858590e-02\n",
       " [751] -2.956737e-02  2.306425e-02  6.293697e-02 -3.123332e-02  9.954714e-03\n",
       " [756]  2.731216e-02  2.021838e-02  1.803803e-02 -1.024969e-02 -1.844247e-02\n",
       " [761] -2.158749e-02 -1.770903e-02 -1.958875e-02 -1.735576e-02  3.453078e-02\n",
       " [766] -1.386798e-02 -1.172444e-02  3.100256e-02 -7.337015e-03  2.534875e-02\n",
       " [771]  5.424209e-02  3.852698e-02 -2.361118e-02  1.021679e-02 -2.946982e-02\n",
       " [776] -2.291846e-02  1.363609e-02  4.639364e-02  1.369270e-02 -3.828699e-03\n",
       " [781]  1.311822e-03  6.160587e-03  2.973840e-02  5.118252e-03 -2.160071e-03\n",
       " [786]  6.186524e-02  2.676980e-02  1.105601e-02  1.647767e-02 -3.353524e-02\n",
       " [791]  3.879062e-02  9.655948e-03  1.668671e-02  1.748697e-02  9.964624e-03\n",
       " [796] -2.234815e-03  1.687314e-02  2.819434e-02  7.075329e-03  8.057603e-03\n",
       " [801]  3.648145e-02 -5.360760e-02  4.061502e-02 -1.009426e-02  1.171073e-02\n",
       " [806] -6.748411e-03  1.895002e-02  3.227926e-03  2.234735e-03  1.730304e-02\n",
       " [811]  1.000937e-02 -8.954634e-03  3.808587e-02  3.697744e-02 -1.893334e-02\n",
       " [816] -4.571969e-02  4.774906e-02 -1.221140e-03  5.064700e-02 -1.390014e-02\n",
       " [821] -3.768319e-02 -1.941940e-02  1.947371e-02 -5.766330e-02 -1.307669e-02\n",
       " [826]  2.669459e-02 -8.019289e-03 -1.249963e-02  3.660941e-02  4.033564e-02\n",
       " [831] -1.075831e-02 -1.187567e-02 -3.657964e-02 -1.719030e-02  1.724183e-03\n",
       " [836] -3.387668e-03  2.444725e-02  1.847339e-02 -1.473559e-02 -1.773712e-02\n",
       " [841]  9.727247e-03 -1.979829e-03  2.292754e-03 -2.133948e-02  2.171312e-02\n",
       " [846] -4.069597e-03  7.336732e-03  1.431392e-03 -2.169986e-02  2.632318e-02\n",
       " [851]  7.510255e-03 -1.585651e-02  3.307679e-02  2.906299e-02  2.590311e-02\n",
       " [856]  3.641165e-04  1.687956e-02 -1.835754e-04  1.607926e-02  5.653615e-03\n",
       " [861]  2.832136e-02 -4.333839e-03  3.159236e-02 -9.245447e-03 -1.922802e-02\n",
       " [866] -2.211584e-02 -1.255010e-02  3.185297e-02  6.474701e-03  3.073658e-02\n",
       " [871] -2.373634e-02 -4.490907e-03 -9.321459e-03  5.817609e-03 -9.027143e-03\n",
       " [876]  1.199982e-02 -3.511929e-02 -9.218512e-03  1.726889e-02 -7.698745e-03\n",
       " [881] -1.571965e-02  2.020582e-02 -8.852499e-03 -2.289151e-02 -2.867718e-02\n",
       " [886]  9.609497e-03  2.408199e-02  1.573468e-02 -7.166171e-03  6.512430e-02\n",
       " [891]  1.246410e-03  4.061942e-03  1.082044e-02  2.588939e-03  1.016059e-02\n",
       " [896] -7.289565e-03 -3.912869e-02  5.348973e-03  3.339522e-02 -2.032515e-02\n",
       " [901] -3.390557e-02 -1.459183e-02 -1.175352e-02 -1.725499e-02  3.718669e-02\n",
       " [906] -3.896676e-03  3.242660e-03 -1.320487e-02  1.152142e-02 -6.265726e-03\n",
       " [911]  5.017394e-02  6.390419e-03  1.978792e-02  2.842460e-02 -2.176363e-02\n",
       " [916]  1.795824e-02  3.884755e-02  1.806054e-03  2.141761e-02 -8.830038e-03\n",
       " [921]  4.181099e-02 -2.188323e-02  1.172657e-03 -3.726211e-03  1.077565e-02\n",
       " [926]  1.691475e-02 -4.307564e-03 -2.322874e-02  8.016466e-02 -5.101339e-03\n",
       " [931]  7.159378e-03  1.300023e-02  1.807654e-02 -3.277593e-02 -9.919306e-03\n",
       " [936]  5.066136e-03 -1.432730e-03  4.982035e-03 -4.219442e-03  4.345724e-03\n",
       " [941] -5.361694e-03  1.011840e-02 -4.953380e-03  1.114388e-02  1.197118e-02\n",
       " [946]  4.548426e-02  2.348477e-02  4.888997e-02  9.023031e-03 -1.580346e-02\n",
       " [951]  1.668210e-02 -2.362058e-02  1.460591e-02  2.375101e-03  3.105225e-03\n",
       " [956]  9.637730e-03  1.100203e-02  4.747416e-02 -3.354196e-02  1.325053e-02\n",
       " [961] -4.080630e-03 -2.272048e-02 -1.152425e-04 -5.758951e-04 -1.907567e-02\n",
       " [966]  2.711458e-02 -1.889895e-02  2.488430e-02  1.515816e-02  1.073229e-02\n",
       " [971]  3.574758e-02 -1.381448e-02  5.410178e-02  3.666281e-03  3.868345e-03\n",
       " [976]  4.047924e-02  5.348993e-02 -1.642004e-02 -3.067973e-04  3.156191e-02\n",
       " [981]  7.424249e-03 -6.973750e-02 -7.803632e-03 -1.173512e-02  2.913238e-02\n",
       " [986]  4.981225e-02 -1.838776e-02 -2.424493e-02 -2.224095e-02  1.869472e-02\n",
       " [991] -4.190461e-03  8.886471e-03  3.408287e-02 -3.943228e-02  7.028512e-03\n",
       " [996]  2.060000e-02  3.589144e-02 -1.770535e-02  4.594001e-02  1.539763e-02\n",
       "[1001]  1.871903e-02  1.832642e-02 -1.089054e-02 -3.082715e-02 -2.789074e-02\n",
       "[1006]  5.383705e-03  2.867577e-02 -9.072803e-03 -2.255373e-04  1.584251e-02\n",
       "[1011]  3.385937e-02 -4.963828e-03 -1.584983e-02  2.266624e-02  5.096105e-02\n",
       "[1016]  1.639743e-02  3.191295e-03  4.235564e-02  1.949725e-02  1.834051e-03\n",
       "[1021]  2.296227e-02  1.815666e-02 -3.574180e-02  4.008907e-02 -8.033920e-03\n",
       "[1026] -8.099305e-03  5.339167e-03  4.396368e-02  2.837634e-02 -1.940577e-02\n",
       "[1031]  6.901126e-03  3.998776e-02  6.779341e-03  1.981534e-02 -3.540643e-02\n",
       "[1036]  2.615275e-02  4.586673e-02 -4.367738e-02 -1.265811e-02  7.130125e-03\n",
       "[1041]  7.417030e-03  6.529430e-02  5.421261e-02  3.334932e-02  1.555651e-02\n",
       "[1046]  1.307807e-02  8.988186e-03 -3.739323e-02  7.812775e-03  2.714524e-03\n",
       "[1051] -2.330761e-02  1.202734e-02  1.436114e-02 -4.452784e-03  2.629066e-03\n",
       "[1056]  2.559607e-02  1.833785e-02  1.564294e-02  1.096819e-02  1.371106e-02\n",
       "[1061]  2.755626e-02  1.058431e-02 -1.226789e-02 -3.364892e-03 -3.417129e-02\n",
       "[1066] -2.769071e-02 -2.805961e-02  3.095536e-03 -6.335888e-04 -3.666334e-02\n",
       "[1071]  1.424489e-02  4.112751e-02 -8.498363e-03 -2.429059e-02 -3.504168e-02\n",
       "[1076]  6.395876e-03 -1.032819e-02  1.869605e-02 -1.993940e-02 -6.115539e-03\n",
       "[1081]  4.169650e-02  2.308681e-02  3.379146e-03  2.226336e-02  2.546985e-02\n",
       "[1086]  1.218258e-02 -7.996740e-03  7.563854e-02 -4.830425e-02  3.662196e-03\n",
       "[1091]  7.894955e-03  4.002521e-02 -1.963391e-02  8.356277e-03  3.209728e-02\n",
       "[1096] -8.021032e-04 -4.003491e-04  7.189026e-04 -4.014697e-03 -7.327784e-03\n",
       "[1101]  1.060950e-03 -5.155369e-04  2.380303e-03 -1.056580e-02  7.679562e-03\n",
       "[1106]  4.193991e-02 -1.252337e-02 -5.264402e-03  4.318715e-02  2.768109e-02\n",
       "[1111]  3.458844e-02  2.591449e-03  5.580948e-03  4.884936e-02 -6.445763e-03\n",
       "[1116]  3.600771e-02 -2.499833e-02  4.068659e-03  1.020820e-03  3.113207e-02\n",
       "[1121] -2.817879e-03 -7.000611e-03  5.384569e-02  1.339153e-02 -1.755344e-03\n",
       "[1126]  5.298285e-02  5.753832e-03 -4.347637e-02  2.452058e-02 -6.580231e-03\n",
       "[1131]  2.770482e-03  3.177670e-03 -2.794105e-02  1.545042e-02  6.578277e-03\n",
       "[1136]  1.060848e-02 -1.966087e-02 -2.306922e-03 -1.009655e-02  9.945698e-03\n",
       "[1141]  3.728955e-03  1.750014e-02  4.766940e-02  2.060069e-02 -4.741486e-02\n",
       "[1146]  1.806686e-02 -3.810837e-02 -2.209971e-02  1.176379e-02 -1.335409e-03\n",
       "[1151]  1.145520e-02  2.468140e-02 -5.094811e-03 -1.224678e-02 -1.683243e-02\n",
       "[1156] -1.585083e-02 -2.600716e-02  3.055107e-03 -1.589355e-02  2.017598e-02\n",
       "[1161]  1.522855e-02 -2.642010e-02 -6.132787e-03  5.225183e-02  4.605039e-02\n",
       "[1166] -5.878063e-02  7.900217e-03 -2.654095e-02 -3.269523e-02 -9.816099e-03\n",
       "[1171] -2.199485e-02  2.697945e-02 -3.087431e-02  3.203503e-02 -1.692753e-02\n",
       "[1176]  3.427191e-02  4.099635e-02 -7.505255e-03 -6.134085e-03  3.388209e-02\n",
       "[1181]  2.432994e-02 -1.572036e-02  5.526863e-02 -2.231400e-04 -1.760677e-02\n",
       "[1186] -2.919409e-03 -1.519460e-02  3.745652e-03  8.744192e-03  9.149353e-03\n",
       "[1191]  1.715011e-02  2.024845e-02  6.036760e-03  6.254996e-03  1.038609e-02\n",
       "[1196] -1.976496e-02  2.145917e-02 -2.041279e-02  1.865410e-03 -1.482608e-02\n",
       "[1201]  4.134030e-03 -3.534311e-02  6.279990e-03  8.135116e-02 -2.305022e-02\n",
       "[1206] -9.723319e-03  3.259452e-02  3.123887e-02 -3.908096e-02 -1.058749e-02\n",
       "[1211] -1.998769e-02  2.011870e-02  5.062826e-02  1.731071e-02  5.802694e-03\n",
       "[1216] -3.229932e-02  2.240516e-02  1.471535e-02  1.553816e-02  1.909841e-02\n",
       "[1221] -1.532065e-02  9.664708e-03 -1.039972e-02 -3.945069e-02 -8.816212e-03\n",
       "[1226]  5.587248e-03 -1.193721e-02 -9.498928e-03 -2.578852e-02  1.473626e-02\n",
       "[1231] -3.855573e-03  5.986476e-03 -8.666780e-03 -9.890499e-03 -1.470352e-02\n",
       "[1236] -5.062403e-03 -4.710572e-02  2.849006e-02  5.615501e-02  1.992866e-02\n",
       "[1241] -5.050626e-02 -1.339361e-02 -5.511394e-03  1.794346e-02  1.100478e-02\n",
       "[1246]  5.712924e-03  5.212521e-03  2.253619e-03  4.657916e-03  1.054953e-02\n",
       "[1251] -6.444867e-03  5.111316e-02 -1.740326e-02 -3.065577e-03  1.741966e-02\n",
       "[1256] -8.489294e-04  4.325540e-02  2.239833e-02 -5.817089e-03  2.507554e-02\n",
       "[1261] -1.917452e-02  1.570886e-02  2.705375e-02  1.744203e-02 -1.187295e-02\n",
       "[1266]  5.062426e-03 -2.884513e-02  1.771074e-02  7.410535e-02 -1.090727e-02\n",
       "[1271] -3.471134e-02 -3.455878e-03  2.550062e-02  3.845299e-02  2.345430e-02\n",
       "[1276]  9.290678e-06  6.785225e-02  8.412832e-04 -1.926194e-02 -4.503093e-03\n",
       "[1281]  3.238223e-02 -2.143871e-02 -5.417700e-03 -3.733430e-02  3.982002e-02\n",
       "[1286]  3.206918e-02  5.293401e-02 -2.237327e-02 -1.462100e-02  1.762649e-02\n",
       "[1291]  2.077217e-02  3.008073e-02 -3.588070e-03 -1.881688e-02 -4.919208e-02\n",
       "[1296]  5.231819e-02  5.049253e-02 -4.626673e-02  1.781639e-02  3.907294e-03\n",
       "[1301] -3.949666e-03 -4.875727e-03  1.844905e-02 -4.953142e-03  8.192698e-03\n",
       "[1306] -1.807055e-02 -1.848544e-02  2.121603e-02  2.957149e-03  1.194692e-02\n",
       "[1311]  1.098964e-04  7.226186e-02  1.713023e-02  4.539033e-03 -4.616870e-02\n",
       "[1316] -7.744558e-03 -4.745906e-02  3.087479e-03 -1.334643e-02  8.206811e-03\n",
       "[1321]  8.545160e-02 -6.204596e-02  2.116637e-02 -1.206794e-02 -9.567020e-03\n",
       "[1326] -2.178073e-02 -1.451454e-02 -6.430112e-03 -2.622735e-02  3.059037e-02\n",
       "[1331] -2.015324e-02  2.565919e-02  3.044838e-02  4.122850e-02  2.271258e-02\n",
       "[1336]  1.715242e-02 -1.576038e-02  2.233447e-02  4.403691e-02 -8.021620e-03\n",
       "[1341] -4.762083e-02  3.171818e-03 -2.530473e-02 -1.416125e-03 -3.326051e-02\n",
       "[1346]  7.692725e-02 -8.419043e-03 -1.161713e-02  1.660476e-02 -2.427010e-02\n",
       "[1351] -2.177229e-02 -1.596631e-03  3.709049e-02  1.968523e-02  9.818906e-03\n",
       "[1356] -4.340216e-02  4.464150e-02  3.588684e-03 -1.889006e-02  3.467622e-02\n",
       "[1361]  1.425594e-02  4.406979e-02  1.712493e-02 -6.893945e-02 -4.199777e-03\n",
       "[1366] -1.472649e-02 -7.698229e-03 -1.156299e-02 -4.204232e-02  2.776613e-02\n",
       "[1371]  6.586727e-03  3.239637e-02  3.915013e-02  1.005081e-02 -4.965403e-04\n",
       "[1376] -2.070116e-02 -3.339561e-02 -1.937082e-03  3.303718e-02 -2.962491e-03\n",
       "[1381]  1.440888e-02 -3.066591e-02 -2.362339e-02  4.763458e-02 -1.504951e-02\n",
       "[1386] -6.555147e-03 -5.387810e-03 -1.028531e-02  4.393891e-02  1.512637e-03\n",
       "[1391]  3.156420e-02  1.459407e-02  2.243633e-02 -2.772778e-02  1.520773e-02\n",
       "[1396]  1.290957e-02  1.225703e-02  1.758556e-02  2.702244e-03  6.698116e-03\n",
       "[1401]  4.884152e-02 -2.463107e-02  3.587469e-03 -2.276201e-02 -2.241900e-02\n",
       "[1406] -1.213975e-02 -3.622134e-02 -2.105318e-02 -3.454791e-03  3.944884e-02\n",
       "[1411]  2.011787e-02  1.873271e-03  5.029949e-02 -1.905853e-02 -2.985245e-02\n",
       "[1416]  4.177778e-02 -3.338417e-02 -4.505532e-05 -2.875938e-02  2.167407e-02\n",
       "[1421] -1.117502e-03 -2.316473e-03  3.486628e-03 -2.858194e-03  1.810968e-02\n",
       "[1426]  1.721367e-02  2.104316e-02  1.067541e-02  6.605807e-03 -3.738837e-02\n",
       "[1431]  3.205920e-02 -2.486809e-03  3.308963e-02  4.823335e-03  1.647625e-03\n",
       "[1436] -2.301235e-02  1.859438e-03  2.689706e-02 -1.577125e-02 -5.745428e-03\n",
       "[1441]  2.057882e-02 -5.439175e-04  8.300572e-03 -2.635499e-02 -2.558161e-02\n",
       "[1446]  2.156493e-02  5.155224e-03 -1.775119e-02  2.710739e-02  1.247228e-03\n",
       "[1451]  5.627112e-02  2.344086e-02 -1.988738e-02  4.591703e-03 -1.635199e-02\n",
       "[1456] -1.464321e-02 -8.034590e-03 -2.761294e-02 -2.607228e-02  1.669620e-02\n",
       "[1461]  1.699061e-02 -3.393694e-03  1.320385e-02 -1.905901e-02  2.365125e-02\n",
       "[1466] -9.881499e-03  9.000267e-03 -4.627941e-02  1.571241e-02 -2.902235e-02\n",
       "[1471] -5.277171e-02 -1.084447e-02  3.577840e-02  3.399957e-02  2.554364e-02\n",
       "[1476]  2.408069e-02  1.991560e-02 -1.443070e-02 -6.503463e-03 -1.237157e-02\n",
       "[1481]  3.629110e-02  1.527449e-03  1.887479e-02  1.282836e-02  2.279013e-02\n",
       "[1486] -4.272533e-02  4.679477e-02  3.495619e-02 -2.855323e-02  3.344014e-02\n",
       "[1491] -4.646069e-03  1.777243e-02  1.700160e-02 -4.342733e-03  4.974068e-02\n",
       "[1496]  1.633782e-02 -1.258171e-02 -2.262326e-03  7.887871e-02 -4.158275e-02\n",
       "[1501]  5.064618e-03 -2.254929e-02 -7.490553e-03 -4.324810e-02  6.670118e-04\n",
       "[1506] -1.614591e-03 -1.127672e-02  2.493132e-02  5.377118e-02 -1.748501e-02\n",
       "[1511]  9.464074e-03 -7.260575e-03  1.442845e-02  7.851704e-03 -3.191120e-02\n",
       "[1516]  9.205425e-03 -1.629427e-02 -2.579935e-02  2.864200e-02 -1.381418e-02\n",
       "[1521]  2.743183e-02 -1.791758e-02 -3.593932e-03 -4.923711e-03  1.334900e-02\n",
       "[1526]  4.024001e-02  9.322571e-03 -2.395709e-02 -7.278173e-03 -1.702199e-03\n",
       "[1531] -9.043910e-03  1.264844e-02 -1.798580e-02 -3.578153e-04  1.026199e-02\n",
       "[1536] -1.547640e-02 -1.036881e-02 -2.621029e-02  1.304286e-02  1.207457e-02\n",
       "[1541] -8.776942e-03  4.660995e-02  1.845884e-02 -2.188082e-02  1.436010e-02\n",
       "[1546] -1.313513e-02  5.001879e-02 -1.062358e-02  1.314937e-02 -7.812834e-03\n",
       "[1551]  1.532957e-02 -1.121752e-02  2.713654e-02 -2.054681e-02 -2.320186e-02\n",
       "[1556] -7.250413e-03 -1.320857e-02  4.403753e-03  4.199163e-02  3.697437e-02\n",
       "[1561] -2.378202e-02  3.911042e-02  2.081955e-02 -1.333981e-02  5.644934e-02\n",
       "[1566]  3.007655e-03  4.949999e-02  2.564342e-02  2.965004e-02  1.604930e-02\n",
       "[1571]  2.982828e-03  1.584781e-02 -4.951829e-02  2.402245e-02  1.557270e-03\n",
       "[1576]  4.942660e-02  2.189521e-02  5.162114e-02 -2.338129e-02 -1.546209e-02\n",
       "[1581] -1.353226e-02  2.681014e-02 -1.385590e-02  1.679409e-02  1.547444e-02\n",
       "[1586] -2.671673e-02  1.115392e-02  2.204087e-02 -4.235290e-02  8.096270e-02\n",
       "[1591]  2.572700e-02 -3.921092e-03  1.009209e-03  4.861664e-02 -9.317662e-03\n",
       "[1596]  1.442177e-02 -3.313141e-02  5.010106e-03  2.471378e-02 -1.249024e-02"
      ]
     },
     "metadata": {},
     "output_type": "display_data"
    }
   ],
   "source": [
    "matrix_muestras[,1]"
   ]
  },
  {
   "cell_type": "code",
   "execution_count": 66,
   "id": "16245a50-eee2-429f-a268-fb80afb9b65a",
   "metadata": {},
   "outputs": [
    {
     "data": {
      "text/html": [
       "<table class=\"dataframe\">\n",
       "<caption>A data.frame: 1600 × 1</caption>\n",
       "<thead>\n",
       "\t<tr><th scope=col>matrix_muestras...1.</th></tr>\n",
       "\t<tr><th scope=col>&lt;dbl&gt;</th></tr>\n",
       "</thead>\n",
       "<tbody>\n",
       "\t<tr><td> 0.0032924362</td></tr>\n",
       "\t<tr><td> 0.0689469610</td></tr>\n",
       "\t<tr><td> 0.0220626180</td></tr>\n",
       "\t<tr><td> 0.0167056216</td></tr>\n",
       "\t<tr><td> 0.0145913723</td></tr>\n",
       "\t<tr><td> 0.0231594435</td></tr>\n",
       "\t<tr><td> 0.0160562918</td></tr>\n",
       "\t<tr><td> 0.0004991995</td></tr>\n",
       "\t<tr><td> 0.0151424856</td></tr>\n",
       "\t<tr><td>-0.0133442239</td></tr>\n",
       "\t<tr><td>-0.0135819011</td></tr>\n",
       "\t<tr><td>-0.0131721892</td></tr>\n",
       "\t<tr><td> 0.0444431982</td></tr>\n",
       "\t<tr><td> 0.0045966425</td></tr>\n",
       "\t<tr><td> 0.0359396448</td></tr>\n",
       "\t<tr><td> 0.0076821419</td></tr>\n",
       "\t<tr><td>-0.0077284545</td></tr>\n",
       "\t<tr><td> 0.0376168597</td></tr>\n",
       "\t<tr><td>-0.0091590482</td></tr>\n",
       "\t<tr><td>-0.0561796134</td></tr>\n",
       "\t<tr><td> 0.0066892580</td></tr>\n",
       "\t<tr><td> 0.0079714311</td></tr>\n",
       "\t<tr><td>-0.0172239729</td></tr>\n",
       "\t<tr><td>-0.0050746984</td></tr>\n",
       "\t<tr><td> 0.0303016277</td></tr>\n",
       "\t<tr><td>-0.0121315858</td></tr>\n",
       "\t<tr><td>-0.0007981491</td></tr>\n",
       "\t<tr><td> 0.0262447759</td></tr>\n",
       "\t<tr><td> 0.0176421046</td></tr>\n",
       "\t<tr><td> 0.0166830021</td></tr>\n",
       "\t<tr><td>⋮</td></tr>\n",
       "\t<tr><td> 0.002982828</td></tr>\n",
       "\t<tr><td> 0.015847808</td></tr>\n",
       "\t<tr><td>-0.049518292</td></tr>\n",
       "\t<tr><td> 0.024022449</td></tr>\n",
       "\t<tr><td> 0.001557270</td></tr>\n",
       "\t<tr><td> 0.049426596</td></tr>\n",
       "\t<tr><td> 0.021895206</td></tr>\n",
       "\t<tr><td> 0.051621138</td></tr>\n",
       "\t<tr><td>-0.023381288</td></tr>\n",
       "\t<tr><td>-0.015462091</td></tr>\n",
       "\t<tr><td>-0.013532265</td></tr>\n",
       "\t<tr><td> 0.026810136</td></tr>\n",
       "\t<tr><td>-0.013855904</td></tr>\n",
       "\t<tr><td> 0.016794088</td></tr>\n",
       "\t<tr><td> 0.015474445</td></tr>\n",
       "\t<tr><td>-0.026716728</td></tr>\n",
       "\t<tr><td> 0.011153921</td></tr>\n",
       "\t<tr><td> 0.022040866</td></tr>\n",
       "\t<tr><td>-0.042352898</td></tr>\n",
       "\t<tr><td> 0.080962702</td></tr>\n",
       "\t<tr><td> 0.025726999</td></tr>\n",
       "\t<tr><td>-0.003921092</td></tr>\n",
       "\t<tr><td> 0.001009209</td></tr>\n",
       "\t<tr><td> 0.048616637</td></tr>\n",
       "\t<tr><td>-0.009317662</td></tr>\n",
       "\t<tr><td> 0.014421770</td></tr>\n",
       "\t<tr><td>-0.033131415</td></tr>\n",
       "\t<tr><td> 0.005010106</td></tr>\n",
       "\t<tr><td> 0.024713776</td></tr>\n",
       "\t<tr><td>-0.012490241</td></tr>\n",
       "</tbody>\n",
       "</table>\n"
      ],
      "text/latex": [
       "A data.frame: 1600 × 1\n",
       "\\begin{tabular}{l}\n",
       " matrix\\_muestras...1.\\\\\n",
       " <dbl>\\\\\n",
       "\\hline\n",
       "\t  0.0032924362\\\\\n",
       "\t  0.0689469610\\\\\n",
       "\t  0.0220626180\\\\\n",
       "\t  0.0167056216\\\\\n",
       "\t  0.0145913723\\\\\n",
       "\t  0.0231594435\\\\\n",
       "\t  0.0160562918\\\\\n",
       "\t  0.0004991995\\\\\n",
       "\t  0.0151424856\\\\\n",
       "\t -0.0133442239\\\\\n",
       "\t -0.0135819011\\\\\n",
       "\t -0.0131721892\\\\\n",
       "\t  0.0444431982\\\\\n",
       "\t  0.0045966425\\\\\n",
       "\t  0.0359396448\\\\\n",
       "\t  0.0076821419\\\\\n",
       "\t -0.0077284545\\\\\n",
       "\t  0.0376168597\\\\\n",
       "\t -0.0091590482\\\\\n",
       "\t -0.0561796134\\\\\n",
       "\t  0.0066892580\\\\\n",
       "\t  0.0079714311\\\\\n",
       "\t -0.0172239729\\\\\n",
       "\t -0.0050746984\\\\\n",
       "\t  0.0303016277\\\\\n",
       "\t -0.0121315858\\\\\n",
       "\t -0.0007981491\\\\\n",
       "\t  0.0262447759\\\\\n",
       "\t  0.0176421046\\\\\n",
       "\t  0.0166830021\\\\\n",
       "\t ⋮\\\\\n",
       "\t  0.002982828\\\\\n",
       "\t  0.015847808\\\\\n",
       "\t -0.049518292\\\\\n",
       "\t  0.024022449\\\\\n",
       "\t  0.001557270\\\\\n",
       "\t  0.049426596\\\\\n",
       "\t  0.021895206\\\\\n",
       "\t  0.051621138\\\\\n",
       "\t -0.023381288\\\\\n",
       "\t -0.015462091\\\\\n",
       "\t -0.013532265\\\\\n",
       "\t  0.026810136\\\\\n",
       "\t -0.013855904\\\\\n",
       "\t  0.016794088\\\\\n",
       "\t  0.015474445\\\\\n",
       "\t -0.026716728\\\\\n",
       "\t  0.011153921\\\\\n",
       "\t  0.022040866\\\\\n",
       "\t -0.042352898\\\\\n",
       "\t  0.080962702\\\\\n",
       "\t  0.025726999\\\\\n",
       "\t -0.003921092\\\\\n",
       "\t  0.001009209\\\\\n",
       "\t  0.048616637\\\\\n",
       "\t -0.009317662\\\\\n",
       "\t  0.014421770\\\\\n",
       "\t -0.033131415\\\\\n",
       "\t  0.005010106\\\\\n",
       "\t  0.024713776\\\\\n",
       "\t -0.012490241\\\\\n",
       "\\end{tabular}\n"
      ],
      "text/markdown": [
       "\n",
       "A data.frame: 1600 × 1\n",
       "\n",
       "| matrix_muestras...1. &lt;dbl&gt; |\n",
       "|---|\n",
       "|  0.0032924362 |\n",
       "|  0.0689469610 |\n",
       "|  0.0220626180 |\n",
       "|  0.0167056216 |\n",
       "|  0.0145913723 |\n",
       "|  0.0231594435 |\n",
       "|  0.0160562918 |\n",
       "|  0.0004991995 |\n",
       "|  0.0151424856 |\n",
       "| -0.0133442239 |\n",
       "| -0.0135819011 |\n",
       "| -0.0131721892 |\n",
       "|  0.0444431982 |\n",
       "|  0.0045966425 |\n",
       "|  0.0359396448 |\n",
       "|  0.0076821419 |\n",
       "| -0.0077284545 |\n",
       "|  0.0376168597 |\n",
       "| -0.0091590482 |\n",
       "| -0.0561796134 |\n",
       "|  0.0066892580 |\n",
       "|  0.0079714311 |\n",
       "| -0.0172239729 |\n",
       "| -0.0050746984 |\n",
       "|  0.0303016277 |\n",
       "| -0.0121315858 |\n",
       "| -0.0007981491 |\n",
       "|  0.0262447759 |\n",
       "|  0.0176421046 |\n",
       "|  0.0166830021 |\n",
       "| ⋮ |\n",
       "|  0.002982828 |\n",
       "|  0.015847808 |\n",
       "| -0.049518292 |\n",
       "|  0.024022449 |\n",
       "|  0.001557270 |\n",
       "|  0.049426596 |\n",
       "|  0.021895206 |\n",
       "|  0.051621138 |\n",
       "| -0.023381288 |\n",
       "| -0.015462091 |\n",
       "| -0.013532265 |\n",
       "|  0.026810136 |\n",
       "| -0.013855904 |\n",
       "|  0.016794088 |\n",
       "|  0.015474445 |\n",
       "| -0.026716728 |\n",
       "|  0.011153921 |\n",
       "|  0.022040866 |\n",
       "| -0.042352898 |\n",
       "|  0.080962702 |\n",
       "|  0.025726999 |\n",
       "| -0.003921092 |\n",
       "|  0.001009209 |\n",
       "|  0.048616637 |\n",
       "| -0.009317662 |\n",
       "|  0.014421770 |\n",
       "| -0.033131415 |\n",
       "|  0.005010106 |\n",
       "|  0.024713776 |\n",
       "| -0.012490241 |\n",
       "\n"
      ],
      "text/plain": [
       "     matrix_muestras...1.\n",
       "1     0.0032924362       \n",
       "2     0.0689469610       \n",
       "3     0.0220626180       \n",
       "4     0.0167056216       \n",
       "5     0.0145913723       \n",
       "6     0.0231594435       \n",
       "7     0.0160562918       \n",
       "8     0.0004991995       \n",
       "9     0.0151424856       \n",
       "10   -0.0133442239       \n",
       "11   -0.0135819011       \n",
       "12   -0.0131721892       \n",
       "13    0.0444431982       \n",
       "14    0.0045966425       \n",
       "15    0.0359396448       \n",
       "16    0.0076821419       \n",
       "17   -0.0077284545       \n",
       "18    0.0376168597       \n",
       "19   -0.0091590482       \n",
       "20   -0.0561796134       \n",
       "21    0.0066892580       \n",
       "22    0.0079714311       \n",
       "23   -0.0172239729       \n",
       "24   -0.0050746984       \n",
       "25    0.0303016277       \n",
       "26   -0.0121315858       \n",
       "27   -0.0007981491       \n",
       "28    0.0262447759       \n",
       "29    0.0176421046       \n",
       "30    0.0166830021       \n",
       "⋮    ⋮                   \n",
       "1571  0.002982828        \n",
       "1572  0.015847808        \n",
       "1573 -0.049518292        \n",
       "1574  0.024022449        \n",
       "1575  0.001557270        \n",
       "1576  0.049426596        \n",
       "1577  0.021895206        \n",
       "1578  0.051621138        \n",
       "1579 -0.023381288        \n",
       "1580 -0.015462091        \n",
       "1581 -0.013532265        \n",
       "1582  0.026810136        \n",
       "1583 -0.013855904        \n",
       "1584  0.016794088        \n",
       "1585  0.015474445        \n",
       "1586 -0.026716728        \n",
       "1587  0.011153921        \n",
       "1588  0.022040866        \n",
       "1589 -0.042352898        \n",
       "1590  0.080962702        \n",
       "1591  0.025726999        \n",
       "1592 -0.003921092        \n",
       "1593  0.001009209        \n",
       "1594  0.048616637        \n",
       "1595 -0.009317662        \n",
       "1596  0.014421770        \n",
       "1597 -0.033131415        \n",
       "1598  0.005010106        \n",
       "1599  0.024713776        \n",
       "1600 -0.012490241        "
      ]
     },
     "metadata": {},
     "output_type": "display_data"
    }
   ],
   "source": [
    "data.frame(matrix_muestras[,1])"
   ]
  },
  {
   "cell_type": "code",
   "execution_count": 68,
   "id": "16c176e6-201d-4f3e-b05d-da72170efcb7",
   "metadata": {},
   "outputs": [
    {
     "data": {
      "image/png": "[encoded data removed]",
      "text/plain": [
       "plot without title"
      ]
     },
     "metadata": {
      "image/png": {
       "height": 420,
       "width": 420
      }
     },
     "output_type": "display_data"
    }
   ],
   "source": [
    "plot_port_sampleA = ggplot(data.frame(matrix_muestras[,1]),aes(matrix_muestras[,1]))+geom_function(fun=ecdf(matrix_muestras[,1]))+\n",
    "         xlim(-0.1,0.1)+\n",
    "         labs(x=\"precio\",y=\"F_N(x)\",\n",
    "              title=paste0(\"Distr. empírica de lassimulaciones del precio final\")) \n",
    "plot_port_sampleA"
   ]
  },
  {
   "cell_type": "code",
   "execution_count": 38,
   "id": "82a28448-8b30-46b4-a88a-7778ebcb9a4d",
   "metadata": {},
   "outputs": [
    {
     "data": {
      "text/html": [
       "<style>\n",
       ".list-inline {list-style: none; margin:0; padding: 0}\n",
       ".list-inline>li {display: inline-block}\n",
       ".list-inline>li:not(:last-child)::after {content: \"\\00b7\"; padding: 0 .5ex}\n",
       "</style>\n",
       "<ol class=list-inline><li>0.00150974545206473</li><li>-0.019962479626753</li><li>-0.0228439875915891</li><li>-0.0131353206999588</li></ol>\n"
      ],
      "text/latex": [
       "\\begin{enumerate*}\n",
       "\\item 0.00150974545206473\n",
       "\\item -0.019962479626753\n",
       "\\item -0.0228439875915891\n",
       "\\item -0.0131353206999588\n",
       "\\end{enumerate*}\n"
      ],
      "text/markdown": [
       "1. 0.00150974545206473\n",
       "2. -0.019962479626753\n",
       "3. -0.0228439875915891\n",
       "4. -0.0131353206999588\n",
       "\n",
       "\n"
      ],
      "text/plain": [
       "[1]  0.001509745 -0.019962480 -0.022843988 -0.013135321"
      ]
     },
     "metadata": {},
     "output_type": "display_data"
    }
   ],
   "source": [
    "c(sample_A[1],sample_B[1],sample_C[1],sample_D[1])"
   ]
  },
  {
   "cell_type": "code",
   "execution_count": 42,
   "id": "714fe298-64ce-41bd-8672-6d17d3fd98e7",
   "metadata": {},
   "outputs": [
    {
     "data": {
      "text/html": [
       "<table class=\"dataframe\">\n",
       "<caption>A matrix: 1 × 4 of type dbl</caption>\n",
       "<tbody>\n",
       "\t<tr><td>0.003292436</td><td>-0.01743801</td><td>-0.01916263</td><td>-0.02005578</td></tr>\n",
       "</tbody>\n",
       "</table>\n"
      ],
      "text/latex": [
       "A matrix: 1 × 4 of type dbl\n",
       "\\begin{tabular}{llll}\n",
       "\t 0.003292436 & -0.01743801 & -0.01916263 & -0.02005578\\\\\n",
       "\\end{tabular}\n"
      ],
      "text/markdown": [
       "\n",
       "A matrix: 1 × 4 of type dbl\n",
       "\n",
       "| 0.003292436 | -0.01743801 | -0.01916263 | -0.02005578 |\n",
       "\n"
      ],
      "text/plain": [
       "     [,1]        [,2]        [,3]        [,4]       \n",
       "[1,] 0.003292436 -0.01743801 -0.01916263 -0.02005578"
      ]
     },
     "metadata": {},
     "output_type": "display_data"
    }
   ],
   "source": [
    "t(z)"
   ]
  },
  {
   "cell_type": "code",
   "execution_count": 45,
   "id": "f3f0ffa1-6d45-4177-bfd7-6462d0808f6e",
   "metadata": {},
   "outputs": [
    {
     "data": {
      "text/plain": [
       "NULL"
      ]
     },
     "metadata": {},
     "output_type": "display_data"
    }
   ],
   "source": [
    "vector2=c()\n",
    "vector2"
   ]
  },
  {
   "cell_type": "code",
   "execution_count": 47,
   "id": "5b046542-fa59-4c55-aaf7-bf55f8376040",
   "metadata": {},
   "outputs": [
    {
     "data": {
      "text/html": [
       "<table class=\"dataframe\">\n",
       "<caption>A matrix: 1 × 4 of type dbl</caption>\n",
       "<tbody>\n",
       "\t<tr><td>0.003292436</td><td>-0.01743801</td><td>-0.01916263</td><td>-0.02005578</td></tr>\n",
       "</tbody>\n",
       "</table>\n"
      ],
      "text/latex": [
       "A matrix: 1 × 4 of type dbl\n",
       "\\begin{tabular}{llll}\n",
       "\t 0.003292436 & -0.01743801 & -0.01916263 & -0.02005578\\\\\n",
       "\\end{tabular}\n"
      ],
      "text/markdown": [
       "\n",
       "A matrix: 1 × 4 of type dbl\n",
       "\n",
       "| 0.003292436 | -0.01743801 | -0.01916263 | -0.02005578 |\n",
       "\n"
      ],
      "text/plain": [
       "     [,1]        [,2]        [,3]        [,4]       \n",
       "[1,] 0.003292436 -0.01743801 -0.01916263 -0.02005578"
      ]
     },
     "metadata": {},
     "output_type": "display_data"
    }
   ],
   "source": [
    "rbind(vector2,t(z))"
   ]
  },
  {
   "cell_type": "code",
   "execution_count": null,
   "id": "01ead85c-a4c0-49dd-b63f-c692f2727f68",
   "metadata": {},
   "outputs": [],
   "source": []
  }
 ],
 "metadata": {
  "kernelspec": {
   "display_name": "R",
   "language": "R",
   "name": "ir"
  },
  "language_info": {
   "codemirror_mode": "r",
   "file_extension": ".r",
   "mimetype": "text/x-r-source",
   "name": "R",
   "pygments_lexer": "r",
   "version": "4.1.3"
  },
  "toc": {
   "base_numbering": 1,
   "nav_menu": {},
   "number_sections": true,
   "sideBar": true,
   "skip_h1_title": false,
   "title_cell": "Table of Contents",
   "title_sidebar": "Contents",
   "toc_cell": false,
   "toc_position": {},
   "toc_section_display": true,
   "toc_window_display": false
  },
  "varInspector": {
   "cols": {
    "lenName": 16,
    "lenType": 16,
    "lenVar": 40
   },
   "kernels_config": {
    "python": {
     "delete_cmd_postfix": "",
     "delete_cmd_prefix": "del ",
     "library": "var_list.py",
     "varRefreshCmd": "print(var_dic_list())"
    },
    "r": {
     "delete_cmd_postfix": ") ",
     "delete_cmd_prefix": "rm(",
     "library": "var_list.r",
     "varRefreshCmd": "cat(var_dic_list()) "
    }
   },
   "position": {
    "height": "144px",
    "left": "1264px",
    "right": "20px",
    "top": "121px",
    "width": "350px"
   },
   "types_to_exclude": [
    "module",
    "function",
    "builtin_function_or_method",
    "instance",
    "_Feature"
   ],
   "window_display": false
  }
 },
 "nbformat": 4,
 "nbformat_minor": 5
}
