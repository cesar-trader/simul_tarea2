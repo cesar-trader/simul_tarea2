{
 "cells": [
  {
   "cell_type": "markdown",
   "id": "77fcdea6",
   "metadata": {},
   "source": [
    "# Tarea N°3"
   ]
  },
  {
   "cell_type": "markdown",
   "id": "cf2885fa",
   "metadata": {},
   "source": [
    "### César Cerda Bollmann"
   ]
  },
  {
   "cell_type": "code",
   "execution_count": 13,
   "id": "e643551e",
   "metadata": {},
   "outputs": [
    {
     "name": "stderr",
     "output_type": "stream",
     "text": [
      "Installing package into ‘/srv/rlibs’\n",
      "(as ‘lib’ is unspecified)\n",
      "\n",
      "Installing package into ‘/srv/rlibs’\n",
      "(as ‘lib’ is unspecified)\n",
      "\n",
      "Installing package into ‘/srv/rlibs’\n",
      "(as ‘lib’ is unspecified)\n",
      "\n"
     ]
    }
   ],
   "source": [
    "install.packages('tidyr')\n",
    "install.packages('ggplot2')\n",
    "install.packages('data.table')"
   ]
  },
  {
   "cell_type": "code",
   "execution_count": 14,
   "id": "ce19fe1c",
   "metadata": {},
   "outputs": [
    {
     "name": "stderr",
     "output_type": "stream",
     "text": [
      "\n",
      "Attaching package: ‘data.table’\n",
      "\n",
      "\n",
      "The following object is masked from ‘package:purrr’:\n",
      "\n",
      "    transpose\n",
      "\n",
      "\n"
     ]
    }
   ],
   "source": [
    "library(purrr)\n",
    "library(ggplot2)\n",
    "library(data.table)"
   ]
  },
  {
   "cell_type": "markdown",
   "id": "66fd172a-9048-4a20-b729-4f1e6a328756",
   "metadata": {},
   "source": [
    "## Pregunta N°1"
   ]
  },
  {
   "cell_type": "markdown",
   "id": "e4591f89",
   "metadata": {},
   "source": [
    "### a) Gráfico la función densidad"
   ]
  },
  {
   "cell_type": "code",
   "execution_count": 3,
   "id": "704532be-f1ac-448f-a8fd-4f6adf1ba714",
   "metadata": {},
   "outputs": [],
   "source": [
    "x=seq(-10,10,0.1)\n",
    "y=1:length(x)\n",
    "for (i in 1:length(x)) {\n",
    "    if (x[i]<0){\n",
    "        y[i]=0.5*exp(x[i])\n",
    "    } else if(x[i]>=0) {     \n",
    "        y[i]=0.5*exp(-x[i])\n",
    "    }\n",
    "}"
   ]
  },
  {
   "cell_type": "code",
   "execution_count": 4,
   "id": "1a2ddc2a-cc1d-453d-9b42-af7a4f3d7b70",
   "metadata": {},
   "outputs": [
    {
     "data": {
      "image/png": "[encoded data removed]",
      "text/plain": [
       "plot without title"
      ]
     },
     "metadata": {
      "image/png": {
       "height": 420,
       "width": 420
      }
     },
     "output_type": "display_data"
    }
   ],
   "source": [
    "plot(x,y,type='l')"
   ]
  },
  {
   "cell_type": "markdown",
   "id": "0b3e806f-7f1a-448d-92b4-977416120f22",
   "metadata": {},
   "source": [
    "### b) Calcule y grafique la función distribución acumulada F(x)"
   ]
  },
  {
   "cell_type": "code",
   "execution_count": 5,
   "id": "97870a2d-fb38-49fa-a8bc-92ab02b09aa0",
   "metadata": {},
   "outputs": [],
   "source": [
    "X = seq(-10,10,0.1)\n",
    "F = 1:length(X)\n",
    "for (i in 1:length(X)){\n",
    "    if (X[i]<0){\n",
    "        F[i] = 0.5*exp(X[i])\n",
    "        }\n",
    "    if (X[i]>=0){\n",
    "        F[i]= 1- 0.5*exp(-X[i])\n",
    "        }\n",
    "    }"
   ]
  },
  {
   "cell_type": "code",
   "execution_count": 6,
   "id": "f75afba4-42f9-4942-83df-a1269f99b8b9",
   "metadata": {},
   "outputs": [
    {
     "data": {
      "image/png": "[encoded data removed]",
      "text/plain": [
       "plot without title"
      ]
     },
     "metadata": {
      "image/png": {
       "height": 420,
       "width": 420
      }
     },
     "output_type": "display_data"
    }
   ],
   "source": [
    "plot(X,F,type='l')"
   ]
  },
  {
   "cell_type": "markdown",
   "id": "92395939-0e07-4add-8e9b-012a48a9652e",
   "metadata": {},
   "source": [
    "### c) Utilizando el método de la transformada inversa, genere 1000 muestras de la distribución dada por F."
   ]
  },
  {
   "cell_type": "code",
   "execution_count": 26,
   "id": "942cd799-3e8b-4d76-b9bd-71ab2aa368f0",
   "metadata": {},
   "outputs": [],
   "source": [
    "set.seed(1234)\n",
    "sample_uniform = runif(1000, 0, 1)"
   ]
  },
  {
   "cell_type": "code",
   "execution_count": 27,
   "id": "deb84f11-9e4d-4f03-9a7b-947cf8c58b39",
   "metadata": {},
   "outputs": [],
   "source": [
    "sample_F = 1:length(sample_uniform)\n",
    "for (i in 1:length(sample_uniform)){\n",
    "    if (sample_uniform[i]<0.5){\n",
    "        sample_F[i] = log(2*sample_uniform[i])\n",
    "        }\n",
    "    if (sample_uniform[i]>=0.5){\n",
    "        sample_F[i]= -log(2-2*sample_uniform[i])\n",
    "        }\n",
    "    }"
   ]
  },
  {
   "cell_type": "code",
   "execution_count": 28,
   "id": "dd024ff3-9def-45bf-9c82-cad463670756",
   "metadata": {},
   "outputs": [],
   "source": [
    "sample_F_data = data.frame(sample_F)"
   ]
  },
  {
   "cell_type": "code",
   "execution_count": 29,
   "id": "07a7f498-bf0c-4fd8-a83e-1b62d131d4fa",
   "metadata": {},
   "outputs": [
    {
     "data": {
      "text/html": [
       "<table class=\"dataframe\">\n",
       "<caption>A data.frame: 1000 × 1</caption>\n",
       "<thead>\n",
       "\t<tr><th scope=col>sample_F</th></tr>\n",
       "\t<tr><th scope=col>&lt;dbl&gt;</th></tr>\n",
       "</thead>\n",
       "<tbody>\n",
       "\t<tr><td>-1.48101470</td></tr>\n",
       "\t<tr><td> 0.28050629</td></tr>\n",
       "\t<tr><td> 0.24660343</td></tr>\n",
       "\t<tr><td> 0.28336989</td></tr>\n",
       "\t<tr><td> 1.27952560</td></tr>\n",
       "\t<tr><td> 0.32936723</td></tr>\n",
       "\t<tr><td>-3.96376310</td></tr>\n",
       "\t<tr><td>-0.76550067</td></tr>\n",
       "\t<tr><td> 0.40371791</td></tr>\n",
       "\t<tr><td> 0.02891636</td></tr>\n",
       "\t<tr><td> 0.48968824</td></tr>\n",
       "\t<tr><td> 0.09425537</td></tr>\n",
       "\t<tr><td>-0.57010304</td></tr>\n",
       "\t<tr><td> 1.87644825</td></tr>\n",
       "\t<tr><td>-0.53677324</td></tr>\n",
       "\t<tr><td> 1.12267321</td></tr>\n",
       "\t<tr><td>-0.55783588</td></tr>\n",
       "\t<tr><td>-0.62803090</td></tr>\n",
       "\t<tr><td>-0.98498299</td></tr>\n",
       "\t<tr><td>-0.76689745</td></tr>\n",
       "\t<tr><td>-0.45692961</td></tr>\n",
       "\t<tr><td>-0.50188778</td></tr>\n",
       "\t<tr><td>-1.14541461</td></tr>\n",
       "\t<tr><td>-2.52583070</td></tr>\n",
       "\t<tr><td>-0.82645213</td></tr>\n",
       "\t<tr><td> 0.97073927</td></tr>\n",
       "\t<tr><td> 0.05276289</td></tr>\n",
       "\t<tr><td> 1.76794333</td></tr>\n",
       "\t<tr><td> 1.08675317</td></tr>\n",
       "\t<tr><td>-2.39097349</td></tr>\n",
       "\t<tr><td>⋮</td></tr>\n",
       "\t<tr><td> 6.57561445</td></tr>\n",
       "\t<tr><td> 0.54056965</td></tr>\n",
       "\t<tr><td>-5.06094323</td></tr>\n",
       "\t<tr><td> 0.77537277</td></tr>\n",
       "\t<tr><td>-0.91513556</td></tr>\n",
       "\t<tr><td> 0.47642180</td></tr>\n",
       "\t<tr><td> 0.69256119</td></tr>\n",
       "\t<tr><td>-0.74096392</td></tr>\n",
       "\t<tr><td> 2.36375389</td></tr>\n",
       "\t<tr><td> 0.18580749</td></tr>\n",
       "\t<tr><td> 0.91358473</td></tr>\n",
       "\t<tr><td> 2.03412411</td></tr>\n",
       "\t<tr><td>-1.87610343</td></tr>\n",
       "\t<tr><td> 0.39631202</td></tr>\n",
       "\t<tr><td> 3.68366645</td></tr>\n",
       "\t<tr><td>-0.68386612</td></tr>\n",
       "\t<tr><td>-2.53992343</td></tr>\n",
       "\t<tr><td> 3.54890684</td></tr>\n",
       "\t<tr><td>-1.32538169</td></tr>\n",
       "\t<tr><td>-1.04304098</td></tr>\n",
       "\t<tr><td>-0.03501636</td></tr>\n",
       "\t<tr><td> 0.31768790</td></tr>\n",
       "\t<tr><td> 3.64805004</td></tr>\n",
       "\t<tr><td>-1.61410190</td></tr>\n",
       "\t<tr><td> 0.48998691</td></tr>\n",
       "\t<tr><td>-5.94557217</td></tr>\n",
       "\t<tr><td> 0.76539937</td></tr>\n",
       "\t<tr><td>-0.44635102</td></tr>\n",
       "\t<tr><td> 2.47724436</td></tr>\n",
       "\t<tr><td>-0.93957175</td></tr>\n",
       "</tbody>\n",
       "</table>\n"
      ],
      "text/latex": [
       "A data.frame: 1000 × 1\n",
       "\\begin{tabular}{l}\n",
       " sample\\_F\\\\\n",
       " <dbl>\\\\\n",
       "\\hline\n",
       "\t -1.48101470\\\\\n",
       "\t  0.28050629\\\\\n",
       "\t  0.24660343\\\\\n",
       "\t  0.28336989\\\\\n",
       "\t  1.27952560\\\\\n",
       "\t  0.32936723\\\\\n",
       "\t -3.96376310\\\\\n",
       "\t -0.76550067\\\\\n",
       "\t  0.40371791\\\\\n",
       "\t  0.02891636\\\\\n",
       "\t  0.48968824\\\\\n",
       "\t  0.09425537\\\\\n",
       "\t -0.57010304\\\\\n",
       "\t  1.87644825\\\\\n",
       "\t -0.53677324\\\\\n",
       "\t  1.12267321\\\\\n",
       "\t -0.55783588\\\\\n",
       "\t -0.62803090\\\\\n",
       "\t -0.98498299\\\\\n",
       "\t -0.76689745\\\\\n",
       "\t -0.45692961\\\\\n",
       "\t -0.50188778\\\\\n",
       "\t -1.14541461\\\\\n",
       "\t -2.52583070\\\\\n",
       "\t -0.82645213\\\\\n",
       "\t  0.97073927\\\\\n",
       "\t  0.05276289\\\\\n",
       "\t  1.76794333\\\\\n",
       "\t  1.08675317\\\\\n",
       "\t -2.39097349\\\\\n",
       "\t ⋮\\\\\n",
       "\t  6.57561445\\\\\n",
       "\t  0.54056965\\\\\n",
       "\t -5.06094323\\\\\n",
       "\t  0.77537277\\\\\n",
       "\t -0.91513556\\\\\n",
       "\t  0.47642180\\\\\n",
       "\t  0.69256119\\\\\n",
       "\t -0.74096392\\\\\n",
       "\t  2.36375389\\\\\n",
       "\t  0.18580749\\\\\n",
       "\t  0.91358473\\\\\n",
       "\t  2.03412411\\\\\n",
       "\t -1.87610343\\\\\n",
       "\t  0.39631202\\\\\n",
       "\t  3.68366645\\\\\n",
       "\t -0.68386612\\\\\n",
       "\t -2.53992343\\\\\n",
       "\t  3.54890684\\\\\n",
       "\t -1.32538169\\\\\n",
       "\t -1.04304098\\\\\n",
       "\t -0.03501636\\\\\n",
       "\t  0.31768790\\\\\n",
       "\t  3.64805004\\\\\n",
       "\t -1.61410190\\\\\n",
       "\t  0.48998691\\\\\n",
       "\t -5.94557217\\\\\n",
       "\t  0.76539937\\\\\n",
       "\t -0.44635102\\\\\n",
       "\t  2.47724436\\\\\n",
       "\t -0.93957175\\\\\n",
       "\\end{tabular}\n"
      ],
      "text/markdown": [
       "\n",
       "A data.frame: 1000 × 1\n",
       "\n",
       "| sample_F &lt;dbl&gt; |\n",
       "|---|\n",
       "| -1.48101470 |\n",
       "|  0.28050629 |\n",
       "|  0.24660343 |\n",
       "|  0.28336989 |\n",
       "|  1.27952560 |\n",
       "|  0.32936723 |\n",
       "| -3.96376310 |\n",
       "| -0.76550067 |\n",
       "|  0.40371791 |\n",
       "|  0.02891636 |\n",
       "|  0.48968824 |\n",
       "|  0.09425537 |\n",
       "| -0.57010304 |\n",
       "|  1.87644825 |\n",
       "| -0.53677324 |\n",
       "|  1.12267321 |\n",
       "| -0.55783588 |\n",
       "| -0.62803090 |\n",
       "| -0.98498299 |\n",
       "| -0.76689745 |\n",
       "| -0.45692961 |\n",
       "| -0.50188778 |\n",
       "| -1.14541461 |\n",
       "| -2.52583070 |\n",
       "| -0.82645213 |\n",
       "|  0.97073927 |\n",
       "|  0.05276289 |\n",
       "|  1.76794333 |\n",
       "|  1.08675317 |\n",
       "| -2.39097349 |\n",
       "| ⋮ |\n",
       "|  6.57561445 |\n",
       "|  0.54056965 |\n",
       "| -5.06094323 |\n",
       "|  0.77537277 |\n",
       "| -0.91513556 |\n",
       "|  0.47642180 |\n",
       "|  0.69256119 |\n",
       "| -0.74096392 |\n",
       "|  2.36375389 |\n",
       "|  0.18580749 |\n",
       "|  0.91358473 |\n",
       "|  2.03412411 |\n",
       "| -1.87610343 |\n",
       "|  0.39631202 |\n",
       "|  3.68366645 |\n",
       "| -0.68386612 |\n",
       "| -2.53992343 |\n",
       "|  3.54890684 |\n",
       "| -1.32538169 |\n",
       "| -1.04304098 |\n",
       "| -0.03501636 |\n",
       "|  0.31768790 |\n",
       "|  3.64805004 |\n",
       "| -1.61410190 |\n",
       "|  0.48998691 |\n",
       "| -5.94557217 |\n",
       "|  0.76539937 |\n",
       "| -0.44635102 |\n",
       "|  2.47724436 |\n",
       "| -0.93957175 |\n",
       "\n"
      ],
      "text/plain": [
       "     sample_F   \n",
       "1    -1.48101470\n",
       "2     0.28050629\n",
       "3     0.24660343\n",
       "4     0.28336989\n",
       "5     1.27952560\n",
       "6     0.32936723\n",
       "7    -3.96376310\n",
       "8    -0.76550067\n",
       "9     0.40371791\n",
       "10    0.02891636\n",
       "11    0.48968824\n",
       "12    0.09425537\n",
       "13   -0.57010304\n",
       "14    1.87644825\n",
       "15   -0.53677324\n",
       "16    1.12267321\n",
       "17   -0.55783588\n",
       "18   -0.62803090\n",
       "19   -0.98498299\n",
       "20   -0.76689745\n",
       "21   -0.45692961\n",
       "22   -0.50188778\n",
       "23   -1.14541461\n",
       "24   -2.52583070\n",
       "25   -0.82645213\n",
       "26    0.97073927\n",
       "27    0.05276289\n",
       "28    1.76794333\n",
       "29    1.08675317\n",
       "30   -2.39097349\n",
       "⋮    ⋮          \n",
       "971   6.57561445\n",
       "972   0.54056965\n",
       "973  -5.06094323\n",
       "974   0.77537277\n",
       "975  -0.91513556\n",
       "976   0.47642180\n",
       "977   0.69256119\n",
       "978  -0.74096392\n",
       "979   2.36375389\n",
       "980   0.18580749\n",
       "981   0.91358473\n",
       "982   2.03412411\n",
       "983  -1.87610343\n",
       "984   0.39631202\n",
       "985   3.68366645\n",
       "986  -0.68386612\n",
       "987  -2.53992343\n",
       "988   3.54890684\n",
       "989  -1.32538169\n",
       "990  -1.04304098\n",
       "991  -0.03501636\n",
       "992   0.31768790\n",
       "993   3.64805004\n",
       "994  -1.61410190\n",
       "995   0.48998691\n",
       "996  -5.94557217\n",
       "997   0.76539937\n",
       "998  -0.44635102\n",
       "999   2.47724436\n",
       "1000 -0.93957175"
      ]
     },
     "metadata": {},
     "output_type": "display_data"
    }
   ],
   "source": [
    "sample_F_data['sample_F']"
   ]
  },
  {
   "cell_type": "markdown",
   "id": "ed36cfb0-da1b-4436-864f-7153e9740539",
   "metadata": {},
   "source": [
    "### d) Muestre un histograma de las muestras generadas, y grafique la distribución empírica acumulada correspondiente. Sobreponga ese gráfico con el gráfico de la función calculada en (b)."
   ]
  },
  {
   "cell_type": "code",
   "execution_count": 30,
   "id": "58b3cd2d-0ca1-4d5b-9615-26829b77b70f",
   "metadata": {},
   "outputs": [
    {
     "data": {
      "image/png": "[encoded data removed]",
      "text/plain": [
       "plot without title"
      ]
     },
     "metadata": {
      "image/png": {
       "height": 420,
       "width": 420
      }
     },
     "output_type": "display_data"
    }
   ],
   "source": [
    "bin <- 0.5\n",
    "plotfig <- ggplot(sample_F_data,aes(sample_F))+\n",
    "        theme(plot.title = element_text(size = 20),\n",
    "              axis.title.y=element_text(size = 15),\n",
    "              axis.title.x=element_text(size = 15))\n",
    " \n",
    "p <- plotfig+geom_histogram(aes(y = after_stat(count /(sum(count)))), binwidth=bin, color=\"black\", fill=\"gray\")+\n",
    "       labs(x=\"x\",\n",
    "            y=\"frecuencia\",\n",
    "            title=paste0(\"Histograma de las muestras generadas\"))\n",
    "\n",
    "#p <- p+ geom_vline(aes(xintercept=mean(PT)),\n",
    "#            color=\"blue\", linetype=\"dashed\", size=1)\n",
    "           \n",
    "p "
   ]
  },
  {
   "cell_type": "code",
   "execution_count": 13,
   "id": "c8c68a2f-4160-4a6a-b89f-f22dce22c2dd",
   "metadata": {},
   "outputs": [
    {
     "data": {
      "image/png": "[encoded data removed]",
      "text/plain": [
       "plot without title"
      ]
     },
     "metadata": {
      "image/png": {
       "height": 420,
       "width": 420
      }
     },
     "output_type": "display_data"
    }
   ],
   "source": [
    "pfin2 = ggplot(sample_F_data,aes(sample_F))+geom_function(fun=ecdf(sample_F))+\n",
    "         xlim(-10,10)+\n",
    "         labs(x=\"x\",y=\"F_N(x)\",\n",
    "              title=paste0(\"Distr. empírica acumulada\")) \n",
    "pfin2"
   ]
  },
  {
   "cell_type": "code",
   "execution_count": 31,
   "id": "b593efbb-86d4-470c-96bf-f3083003a893",
   "metadata": {},
   "outputs": [],
   "source": [
    "F_dist = function(x) {ifelse(x<0, 0.5*exp(x),1- 0.5*exp(-x))}"
   ]
  },
  {
   "cell_type": "code",
   "execution_count": 33,
   "id": "9e84360a-5352-4304-b17c-0cc82aa3f5b7",
   "metadata": {},
   "outputs": [
    {
     "data": {
      "image/png": "[encoded data removed]",
      "text/plain": [
       "plot without title"
      ]
     },
     "metadata": {
      "image/png": {
       "height": 420,
       "width": 420
      }
     },
     "output_type": "display_data"
    }
   ],
   "source": [
    "pfin3 = pfin2 + stat_function(fun = F_dist, color=\"red\")+\n",
    "       labs(x=\"x\",\n",
    "            y=\"frecuencia\",\n",
    "            title=paste0(\"Superposición Distribución Empirica Acumulada y Función Teórica\"))\n",
    "pfin3"
   ]
  },
  {
   "cell_type": "markdown",
   "id": "f1d938d5-6012-4d4e-8f64-7ab2c08b1e33",
   "metadata": {},
   "source": [
    "#### e) Determine una distribución Normal que a usted le parezca la más cercana a los datos. Compare la curva la distribución acumulada de esa distribución Normal con las curvas generadas en (d). Qué se concluye?"
   ]
  },
  {
   "cell_type": "markdown",
   "id": "3e550d7a-d9ce-4184-9422-e9e53d505c05",
   "metadata": {},
   "source": [
    "Se calcula la media y la desviación estándar de la muestra, con estos parámentros se genera una distribución normal.  Se compara con el histograma de las muestras y se observa un buen ajuste"
   ]
  },
  {
   "cell_type": "code",
   "execution_count": 35,
   "id": "f29bfba3-32d4-4ddd-b194-7f2c8b285419",
   "metadata": {},
   "outputs": [
    {
     "data": {
      "text/html": [
       "0.0427919004420339"
      ],
      "text/latex": [
       "0.0427919004420339"
      ],
      "text/markdown": [
       "0.0427919004420339"
      ],
      "text/plain": [
       "[1] 0.0427919"
      ]
     },
     "metadata": {},
     "output_type": "display_data"
    }
   ],
   "source": [
    "media =mean(sample_F)\n",
    "media"
   ]
  },
  {
   "cell_type": "code",
   "execution_count": 36,
   "id": "e24d3914-338d-4ee2-bb22-ffa270716872",
   "metadata": {},
   "outputs": [
    {
     "data": {
      "text/html": [
       "1.49128712108451"
      ],
      "text/latex": [
       "1.49128712108451"
      ],
      "text/markdown": [
       "1.49128712108451"
      ],
      "text/plain": [
       "[1] 1.491287"
      ]
     },
     "metadata": {},
     "output_type": "display_data"
    }
   ],
   "source": [
    "stdrd =sd(sample_F)\n",
    "stdrd"
   ]
  },
  {
   "cell_type": "code",
   "execution_count": 37,
   "id": "1e11a55c-e870-48b2-86a0-5062387fe0e3",
   "metadata": {},
   "outputs": [
    {
     "data": {
      "image/png": "[encoded data removed]",
      "text/plain": [
       "plot without title"
      ]
     },
     "metadata": {
      "image/png": {
       "height": 420,
       "width": 420
      }
     },
     "output_type": "display_data"
    }
   ],
   "source": [
    "p+geom_function(fun = dnorm, args = list(mean = media, sd = stdrd))"
   ]
  },
  {
   "cell_type": "markdown",
   "id": "8cdf0550-45df-46b1-8cd9-ca869711635f",
   "metadata": {},
   "source": [
    "Se superpone la distribución acumulada con las curvas en (d)"
   ]
  },
  {
   "cell_type": "code",
   "execution_count": 44,
   "id": "04fb4f33-29b8-4095-a00a-afaf9389a87d",
   "metadata": {},
   "outputs": [],
   "source": [
    "pfin4 =pfin3+stat_function(fun = pnorm, n = 1000, args = list(mean = media, sd = stdrd), color = \"green\")+labs(x=\"x\",\n",
    "            y=\"F_N(x)\",\n",
    "            title=paste0(\"Comparación Función Normal Acumulada y (d)\"))"
   ]
  },
  {
   "cell_type": "code",
   "execution_count": 45,
   "id": "8cbe37ff-2ae0-4a8d-926a-9955d46a84ca",
   "metadata": {},
   "outputs": [
    {
     "data": {
      "image/png": "[encoded data removed]",
      "text/plain": [
       "plot without title"
      ]
     },
     "metadata": {
      "image/png": {
       "height": 420,
       "width": 420
      }
     },
     "output_type": "display_data"
    }
   ],
   "source": [
    "pfin4"
   ]
  },
  {
   "cell_type": "markdown",
   "id": "53539eff-ee7b-4809-a767-f411b1aacc5c",
   "metadata": {},
   "source": [
    "## Pregunta N°2"
   ]
  },
  {
   "cell_type": "markdown",
   "id": "29818078-8e58-481d-bcdf-77ef92a6f61b",
   "metadata": {},
   "source": [
    "#### a) Haga la comparación utilizando un test-t independiente. Calcule el valor-p. ¿Cuál política es mejor bajo ese test?"
   ]
  },
  {
   "cell_type": "code",
   "execution_count": 46,
   "id": "d6d4153d-60b9-40f5-93da-cc81db7d3312",
   "metadata": {},
   "outputs": [
    {
     "name": "stderr",
     "output_type": "stream",
     "text": [
      "Installing package into ‘/srv/rlibs’\n",
      "(as ‘lib’ is unspecified)\n",
      "\n",
      "also installing the dependencies ‘rematch’, ‘hms’, ‘cellranger’, ‘progress’\n",
      "\n",
      "\n"
     ]
    }
   ],
   "source": [
    "install.packages(\"readxl\")"
   ]
  },
  {
   "cell_type": "code",
   "execution_count": 47,
   "id": "50c38417-3ed1-45b6-b7ef-a83f26468106",
   "metadata": {},
   "outputs": [],
   "source": [
    "library(readxl)"
   ]
  },
  {
   "cell_type": "markdown",
   "id": "31d540e0-b819-45e7-ba50-4e27a9749778",
   "metadata": {},
   "source": [
    "#### Nos interesa evaluar cual política de inventario es mejor.  Para esto se plantea la siguiente hipótesis\n",
    "#### Ho : u(400) >= u(300)\n",
    "#### Ha : u(400) < u(300)"
   ]
  },
  {
   "cell_type": "code",
   "execution_count": 49,
   "id": "bf299f11-4d2b-4da7-9765-64cb52b1e282",
   "metadata": {},
   "outputs": [],
   "source": [
    "data = read_excel(\"data_independiente.xlsx\")\n",
    "data = as.data.frame(data)"
   ]
  },
  {
   "cell_type": "code",
   "execution_count": 50,
   "id": "be7e20ef-8584-413f-a0be-28886daae8f3",
   "metadata": {},
   "outputs": [],
   "source": [
    "dat400 = data$Ss_400\n",
    "dat300 = data$Ss_300"
   ]
  },
  {
   "cell_type": "code",
   "execution_count": 52,
   "id": "98fbe413-a28c-4cc2-bf9c-e60d73d7dbae",
   "metadata": {},
   "outputs": [
    {
     "data": {
      "text/html": [
       "<table class=\"dataframe\">\n",
       "<caption>A data.frame: 1000 × 2</caption>\n",
       "<thead>\n",
       "\t<tr><th scope=col>Ss_400</th><th scope=col>Ss_300</th></tr>\n",
       "\t<tr><th scope=col>&lt;dbl&gt;</th><th scope=col>&lt;dbl&gt;</th></tr>\n",
       "</thead>\n",
       "<tbody>\n",
       "\t<tr><td>127500</td><td>337200</td></tr>\n",
       "\t<tr><td>448500</td><td>349500</td></tr>\n",
       "\t<tr><td>243000</td><td>181500</td></tr>\n",
       "\t<tr><td> 40500</td><td>315000</td></tr>\n",
       "\t<tr><td>367500</td><td> 97500</td></tr>\n",
       "\t<tr><td>102000</td><td>344100</td></tr>\n",
       "\t<tr><td>306000</td><td>339900</td></tr>\n",
       "\t<tr><td>274500</td><td>168000</td></tr>\n",
       "\t<tr><td>216000</td><td>265500</td></tr>\n",
       "\t<tr><td>250500</td><td>346500</td></tr>\n",
       "\t<tr><td>285000</td><td>124500</td></tr>\n",
       "\t<tr><td>172500</td><td>162000</td></tr>\n",
       "\t<tr><td>222000</td><td>348900</td></tr>\n",
       "\t<tr><td>463500</td><td>264000</td></tr>\n",
       "\t<tr><td>318000</td><td>297000</td></tr>\n",
       "\t<tr><td> 79500</td><td>208500</td></tr>\n",
       "\t<tr><td>409500</td><td> 82500</td></tr>\n",
       "\t<tr><td>436500</td><td> 73500</td></tr>\n",
       "\t<tr><td>391500</td><td>286500</td></tr>\n",
       "\t<tr><td>345000</td><td>268500</td></tr>\n",
       "\t<tr><td> 49500</td><td>354600</td></tr>\n",
       "\t<tr><td>309000</td><td>151500</td></tr>\n",
       "\t<tr><td>400500</td><td>181500</td></tr>\n",
       "\t<tr><td>394500</td><td>267000</td></tr>\n",
       "\t<tr><td>190500</td><td> 82500</td></tr>\n",
       "\t<tr><td>115500</td><td>246000</td></tr>\n",
       "\t<tr><td>171000</td><td>201000</td></tr>\n",
       "\t<tr><td>411000</td><td>354600</td></tr>\n",
       "\t<tr><td>381000</td><td>300000</td></tr>\n",
       "\t<tr><td>261000</td><td>163500</td></tr>\n",
       "\t<tr><td>⋮</td><td>⋮</td></tr>\n",
       "\t<tr><td>330000</td><td>195000</td></tr>\n",
       "\t<tr><td>279000</td><td>336600</td></tr>\n",
       "\t<tr><td>372000</td><td>360000</td></tr>\n",
       "\t<tr><td>342000</td><td>359400</td></tr>\n",
       "\t<tr><td>201000</td><td>335100</td></tr>\n",
       "\t<tr><td>346500</td><td>327000</td></tr>\n",
       "\t<tr><td>475500</td><td>335700</td></tr>\n",
       "\t<tr><td>412500</td><td> 72000</td></tr>\n",
       "\t<tr><td> 52500</td><td>126000</td></tr>\n",
       "\t<tr><td>291000</td><td>270000</td></tr>\n",
       "\t<tr><td>112500</td><td>159000</td></tr>\n",
       "\t<tr><td>202500</td><td>133500</td></tr>\n",
       "\t<tr><td>237000</td><td>341700</td></tr>\n",
       "\t<tr><td>427500</td><td>331500</td></tr>\n",
       "\t<tr><td>418500</td><td>334200</td></tr>\n",
       "\t<tr><td>261000</td><td>334500</td></tr>\n",
       "\t<tr><td>460500</td><td>337500</td></tr>\n",
       "\t<tr><td>339000</td><td>319500</td></tr>\n",
       "\t<tr><td>274500</td><td>344100</td></tr>\n",
       "\t<tr><td>387000</td><td>205500</td></tr>\n",
       "\t<tr><td>103500</td><td>105000</td></tr>\n",
       "\t<tr><td>357000</td><td>222000</td></tr>\n",
       "\t<tr><td> 57000</td><td>168000</td></tr>\n",
       "\t<tr><td>196500</td><td>330000</td></tr>\n",
       "\t<tr><td>117000</td><td>196500</td></tr>\n",
       "\t<tr><td>180000</td><td>120000</td></tr>\n",
       "\t<tr><td>190500</td><td>243000</td></tr>\n",
       "\t<tr><td>457500</td><td>283500</td></tr>\n",
       "\t<tr><td> 93000</td><td>313500</td></tr>\n",
       "\t<tr><td>106500</td><td> 99000</td></tr>\n",
       "</tbody>\n",
       "</table>\n"
      ],
      "text/latex": [
       "A data.frame: 1000 × 2\n",
       "\\begin{tabular}{ll}\n",
       " Ss\\_400 & Ss\\_300\\\\\n",
       " <dbl> & <dbl>\\\\\n",
       "\\hline\n",
       "\t 127500 & 337200\\\\\n",
       "\t 448500 & 349500\\\\\n",
       "\t 243000 & 181500\\\\\n",
       "\t  40500 & 315000\\\\\n",
       "\t 367500 &  97500\\\\\n",
       "\t 102000 & 344100\\\\\n",
       "\t 306000 & 339900\\\\\n",
       "\t 274500 & 168000\\\\\n",
       "\t 216000 & 265500\\\\\n",
       "\t 250500 & 346500\\\\\n",
       "\t 285000 & 124500\\\\\n",
       "\t 172500 & 162000\\\\\n",
       "\t 222000 & 348900\\\\\n",
       "\t 463500 & 264000\\\\\n",
       "\t 318000 & 297000\\\\\n",
       "\t  79500 & 208500\\\\\n",
       "\t 409500 &  82500\\\\\n",
       "\t 436500 &  73500\\\\\n",
       "\t 391500 & 286500\\\\\n",
       "\t 345000 & 268500\\\\\n",
       "\t  49500 & 354600\\\\\n",
       "\t 309000 & 151500\\\\\n",
       "\t 400500 & 181500\\\\\n",
       "\t 394500 & 267000\\\\\n",
       "\t 190500 &  82500\\\\\n",
       "\t 115500 & 246000\\\\\n",
       "\t 171000 & 201000\\\\\n",
       "\t 411000 & 354600\\\\\n",
       "\t 381000 & 300000\\\\\n",
       "\t 261000 & 163500\\\\\n",
       "\t ⋮ & ⋮\\\\\n",
       "\t 330000 & 195000\\\\\n",
       "\t 279000 & 336600\\\\\n",
       "\t 372000 & 360000\\\\\n",
       "\t 342000 & 359400\\\\\n",
       "\t 201000 & 335100\\\\\n",
       "\t 346500 & 327000\\\\\n",
       "\t 475500 & 335700\\\\\n",
       "\t 412500 &  72000\\\\\n",
       "\t  52500 & 126000\\\\\n",
       "\t 291000 & 270000\\\\\n",
       "\t 112500 & 159000\\\\\n",
       "\t 202500 & 133500\\\\\n",
       "\t 237000 & 341700\\\\\n",
       "\t 427500 & 331500\\\\\n",
       "\t 418500 & 334200\\\\\n",
       "\t 261000 & 334500\\\\\n",
       "\t 460500 & 337500\\\\\n",
       "\t 339000 & 319500\\\\\n",
       "\t 274500 & 344100\\\\\n",
       "\t 387000 & 205500\\\\\n",
       "\t 103500 & 105000\\\\\n",
       "\t 357000 & 222000\\\\\n",
       "\t  57000 & 168000\\\\\n",
       "\t 196500 & 330000\\\\\n",
       "\t 117000 & 196500\\\\\n",
       "\t 180000 & 120000\\\\\n",
       "\t 190500 & 243000\\\\\n",
       "\t 457500 & 283500\\\\\n",
       "\t  93000 & 313500\\\\\n",
       "\t 106500 &  99000\\\\\n",
       "\\end{tabular}\n"
      ],
      "text/markdown": [
       "\n",
       "A data.frame: 1000 × 2\n",
       "\n",
       "| Ss_400 &lt;dbl&gt; | Ss_300 &lt;dbl&gt; |\n",
       "|---|---|\n",
       "| 127500 | 337200 |\n",
       "| 448500 | 349500 |\n",
       "| 243000 | 181500 |\n",
       "|  40500 | 315000 |\n",
       "| 367500 |  97500 |\n",
       "| 102000 | 344100 |\n",
       "| 306000 | 339900 |\n",
       "| 274500 | 168000 |\n",
       "| 216000 | 265500 |\n",
       "| 250500 | 346500 |\n",
       "| 285000 | 124500 |\n",
       "| 172500 | 162000 |\n",
       "| 222000 | 348900 |\n",
       "| 463500 | 264000 |\n",
       "| 318000 | 297000 |\n",
       "|  79500 | 208500 |\n",
       "| 409500 |  82500 |\n",
       "| 436500 |  73500 |\n",
       "| 391500 | 286500 |\n",
       "| 345000 | 268500 |\n",
       "|  49500 | 354600 |\n",
       "| 309000 | 151500 |\n",
       "| 400500 | 181500 |\n",
       "| 394500 | 267000 |\n",
       "| 190500 |  82500 |\n",
       "| 115500 | 246000 |\n",
       "| 171000 | 201000 |\n",
       "| 411000 | 354600 |\n",
       "| 381000 | 300000 |\n",
       "| 261000 | 163500 |\n",
       "| ⋮ | ⋮ |\n",
       "| 330000 | 195000 |\n",
       "| 279000 | 336600 |\n",
       "| 372000 | 360000 |\n",
       "| 342000 | 359400 |\n",
       "| 201000 | 335100 |\n",
       "| 346500 | 327000 |\n",
       "| 475500 | 335700 |\n",
       "| 412500 |  72000 |\n",
       "|  52500 | 126000 |\n",
       "| 291000 | 270000 |\n",
       "| 112500 | 159000 |\n",
       "| 202500 | 133500 |\n",
       "| 237000 | 341700 |\n",
       "| 427500 | 331500 |\n",
       "| 418500 | 334200 |\n",
       "| 261000 | 334500 |\n",
       "| 460500 | 337500 |\n",
       "| 339000 | 319500 |\n",
       "| 274500 | 344100 |\n",
       "| 387000 | 205500 |\n",
       "| 103500 | 105000 |\n",
       "| 357000 | 222000 |\n",
       "|  57000 | 168000 |\n",
       "| 196500 | 330000 |\n",
       "| 117000 | 196500 |\n",
       "| 180000 | 120000 |\n",
       "| 190500 | 243000 |\n",
       "| 457500 | 283500 |\n",
       "|  93000 | 313500 |\n",
       "| 106500 |  99000 |\n",
       "\n"
      ],
      "text/plain": [
       "     Ss_400 Ss_300\n",
       "1    127500 337200\n",
       "2    448500 349500\n",
       "3    243000 181500\n",
       "4     40500 315000\n",
       "5    367500  97500\n",
       "6    102000 344100\n",
       "7    306000 339900\n",
       "8    274500 168000\n",
       "9    216000 265500\n",
       "10   250500 346500\n",
       "11   285000 124500\n",
       "12   172500 162000\n",
       "13   222000 348900\n",
       "14   463500 264000\n",
       "15   318000 297000\n",
       "16    79500 208500\n",
       "17   409500  82500\n",
       "18   436500  73500\n",
       "19   391500 286500\n",
       "20   345000 268500\n",
       "21    49500 354600\n",
       "22   309000 151500\n",
       "23   400500 181500\n",
       "24   394500 267000\n",
       "25   190500  82500\n",
       "26   115500 246000\n",
       "27   171000 201000\n",
       "28   411000 354600\n",
       "29   381000 300000\n",
       "30   261000 163500\n",
       "⋮    ⋮      ⋮     \n",
       "971  330000 195000\n",
       "972  279000 336600\n",
       "973  372000 360000\n",
       "974  342000 359400\n",
       "975  201000 335100\n",
       "976  346500 327000\n",
       "977  475500 335700\n",
       "978  412500  72000\n",
       "979   52500 126000\n",
       "980  291000 270000\n",
       "981  112500 159000\n",
       "982  202500 133500\n",
       "983  237000 341700\n",
       "984  427500 331500\n",
       "985  418500 334200\n",
       "986  261000 334500\n",
       "987  460500 337500\n",
       "988  339000 319500\n",
       "989  274500 344100\n",
       "990  387000 205500\n",
       "991  103500 105000\n",
       "992  357000 222000\n",
       "993   57000 168000\n",
       "994  196500 330000\n",
       "995  117000 196500\n",
       "996  180000 120000\n",
       "997  190500 243000\n",
       "998  457500 283500\n",
       "999   93000 313500\n",
       "1000 106500  99000"
      ]
     },
     "metadata": {},
     "output_type": "display_data"
    }
   ],
   "source": [
    "data"
   ]
  },
  {
   "cell_type": "markdown",
   "id": "abecf00e-fb08-443f-8d9a-97d6be5cc4b3",
   "metadata": {},
   "source": [
    "Primero se verifica si las varianzas son iguales o distintas.  Para esto aplicamos test de Fisher"
   ]
  },
  {
   "cell_type": "code",
   "execution_count": 53,
   "id": "0b85d225-c0b4-46d7-8254-73ebfbdb8196",
   "metadata": {},
   "outputs": [
    {
     "data": {
      "text/plain": [
       "\n",
       "\tF test to compare two variances\n",
       "\n",
       "data:  dat400 and dat300\n",
       "F = 1.816, num df = 999, denom df = 999, p-value < 2.2e-16\n",
       "alternative hypothesis: true ratio of variances is not equal to 1\n",
       "95 percent confidence interval:\n",
       " 1.604041 2.055892\n",
       "sample estimates:\n",
       "ratio of variances \n",
       "          1.815967 \n"
      ]
     },
     "metadata": {},
     "output_type": "display_data"
    }
   ],
   "source": [
    "res.ftest = var.test(dat400, dat300, data = data)\n",
    "res.ftest"
   ]
  },
  {
   "cell_type": "markdown",
   "id": "cf07086e-166f-4cae-8612-63ba3754b001",
   "metadata": {},
   "source": [
    "#### p-value < 2.2e-16 < 0.05, por lo que no hay evidencia para decir que las varianzas son iguales.  Suponemos entonces que las varianzas son distintas"
   ]
  },
  {
   "cell_type": "code",
   "execution_count": 54,
   "id": "6fe6ca85-644c-43ab-9cfc-1c51eab77290",
   "metadata": {},
   "outputs": [
    {
     "data": {
      "text/plain": [
       "\n",
       "\tWelch Two Sample t-test\n",
       "\n",
       "data:  dat400 and dat300\n",
       "t = 1.4015, df = 1843.2, p-value = 0.9194\n",
       "alternative hypothesis: true difference in means is less than 0\n",
       "95 percent confidence interval:\n",
       "     -Inf 15549.83\n",
       "sample estimates:\n",
       "mean of x mean of y \n",
       "   259524    252372 \n"
      ]
     },
     "metadata": {},
     "output_type": "display_data"
    }
   ],
   "source": [
    "res = t.test(dat400, dat300, alternative = \"less\", var.equal = FALSE)\n",
    "res"
   ]
  },
  {
   "cell_type": "markdown",
   "id": "ec265b25-6894-4c47-9488-98243c09260d",
   "metadata": {},
   "source": [
    "#### como p-value = 0.9194, no existe evidencia para rechazar la hipótesis nula, por lo tanto la utilidad esperada es mayor con la política S=s=400"
   ]
  },
  {
   "cell_type": "markdown",
   "id": "3551a8fa-d0fb-4e29-9f62-d8b6e5afbca2",
   "metadata": {},
   "source": [
    "### b) Comparación utilizando un test-t pareado, aplicado a simulaciones independientes de las dos configuraciones"
   ]
  },
  {
   "cell_type": "markdown",
   "id": "135670d4-9969-465b-9bdc-3119d6127006",
   "metadata": {
    "tags": []
   },
   "source": [
    "#### Nos interesa saber si la u(400)-u(300) >= 0.  Se genera la siguiente hipótesis:\n",
    "#### Ho : u(400)-u(300) >= 0\n",
    "#### Ha : u(400)-u(300) < 0"
   ]
  },
  {
   "cell_type": "code",
   "execution_count": 55,
   "id": "ddbc0a00-d663-4b1b-a9c2-f1e688c83b36",
   "metadata": {},
   "outputs": [
    {
     "data": {
      "text/plain": [
       "\n",
       "\tPaired t-test\n",
       "\n",
       "data:  dat400 and dat300\n",
       "t = 1.4107, df = 999, p-value = 0.9207\n",
       "alternative hypothesis: true difference in means is less than 0\n",
       "95 percent confidence interval:\n",
       "     -Inf 15498.74\n",
       "sample estimates:\n",
       "mean of the differences \n",
       "                   7152 \n"
      ]
     },
     "metadata": {},
     "output_type": "display_data"
    }
   ],
   "source": [
    "res_b = t.test(dat400, dat300, paired = TRUE,  alternative = \"less\")\n",
    "res_b"
   ]
  },
  {
   "cell_type": "markdown",
   "id": "91bdfe78-03f7-430a-8708-fcbea9ff404e",
   "metadata": {},
   "source": [
    "#### p-value = 0.9207 >0.05 por lo que no existe evidencia para rechazar la hipótesis nula.  Por tanto la utilidad esperada es mayor con la política S=s=400"
   ]
  },
  {
   "cell_type": "markdown",
   "id": "d3b9803e-f6d1-4b3f-a319-77419dfb716e",
   "metadata": {
    "tags": []
   },
   "source": [
    "### c) test-t pareado, aplicado a simulaciones generadas con los mismos números aleatorios"
   ]
  },
  {
   "cell_type": "code",
   "execution_count": 57,
   "id": "858c5ad4-c8fe-41e2-a816-493f6c9dc00e",
   "metadata": {},
   "outputs": [],
   "source": [
    "data_c = read_excel(\"ModeloP2(Demanda unica).xlsx\", sheet = \"Simulation Data Dump 1&2\")\n",
    "data_c = as.data.frame(data_c)"
   ]
  },
  {
   "cell_type": "code",
   "execution_count": 58,
   "id": "8648fb28-0c9e-44f5-8771-c580600e4e3c",
   "metadata": {},
   "outputs": [],
   "source": [
    "dat400c = data_c$Ss400\n",
    "dat300c = data_c$Ss300"
   ]
  },
  {
   "cell_type": "code",
   "execution_count": 59,
   "id": "76cb7dbf-ca11-4963-864b-107380195081",
   "metadata": {},
   "outputs": [
    {
     "data": {
      "text/plain": [
       "\n",
       "\tPaired t-test\n",
       "\n",
       "data:  dat400c and dat300c\n",
       "t = 18.209, df = 999, p-value = 1\n",
       "alternative hypothesis: true difference in means is less than 0\n",
       "95 percent confidence interval:\n",
       "     -Inf 32589.54\n",
       "sample estimates:\n",
       "mean of the differences \n",
       "                29887.2 \n"
      ]
     },
     "metadata": {},
     "output_type": "display_data"
    }
   ],
   "source": [
    "res_c = t.test(dat400c, dat300c, paired = TRUE,  alternative = \"less\")\n",
    "res_c"
   ]
  },
  {
   "cell_type": "markdown",
   "id": "5a572a5b-28ee-4fc6-9d37-15b8f8fa7550",
   "metadata": {},
   "source": [
    "#### p-value = 1 >0.05 por lo que no existe evidencia para rechazar la hipótesis nula. Por tanto la utilidad esperada es mayor con la política S=s=400"
   ]
  },
  {
   "cell_type": "markdown",
   "id": "35205bee-96db-49b8-8651-985ba8a404f8",
   "metadata": {},
   "source": [
    "## Pregunta N°3"
   ]
  },
  {
   "cell_type": "markdown",
   "id": "a4210347-4de4-4eec-98fa-6637edb863eb",
   "metadata": {},
   "source": [
    "### a) Cálculo de drift, volatilidad y gráfica superpuesta distribuciones empíricas y teóricas"
   ]
  },
  {
   "cell_type": "code",
   "execution_count": 1,
   "id": "37cff404-3171-4508-8415-c49e67f46e30",
   "metadata": {},
   "outputs": [],
   "source": [
    "stock_data = read.csv(\"prices4stocks.csv\", sep=\",\")"
   ]
  },
  {
   "cell_type": "code",
   "execution_count": 2,
   "id": "456af9ab-5668-4599-8a86-2b22d3784dd6",
   "metadata": {},
   "outputs": [
    {
     "data": {
      "text/plain": [
       "      Day               A               B               C         \n",
       " Min.   :  1.00   Min.   :28.28   Min.   :32.51   Min.   : 85.38  \n",
       " 1st Qu.: 63.75   1st Qu.:30.96   1st Qu.:39.55   1st Qu.: 94.61  \n",
       " Median :126.50   Median :33.31   Median :44.99   Median :101.49  \n",
       " Mean   :126.50   Mean   :35.75   Mean   :44.95   Mean   :102.64  \n",
       " 3rd Qu.:189.25   3rd Qu.:40.79   3rd Qu.:48.77   3rd Qu.:107.78  \n",
       " Max.   :252.00   Max.   :51.78   Max.   :61.97   Max.   :127.94  \n",
       "       D        \n",
       " Min.   :48.12  \n",
       " 1st Qu.:54.27  \n",
       " Median :67.01  \n",
       " Mean   :66.33  \n",
       " 3rd Qu.:76.93  \n",
       " Max.   :94.10  "
      ]
     },
     "metadata": {},
     "output_type": "display_data"
    }
   ],
   "source": [
    "summary(stock_data)"
   ]
  },
  {
   "cell_type": "code",
   "execution_count": 3,
   "id": "4112c7b2-092a-4a07-83b1-640cc68be293",
   "metadata": {},
   "outputs": [
    {
     "data": {
      "text/html": [
       "252"
      ],
      "text/latex": [
       "252"
      ],
      "text/markdown": [
       "252"
      ],
      "text/plain": [
       "[1] 252"
      ]
     },
     "metadata": {},
     "output_type": "display_data"
    }
   ],
   "source": [
    "largo=length(stock_data$A)\n",
    "largo"
   ]
  },
  {
   "cell_type": "code",
   "execution_count": 4,
   "id": "1e5e2b30-b30d-42b0-ad03-c3a0234403fa",
   "metadata": {},
   "outputs": [
    {
     "data": {
      "text/html": [
       "<table class=\"dataframe\">\n",
       "<caption>A data.frame: 6 × 5</caption>\n",
       "<thead>\n",
       "\t<tr><th></th><th scope=col>Day</th><th scope=col>A</th><th scope=col>B</th><th scope=col>C</th><th scope=col>D</th></tr>\n",
       "\t<tr><th></th><th scope=col>&lt;dbl&gt;</th><th scope=col>&lt;dbl&gt;</th><th scope=col>&lt;dbl&gt;</th><th scope=col>&lt;dbl&gt;</th><th scope=col>&lt;dbl&gt;</th></tr>\n",
       "</thead>\n",
       "<tbody>\n",
       "\t<tr><th scope=row>1</th><td>1</td><td>29.77</td><td>39.06</td><td>85.38</td><td>70.56</td></tr>\n",
       "\t<tr><th scope=row>2</th><td>2</td><td>30.56</td><td>38.50</td><td>87.03</td><td>72.84</td></tr>\n",
       "\t<tr><th scope=row>3</th><td>3</td><td>31.02</td><td>34.95</td><td>88.19</td><td>61.95</td></tr>\n",
       "\t<tr><th scope=row>4</th><td>4</td><td>31.92</td><td>37.35</td><td>90.85</td><td>61.87</td></tr>\n",
       "\t<tr><th scope=row>5</th><td>5</td><td>32.84</td><td>38.14</td><td>91.19</td><td>61.95</td></tr>\n",
       "\t<tr><th scope=row>6</th><td>6</td><td>34.05</td><td>38.87</td><td>92.66</td><td>61.44</td></tr>\n",
       "</tbody>\n",
       "</table>\n"
      ],
      "text/latex": [
       "A data.frame: 6 × 5\n",
       "\\begin{tabular}{r|lllll}\n",
       "  & Day & A & B & C & D\\\\\n",
       "  & <dbl> & <dbl> & <dbl> & <dbl> & <dbl>\\\\\n",
       "\\hline\n",
       "\t1 & 1 & 29.77 & 39.06 & 85.38 & 70.56\\\\\n",
       "\t2 & 2 & 30.56 & 38.50 & 87.03 & 72.84\\\\\n",
       "\t3 & 3 & 31.02 & 34.95 & 88.19 & 61.95\\\\\n",
       "\t4 & 4 & 31.92 & 37.35 & 90.85 & 61.87\\\\\n",
       "\t5 & 5 & 32.84 & 38.14 & 91.19 & 61.95\\\\\n",
       "\t6 & 6 & 34.05 & 38.87 & 92.66 & 61.44\\\\\n",
       "\\end{tabular}\n"
      ],
      "text/markdown": [
       "\n",
       "A data.frame: 6 × 5\n",
       "\n",
       "| <!--/--> | Day &lt;dbl&gt; | A &lt;dbl&gt; | B &lt;dbl&gt; | C &lt;dbl&gt; | D &lt;dbl&gt; |\n",
       "|---|---|---|---|---|---|\n",
       "| 1 | 1 | 29.77 | 39.06 | 85.38 | 70.56 |\n",
       "| 2 | 2 | 30.56 | 38.50 | 87.03 | 72.84 |\n",
       "| 3 | 3 | 31.02 | 34.95 | 88.19 | 61.95 |\n",
       "| 4 | 4 | 31.92 | 37.35 | 90.85 | 61.87 |\n",
       "| 5 | 5 | 32.84 | 38.14 | 91.19 | 61.95 |\n",
       "| 6 | 6 | 34.05 | 38.87 | 92.66 | 61.44 |\n",
       "\n"
      ],
      "text/plain": [
       "  Day A     B     C     D    \n",
       "1 1   29.77 39.06 85.38 70.56\n",
       "2 2   30.56 38.50 87.03 72.84\n",
       "3 3   31.02 34.95 88.19 61.95\n",
       "4 4   31.92 37.35 90.85 61.87\n",
       "5 5   32.84 38.14 91.19 61.95\n",
       "6 6   34.05 38.87 92.66 61.44"
      ]
     },
     "metadata": {},
     "output_type": "display_data"
    }
   ],
   "source": [
    "head(stock_data)"
   ]
  },
  {
   "cell_type": "code",
   "execution_count": 5,
   "id": "916c70a2-6fae-4616-8c76-05d85d04d833",
   "metadata": {},
   "outputs": [],
   "source": [
    "logA =c()\n",
    "logB =c()\n",
    "logC =c()\n",
    "logD =c()"
   ]
  },
  {
   "cell_type": "code",
   "execution_count": 6,
   "id": "5831f3cb-33b9-484f-9fcc-84cc33687686",
   "metadata": {},
   "outputs": [],
   "source": [
    "for (i in 1:largo){\n",
    "    logA[i] = log(stock_data$A[i+1]/stock_data$A[i])\n",
    "    logB[i] = log(stock_data$B[i+1]/stock_data$B[i])\n",
    "    logC[i] = log(stock_data$C[i+1]/stock_data$C[i])\n",
    "    logD[i] = log(stock_data$D[i+1]/stock_data$D[i])\n",
    "    }"
   ]
  },
  {
   "cell_type": "code",
   "execution_count": 7,
   "id": "0b6da93b-c4ce-4337-990f-0e03af6d7ea3",
   "metadata": {},
   "outputs": [],
   "source": [
    "sd_A=sd(logA, na.rm=TRUE)\n",
    "sd_B=sd(logB, na.rm=TRUE)\n",
    "sd_C=sd(logC, na.rm=TRUE)\n",
    "sd_D=sd(logD, na.rm=TRUE)"
   ]
  },
  {
   "cell_type": "code",
   "execution_count": 8,
   "id": "67e22172-de7f-441c-9a5e-617d92ad1b89",
   "metadata": {},
   "outputs": [],
   "source": [
    "medA=mean(logA,na.rm=TRUE)\n",
    "medB=mean(logB,na.rm=TRUE)\n",
    "medC=mean(logC,na.rm=TRUE)\n",
    "medD=mean(logD,na.rm=TRUE)"
   ]
  },
  {
   "cell_type": "code",
   "execution_count": 9,
   "id": "2db3c5b3-ec4e-4988-8c96-5a3dee8e84c6",
   "metadata": {},
   "outputs": [],
   "source": [
    "drift_A= medA+sd_A^2/2\n",
    "drift_B= medB+sd_B^2/2\n",
    "drift_C= medC+sd_C^2/2\n",
    "drift_D= medD+sd_D^2/2"
   ]
  },
  {
   "cell_type": "code",
   "execution_count": 10,
   "id": "00fbe429-de20-4baf-89e9-8c649fd4dfb7",
   "metadata": {},
   "outputs": [
    {
     "data": {
      "text/html": [
       "0.00210443590802822"
      ],
      "text/latex": [
       "0.00210443590802822"
      ],
      "text/markdown": [
       "0.00210443590802822"
      ],
      "text/plain": [
       "[1] 0.002104436"
      ]
     },
     "metadata": {},
     "output_type": "display_data"
    },
    {
     "data": {
      "text/html": [
       "0.00175688544279178"
      ],
      "text/latex": [
       "0.00175688544279178"
      ],
      "text/markdown": [
       "0.00175688544279178"
      ],
      "text/plain": [
       "[1] 0.001756885"
      ]
     },
     "metadata": {},
     "output_type": "display_data"
    },
    {
     "data": {
      "text/html": [
       "0.00169762621745682"
      ],
      "text/latex": [
       "0.00169762621745682"
      ],
      "text/markdown": [
       "0.00169762621745682"
      ],
      "text/plain": [
       "[1] 0.001697626"
      ]
     },
     "metadata": {},
     "output_type": "display_data"
    },
    {
     "data": {
      "text/html": [
       "0.00147114983295166"
      ],
      "text/latex": [
       "0.00147114983295166"
      ],
      "text/markdown": [
       "0.00147114983295166"
      ],
      "text/plain": [
       "[1] 0.00147115"
      ]
     },
     "metadata": {},
     "output_type": "display_data"
    }
   ],
   "source": [
    "#Valores drift\n",
    "drift_A\n",
    "drift_B\n",
    "drift_C\n",
    "drift_D"
   ]
  },
  {
   "cell_type": "code",
   "execution_count": 11,
   "id": "58f78ae8-301a-4e16-bbce-06f9669fbb6f",
   "metadata": {},
   "outputs": [
    {
     "data": {
      "text/html": [
       "0.025367110328969"
      ],
      "text/latex": [
       "0.025367110328969"
      ],
      "text/markdown": [
       "0.025367110328969"
      ],
      "text/plain": [
       "[1] 0.02536711"
      ]
     },
     "metadata": {},
     "output_type": "display_data"
    },
    {
     "data": {
      "text/html": [
       "0.0331437634535907"
      ],
      "text/latex": [
       "0.0331437634535907"
      ],
      "text/markdown": [
       "0.0331437634535907"
      ],
      "text/plain": [
       "[1] 0.03314376"
      ]
     },
     "metadata": {},
     "output_type": "display_data"
    },
    {
     "data": {
      "text/html": [
       "0.0180020556775174"
      ],
      "text/latex": [
       "0.0180020556775174"
      ],
      "text/markdown": [
       "0.0180020556775174"
      ],
      "text/plain": [
       "[1] 0.01800206"
      ]
     },
     "metadata": {},
     "output_type": "display_data"
    },
    {
     "data": {
      "text/html": [
       "0.0254620995084663"
      ],
      "text/latex": [
       "0.0254620995084663"
      ],
      "text/markdown": [
       "0.0254620995084663"
      ],
      "text/plain": [
       "[1] 0.0254621"
      ]
     },
     "metadata": {},
     "output_type": "display_data"
    }
   ],
   "source": [
    "#Valores Volatilidad\n",
    "sd_A\n",
    "sd_B\n",
    "sd_C\n",
    "sd_D"
   ]
  },
  {
   "cell_type": "code",
   "execution_count": 15,
   "id": "023c2a4b-4295-4d91-9f00-ea9f3379b2d8",
   "metadata": {},
   "outputs": [],
   "source": [
    "plotA = ggplot(data.frame(logA),aes(logA))+geom_function(fun=ecdf(logA))+\n",
    "         xlim(-0.1,0.1)+\n",
    "         labs(x=\"log(P_i+1/P_i)\",y=\"F_N(x)\",\n",
    "              title=paste0(\"Distr. empírica ac. y Ditr. Normal Teórica\")) "
   ]
  },
  {
   "cell_type": "code",
   "execution_count": 16,
   "id": "5be7caec-d02d-4dad-97c4-503238736327",
   "metadata": {},
   "outputs": [
    {
     "data": {
      "image/png": "[encoded data removed]",
      "text/plain": [
       "plot without title"
      ]
     },
     "metadata": {
      "image/png": {
       "height": 420,
       "width": 420
      }
     },
     "output_type": "display_data"
    }
   ],
   "source": [
    "plotA2 = plotA + geom_function(fun=pnorm, args = list(mean = medA, sd = sd_A), color=\"red\")\n",
    "plotA2"
   ]
  },
  {
   "cell_type": "code",
   "execution_count": 17,
   "id": "b23c5722-793b-404c-9c3b-f768ca235342",
   "metadata": {},
   "outputs": [],
   "source": [
    "plotB = ggplot(data.frame(logB),aes(logB))+geom_function(fun=ecdf(logB))+\n",
    "         xlim(-0.1,0.1)+\n",
    "         labs(x=\"log(P_i+1/P_i)\",y=\"F_N(x)\",\n",
    "              title=paste0(\"Distr. empírica ac. y Ditr. Normal Teórica\")) "
   ]
  },
  {
   "cell_type": "code",
   "execution_count": 18,
   "id": "42c145af-c656-4f94-a7a1-de2af87408a0",
   "metadata": {},
   "outputs": [
    {
     "data": {
      "image/png": "[encoded data removed]",
      "text/plain": [
       "plot without title"
      ]
     },
     "metadata": {
      "image/png": {
       "height": 420,
       "width": 420
      }
     },
     "output_type": "display_data"
    }
   ],
   "source": [
    "plotB2 = plotB + geom_function(fun=pnorm, args = list(mean = medB, sd = sd_B), color=\"red\")\n",
    "plotB2"
   ]
  },
  {
   "cell_type": "code",
   "execution_count": 19,
   "id": "349afe62-b7f6-46a8-b6b7-d3bc40154dea",
   "metadata": {},
   "outputs": [],
   "source": [
    "plotC = ggplot(data.frame(logC),aes(logC))+geom_function(fun=ecdf(logC))+\n",
    "         xlim(-0.1,0.1)+\n",
    "         labs(x=\"log(P_i+1/P_i)\",y=\"F_N(x)\",\n",
    "              title=paste0(\"Distr. empírica ac. y Ditr. Normal Teórica\")) "
   ]
  },
  {
   "cell_type": "code",
   "execution_count": 20,
   "id": "7b82e20f-01d1-4ce6-993d-c306348061ff",
   "metadata": {},
   "outputs": [
    {
     "data": {
      "image/png": "[encoded data removed]",
      "text/plain": [
       "plot without title"
      ]
     },
     "metadata": {
      "image/png": {
       "height": 420,
       "width": 420
      }
     },
     "output_type": "display_data"
    }
   ],
   "source": [
    "plotC2 = plotC + geom_function(fun=pnorm, args = list(mean = medC, sd = sd_C), color=\"red\")\n",
    "plotC2"
   ]
  },
  {
   "cell_type": "code",
   "execution_count": 21,
   "id": "f438aa2d-6f49-4438-8eba-beeca12ffd2a",
   "metadata": {},
   "outputs": [],
   "source": [
    "plotD = ggplot(data.frame(logD),aes(logD))+geom_function(fun=ecdf(logD))+\n",
    "         xlim(-0.1,0.1)+\n",
    "         labs(x=\"log(P_i+1/P_i)\",y=\"F_N(x)\",\n",
    "              title=paste0(\"Distr. empírica ac. y Ditr. Normal Teórica\")) "
   ]
  },
  {
   "cell_type": "code",
   "execution_count": 22,
   "id": "24d32230-cefd-40dc-a27c-71f2338c4d0a",
   "metadata": {},
   "outputs": [
    {
     "data": {
      "image/png": "[encoded data removed]",
      "text/plain": [
       "plot without title"
      ]
     },
     "metadata": {
      "image/png": {
       "height": 420,
       "width": 420
      }
     },
     "output_type": "display_data"
    }
   ],
   "source": [
    "plotD2 = plotD + geom_function(fun=pnorm, args = list(mean = medD, sd = sd_D), color=\"red\")\n",
    "plotD2"
   ]
  },
  {
   "cell_type": "markdown",
   "id": "0c616f8b-7d56-4d4e-a99a-901602893112",
   "metadata": {},
   "source": [
    "### b) Porftafolio"
   ]
  },
  {
   "cell_type": "code",
   "execution_count": 23,
   "id": "c990c7b5-72bb-46f6-88c7-0bcdc9093f60",
   "metadata": {},
   "outputs": [],
   "source": [
    "#Se inicia con N=1000, luego se corregirá esta cantidad para cumplir el objetivo de Margen de error\n",
    "set.seed(12345)\n",
    "N = 1000\n",
    "T = 180\n",
    "P0A=46.57\n",
    "P0B=52.89\n",
    "P0C=125.53\n",
    "P0D=94.1\n",
    "rn_a=rnorm(N,0,1)\n",
    "rn_b=rnorm(N,0,1)\n",
    "rn_c=rnorm(N,0,1)\n",
    "rn_d=rnorm(N,0,1)\n",
    "log_cambio_A = (drift_A-sd_A^2/2)*T + sd_A*sqrt(T)*rnorm(N,0,1)\n",
    "PTA = P0A*exp(log_cambio_A)\n",
    "log_cambio_B = (drift_B-sd_B^2/2)*T + sd_B*sqrt(T)*rnorm(N,0,1)\n",
    "PTB = P0B*exp(log_cambio_B)\n",
    "log_cambio_C = (drift_C-sd_C^2/2)*T + sd_C*sqrt(T)*rnorm(N,0,1)\n",
    "PTC = P0C*exp(log_cambio_C)\n",
    "log_cambio_D = (drift_D-sd_D^2/2)*T + sd_D*sqrt(T)*rnorm(N,0,1)\n",
    "PTD = P0D*exp(log_cambio_C)"
   ]
  },
  {
   "cell_type": "markdown",
   "id": "e6f82a56-8b34-473e-a901-3613b9f92182",
   "metadata": {},
   "source": [
    "Se define una nueva variable aleatoria que es el valor de Portafolio de acuerdo a lo siguiente:"
   ]
  },
  {
   "cell_type": "code",
   "execution_count": 24,
   "id": "9fbbdaf0-680f-4fae-a7e1-5c6de63f01ce",
   "metadata": {},
   "outputs": [],
   "source": [
    "Portafolio = 120*PTA+300*PTB+200*PTC+150*PTD"
   ]
  },
  {
   "cell_type": "code",
   "execution_count": 25,
   "id": "e4f3e62a-23e7-4e0d-b73e-4b0ccb3f42d3",
   "metadata": {},
   "outputs": [
    {
     "data": {
      "text/html": [
       "82938.393767853"
      ],
      "text/latex": [
       "82938.393767853"
      ],
      "text/markdown": [
       "82938.393767853"
      ],
      "text/plain": [
       "[1] 82938.39"
      ]
     },
     "metadata": {},
     "output_type": "display_data"
    }
   ],
   "source": [
    "#valor esperado del portafolio\n",
    "E_Portafolio = mean(Portafolio)\n",
    "E_Portafolio"
   ]
  },
  {
   "cell_type": "code",
   "execution_count": 26,
   "id": "7d293690-994f-43b9-aafd-9d9df00c3117",
   "metadata": {},
   "outputs": [
    {
     "data": {
      "text/html": [
       "1578.65078836085"
      ],
      "text/latex": [
       "1578.65078836085"
      ],
      "text/markdown": [
       "1578.65078836085"
      ],
      "text/plain": [
       "[1] 1578.651"
      ]
     },
     "metadata": {},
     "output_type": "display_data"
    }
   ],
   "source": [
    "N_Calc = (1.96*sd(Portafolio))^2/(0.01*E_Portafolio)^2\n",
    "N_Calc"
   ]
  },
  {
   "cell_type": "markdown",
   "id": "6a608a9d-2770-4450-b845-343dacebaff4",
   "metadata": {},
   "source": [
    "partiendo con N=1000 (N inicial), se estima con un que se requiere de al menos 1600 muestras para tener un margen de error del 1% del valor estimado"
   ]
  },
  {
   "cell_type": "code",
   "execution_count": 27,
   "id": "ac865b5a-0afd-4d5f-9417-fc6c89dfe3a1",
   "metadata": {},
   "outputs": [],
   "source": [
    "set.seed(12345)\n",
    "N = 1600\n",
    "T = 180\n",
    "P0A=46.57\n",
    "P0B=52.89\n",
    "P0C=125.53\n",
    "P0D=94.1\n",
    "rn_a=rnorm(N,0,1)\n",
    "rn_b=rnorm(N,0,1)\n",
    "rn_c=rnorm(N,0,1)\n",
    "rn_d=rnorm(N,0,1)\n",
    "log_cambio_A = (drift_A-sd_A^2/2)*T + sd_A*sqrt(T)*rn_a\n",
    "PTA = P0A*exp(log_cambio_A)\n",
    "log_cambio_B = (drift_B-sd_B^2/2)*T + sd_B*sqrt(T)*rn_b\n",
    "PTB = P0B*exp(log_cambio_B)\n",
    "log_cambio_C = (drift_C-sd_C^2/2)*T + sd_C*sqrt(T)*rn_c\n",
    "PTC = P0C*exp(log_cambio_C)\n",
    "log_cambio_D = (drift_D-sd_D^2/2)*T + sd_D*sqrt(T)*rn_d\n",
    "PTD = P0D*exp(log_cambio_C)"
   ]
  },
  {
   "cell_type": "code",
   "execution_count": 28,
   "id": "05ea5618-8b77-4b04-a4fa-9bc215d014e6",
   "metadata": {},
   "outputs": [],
   "source": [
    "Portafolio_fin=120*PTA+300*PTB+200*PTC+150*PTD"
   ]
  },
  {
   "cell_type": "code",
   "execution_count": 29,
   "id": "818fa0e8-0b7d-41dc-b868-ba4ecaceb05f",
   "metadata": {},
   "outputs": [
    {
     "data": {
      "text/html": [
       "83013.4134312416"
      ],
      "text/latex": [
       "83013.4134312416"
      ],
      "text/markdown": [
       "83013.4134312416"
      ],
      "text/plain": [
       "[1] 83013.41"
      ]
     },
     "metadata": {},
     "output_type": "display_data"
    }
   ],
   "source": [
    "E_Portafolio_fin = mean(Portafolio_fin)\n",
    "E_Portafolio_fin"
   ]
  },
  {
   "cell_type": "code",
   "execution_count": 30,
   "id": "7b671c7c-c27d-470c-a614-299262c44a31",
   "metadata": {},
   "outputs": [
    {
     "data": {
      "text/html": [
       "777.274898420667"
      ],
      "text/latex": [
       "777.274898420667"
      ],
      "text/markdown": [
       "777.274898420667"
      ],
      "text/plain": [
       "[1] 777.2749"
      ]
     },
     "metadata": {},
     "output_type": "display_data"
    }
   ],
   "source": [
    "#Margen de error menor 1% del valor esperado\n",
    "Margen_Error = 1.96*sd(Portafolio_fin)/sqrt(N)\n",
    "Margen_Error"
   ]
  },
  {
   "cell_type": "markdown",
   "id": "182f2f2f-5ec3-4cf8-823c-247c3b2965d8",
   "metadata": {},
   "source": [
    "#### Ganancia Neta"
   ]
  },
  {
   "cell_type": "code",
   "execution_count": 31,
   "id": "ef4a9aa6-4890-4ea5-a71d-0eca58a589f6",
   "metadata": {},
   "outputs": [
    {
     "data": {
      "text/html": [
       "60676.4"
      ],
      "text/latex": [
       "60676.4"
      ],
      "text/markdown": [
       "60676.4"
      ],
      "text/plain": [
       "[1] 60676.4"
      ]
     },
     "metadata": {},
     "output_type": "display_data"
    }
   ],
   "source": [
    "r=0.03 #tasa de interés anual\n",
    "T=0.5 #(180 días, medio año)\n",
    "Portafolio_0=120*46.57+300*52.89+200*125.53+150*94.1\n",
    "Portafolio_0"
   ]
  },
  {
   "cell_type": "code",
   "execution_count": 32,
   "id": "2a492219-9e32-49ae-a866-4d48c6702d8d",
   "metadata": {},
   "outputs": [
    {
     "data": {
      "text/html": [
       "60676.4"
      ],
      "text/latex": [
       "60676.4"
      ],
      "text/markdown": [
       "60676.4"
      ],
      "text/plain": [
       "[1] 60676.4"
      ]
     },
     "metadata": {},
     "output_type": "display_data"
    }
   ],
   "source": [
    "Portafolio_0"
   ]
  },
  {
   "cell_type": "code",
   "execution_count": 33,
   "id": "605852e6-9650-4a4b-92c9-94546999fc74",
   "metadata": {},
   "outputs": [],
   "source": [
    "GN_VP = Portafolio_fin*exp(-r*T) - Portafolio_0"
   ]
  },
  {
   "cell_type": "code",
   "execution_count": 34,
   "id": "5a78a5c6-6587-4312-a08e-d87ec3906197",
   "metadata": {},
   "outputs": [
    {
     "data": {
      "text/html": [
       "21101.1047183213"
      ],
      "text/latex": [
       "21101.1047183213"
      ],
      "text/markdown": [
       "21101.1047183213"
      ],
      "text/plain": [
       "[1] 21101.1"
      ]
     },
     "metadata": {},
     "output_type": "display_data"
    }
   ],
   "source": [
    "mean(GN_VP)"
   ]
  },
  {
   "cell_type": "code",
   "execution_count": 35,
   "id": "f2078949-18be-4b90-a5e0-c9e1cdfabb58",
   "metadata": {},
   "outputs": [
    {
     "data": {
      "image/png": "[encoded data removed]",
      "text/plain": [
       "plot without title"
      ]
     },
     "metadata": {
      "image/png": {
       "height": 420,
       "width": 420
      }
     },
     "output_type": "display_data"
    }
   ],
   "source": [
    "plot_port = ggplot(data.frame(GN_VP),aes(GN_VP))+geom_function(fun=ecdf(GN_VP))+\n",
    "         xlim(-40000,80000)+\n",
    "         labs(x=\"precio\",y=\"F_N(x)\",\n",
    "              title=paste0(\"Distr. empírica de lassimulaciones del precio final\")) \n",
    "plot_port"
   ]
  },
  {
   "cell_type": "markdown",
   "id": "058c76eb-1649-4cc5-8214-5fef873a4141",
   "metadata": {},
   "source": [
    "#### c) Matriz de Correlación (Precios de Acciones)"
   ]
  },
  {
   "cell_type": "code",
   "execution_count": 36,
   "id": "b54a4d50-890c-4746-90c2-7f26b4a9e5f7",
   "metadata": {},
   "outputs": [],
   "source": [
    "matrix_data = matrix(c(PTA, PTB, PTC, PTD), ncol = 4)"
   ]
  },
  {
   "cell_type": "code",
   "execution_count": 37,
   "id": "83c13ae9-3f08-486b-9299-b6827f37c0a0",
   "metadata": {},
   "outputs": [
    {
     "data": {
      "text/html": [
       "<table class=\"dataframe\">\n",
       "<caption>A matrix: 4 × 4 of type dbl</caption>\n",
       "<tbody>\n",
       "\t<tr><td> 1.000000000</td><td>-0.01757066</td><td>-0.005297483</td><td>-0.005297483</td></tr>\n",
       "\t<tr><td>-0.017570663</td><td> 1.00000000</td><td>-0.050520489</td><td>-0.050520489</td></tr>\n",
       "\t<tr><td>-0.005297483</td><td>-0.05052049</td><td> 1.000000000</td><td> 1.000000000</td></tr>\n",
       "\t<tr><td>-0.005297483</td><td>-0.05052049</td><td> 1.000000000</td><td> 1.000000000</td></tr>\n",
       "</tbody>\n",
       "</table>\n"
      ],
      "text/latex": [
       "A matrix: 4 × 4 of type dbl\n",
       "\\begin{tabular}{llll}\n",
       "\t  1.000000000 & -0.01757066 & -0.005297483 & -0.005297483\\\\\n",
       "\t -0.017570663 &  1.00000000 & -0.050520489 & -0.050520489\\\\\n",
       "\t -0.005297483 & -0.05052049 &  1.000000000 &  1.000000000\\\\\n",
       "\t -0.005297483 & -0.05052049 &  1.000000000 &  1.000000000\\\\\n",
       "\\end{tabular}\n"
      ],
      "text/markdown": [
       "\n",
       "A matrix: 4 × 4 of type dbl\n",
       "\n",
       "|  1.000000000 | -0.01757066 | -0.005297483 | -0.005297483 |\n",
       "| -0.017570663 |  1.00000000 | -0.050520489 | -0.050520489 |\n",
       "| -0.005297483 | -0.05052049 |  1.000000000 |  1.000000000 |\n",
       "| -0.005297483 | -0.05052049 |  1.000000000 |  1.000000000 |\n",
       "\n"
      ],
      "text/plain": [
       "     [,1]         [,2]        [,3]         [,4]        \n",
       "[1,]  1.000000000 -0.01757066 -0.005297483 -0.005297483\n",
       "[2,] -0.017570663  1.00000000 -0.050520489 -0.050520489\n",
       "[3,] -0.005297483 -0.05052049  1.000000000  1.000000000\n",
       "[4,] -0.005297483 -0.05052049  1.000000000  1.000000000"
      ]
     },
     "metadata": {},
     "output_type": "display_data"
    }
   ],
   "source": [
    "matrix_cor_precios = cor(matrix_data)\n",
    "matrix_cor_precios"
   ]
  },
  {
   "cell_type": "markdown",
   "id": "2590cd99-6519-49e4-9844-3e38fcb43d33",
   "metadata": {},
   "source": [
    "#### d) Matriz de Correlación (logaritmos de los ratios)"
   ]
  },
  {
   "cell_type": "code",
   "execution_count": 38,
   "id": "86de4f77-66c2-469a-ab99-d8814b20b372",
   "metadata": {},
   "outputs": [],
   "source": [
    "matrix_ratios = matrix(c(logA, logB, logC, logD), ncol = 4)"
   ]
  },
  {
   "cell_type": "code",
   "execution_count": 39,
   "id": "a87da621-20f4-423a-850f-7b0cdb12c6a8",
   "metadata": {},
   "outputs": [
    {
     "data": {
      "text/html": [
       "<table class=\"dataframe\">\n",
       "<caption>A matrix: 4 × 4 of type dbl</caption>\n",
       "<tbody>\n",
       "\t<tr><td>1.0000000</td><td>0.2927874</td><td>0.5354339</td><td>0.3112515</td></tr>\n",
       "\t<tr><td>0.2927874</td><td>1.0000000</td><td>0.2722732</td><td>0.4196191</td></tr>\n",
       "\t<tr><td>0.5354339</td><td>0.2722732</td><td>1.0000000</td><td>0.3301906</td></tr>\n",
       "\t<tr><td>0.3112515</td><td>0.4196191</td><td>0.3301906</td><td>1.0000000</td></tr>\n",
       "</tbody>\n",
       "</table>\n"
      ],
      "text/latex": [
       "A matrix: 4 × 4 of type dbl\n",
       "\\begin{tabular}{llll}\n",
       "\t 1.0000000 & 0.2927874 & 0.5354339 & 0.3112515\\\\\n",
       "\t 0.2927874 & 1.0000000 & 0.2722732 & 0.4196191\\\\\n",
       "\t 0.5354339 & 0.2722732 & 1.0000000 & 0.3301906\\\\\n",
       "\t 0.3112515 & 0.4196191 & 0.3301906 & 1.0000000\\\\\n",
       "\\end{tabular}\n"
      ],
      "text/markdown": [
       "\n",
       "A matrix: 4 × 4 of type dbl\n",
       "\n",
       "| 1.0000000 | 0.2927874 | 0.5354339 | 0.3112515 |\n",
       "| 0.2927874 | 1.0000000 | 0.2722732 | 0.4196191 |\n",
       "| 0.5354339 | 0.2722732 | 1.0000000 | 0.3301906 |\n",
       "| 0.3112515 | 0.4196191 | 0.3301906 | 1.0000000 |\n",
       "\n"
      ],
      "text/plain": [
       "     [,1]      [,2]      [,3]      [,4]     \n",
       "[1,] 1.0000000 0.2927874 0.5354339 0.3112515\n",
       "[2,] 0.2927874 1.0000000 0.2722732 0.4196191\n",
       "[3,] 0.5354339 0.2722732 1.0000000 0.3301906\n",
       "[4,] 0.3112515 0.4196191 0.3301906 1.0000000"
      ]
     },
     "metadata": {},
     "output_type": "display_data"
    }
   ],
   "source": [
    "matrix_cor_ratios = cor(matrix_ratios, use = \"complete.obs\")\n",
    "matrix_cor_ratios"
   ]
  },
  {
   "cell_type": "markdown",
   "id": "9a71d8a6-6ce0-47de-b0a1-7463eec8ab66",
   "metadata": {},
   "source": [
    "#### e) Muestras de log-ratio"
   ]
  },
  {
   "cell_type": "code",
   "execution_count": 40,
   "id": "55b17a20-b1fe-430d-a48f-a5f48bb3bf3b",
   "metadata": {},
   "outputs": [
    {
     "data": {
      "text/html": [
       "<table class=\"dataframe\">\n",
       "<caption>A matrix: 4 × 4 of type dbl</caption>\n",
       "<tbody>\n",
       "\t<tr><td>0.0006434903</td><td>0.0002461644</td><td>0.0002445113</td><td>0.0002010373</td></tr>\n",
       "\t<tr><td>0.0002461644</td><td>0.0010985091</td><td>0.0001624534</td><td>0.0003541207</td></tr>\n",
       "\t<tr><td>0.0002445113</td><td>0.0001624534</td><td>0.0003240740</td><td>0.0001513495</td></tr>\n",
       "\t<tr><td>0.0002010373</td><td>0.0003541207</td><td>0.0001513495</td><td>0.0006483185</td></tr>\n",
       "</tbody>\n",
       "</table>\n"
      ],
      "text/latex": [
       "A matrix: 4 × 4 of type dbl\n",
       "\\begin{tabular}{llll}\n",
       "\t 0.0006434903 & 0.0002461644 & 0.0002445113 & 0.0002010373\\\\\n",
       "\t 0.0002461644 & 0.0010985091 & 0.0001624534 & 0.0003541207\\\\\n",
       "\t 0.0002445113 & 0.0001624534 & 0.0003240740 & 0.0001513495\\\\\n",
       "\t 0.0002010373 & 0.0003541207 & 0.0001513495 & 0.0006483185\\\\\n",
       "\\end{tabular}\n"
      ],
      "text/markdown": [
       "\n",
       "A matrix: 4 × 4 of type dbl\n",
       "\n",
       "| 0.0006434903 | 0.0002461644 | 0.0002445113 | 0.0002010373 |\n",
       "| 0.0002461644 | 0.0010985091 | 0.0001624534 | 0.0003541207 |\n",
       "| 0.0002445113 | 0.0001624534 | 0.0003240740 | 0.0001513495 |\n",
       "| 0.0002010373 | 0.0003541207 | 0.0001513495 | 0.0006483185 |\n",
       "\n"
      ],
      "text/plain": [
       "     [,1]         [,2]         [,3]         [,4]        \n",
       "[1,] 0.0006434903 0.0002461644 0.0002445113 0.0002010373\n",
       "[2,] 0.0002461644 0.0010985091 0.0001624534 0.0003541207\n",
       "[3,] 0.0002445113 0.0001624534 0.0003240740 0.0001513495\n",
       "[4,] 0.0002010373 0.0003541207 0.0001513495 0.0006483185"
      ]
     },
     "metadata": {},
     "output_type": "display_data"
    }
   ],
   "source": [
    "matriz_cov = cov(matrix_ratios, use = \"complete.obs\")\n",
    "matriz_cov"
   ]
  },
  {
   "cell_type": "code",
   "execution_count": 41,
   "id": "64d3aa67-7792-4ca5-b30a-afba84a86bb2",
   "metadata": {},
   "outputs": [
    {
     "data": {
      "text/html": [
       "<table class=\"dataframe\">\n",
       "<caption>A matrix: 4 × 4 of type dbl</caption>\n",
       "<tbody>\n",
       "\t<tr><td>0.025367110</td><td>0.000000000</td><td>0.000000000</td><td>0.00000000</td></tr>\n",
       "\t<tr><td>0.009704077</td><td>0.031691323</td><td>0.000000000</td><td>0.00000000</td></tr>\n",
       "\t<tr><td>0.009638911</td><td>0.002174623</td><td>0.015047805</td><td>0.00000000</td></tr>\n",
       "\t<tr><td>0.007925117</td><td>0.008747338</td><td>0.003717343</td><td>0.02225256</td></tr>\n",
       "</tbody>\n",
       "</table>\n"
      ],
      "text/latex": [
       "A matrix: 4 × 4 of type dbl\n",
       "\\begin{tabular}{llll}\n",
       "\t 0.025367110 & 0.000000000 & 0.000000000 & 0.00000000\\\\\n",
       "\t 0.009704077 & 0.031691323 & 0.000000000 & 0.00000000\\\\\n",
       "\t 0.009638911 & 0.002174623 & 0.015047805 & 0.00000000\\\\\n",
       "\t 0.007925117 & 0.008747338 & 0.003717343 & 0.02225256\\\\\n",
       "\\end{tabular}\n"
      ],
      "text/markdown": [
       "\n",
       "A matrix: 4 × 4 of type dbl\n",
       "\n",
       "| 0.025367110 | 0.000000000 | 0.000000000 | 0.00000000 |\n",
       "| 0.009704077 | 0.031691323 | 0.000000000 | 0.00000000 |\n",
       "| 0.009638911 | 0.002174623 | 0.015047805 | 0.00000000 |\n",
       "| 0.007925117 | 0.008747338 | 0.003717343 | 0.02225256 |\n",
       "\n"
      ],
      "text/plain": [
       "     [,1]        [,2]        [,3]        [,4]      \n",
       "[1,] 0.025367110 0.000000000 0.000000000 0.00000000\n",
       "[2,] 0.009704077 0.031691323 0.000000000 0.00000000\n",
       "[3,] 0.009638911 0.002174623 0.015047805 0.00000000\n",
       "[4,] 0.007925117 0.008747338 0.003717343 0.02225256"
      ]
     },
     "metadata": {},
     "output_type": "display_data"
    }
   ],
   "source": [
    "cholesky = t(chol(matriz_cov))\n",
    "cholesky"
   ]
  },
  {
   "cell_type": "code",
   "execution_count": 42,
   "id": "436e74a8-57cb-4c68-a69c-35042e173198",
   "metadata": {},
   "outputs": [
    {
     "data": {
      "text/html": [
       "<style>\n",
       ".list-inline {list-style: none; margin:0; padding: 0}\n",
       ".list-inline>li {display: inline-block}\n",
       ".list-inline>li:not(:last-child)::after {content: \"\\00b7\"; padding: 0 .5ex}\n",
       "</style>\n",
       "<ol class=list-inline><li>0.00178269076480718</li><li>0.00120763091485799</li><li>0.00153558921314861</li><li>0.00114699057726214</li></ol>\n"
      ],
      "text/latex": [
       "\\begin{enumerate*}\n",
       "\\item 0.00178269076480718\n",
       "\\item 0.00120763091485799\n",
       "\\item 0.00153558921314861\n",
       "\\item 0.00114699057726214\n",
       "\\end{enumerate*}\n"
      ],
      "text/markdown": [
       "1. 0.00178269076480718\n",
       "2. 0.00120763091485799\n",
       "3. 0.00153558921314861\n",
       "4. 0.00114699057726214\n",
       "\n",
       "\n"
      ],
      "text/plain": [
       "[1] 0.001782691 0.001207631 0.001535589 0.001146991"
      ]
     },
     "metadata": {},
     "output_type": "display_data"
    }
   ],
   "source": [
    "vector_medias = c(medA,medB,medC,medD)\n",
    "vector_medias"
   ]
  },
  {
   "cell_type": "code",
   "execution_count": 43,
   "id": "6603c38e-a47b-4931-9e3c-fe8a85881e90",
   "metadata": {},
   "outputs": [],
   "source": [
    "matrix_muestras =c()\n",
    "z=c()"
   ]
  },
  {
   "cell_type": "code",
   "execution_count": 44,
   "id": "3450bdb2-5790-4f84-83d1-b16c416df7b8",
   "metadata": {},
   "outputs": [],
   "source": [
    "for (i in 1:N){\n",
    "    z=(vector_medias)+cholesky%*%c(rn_a[i],rn_b[i],rn_c[i],rn_d[i])\n",
    "    matrix_muestras=rbind(matrix_muestras,t(z))\n",
    "    }"
   ]
  },
  {
   "cell_type": "code",
   "execution_count": 47,
   "id": "d151eb4e-fbbc-4963-a2b7-5f08125af035",
   "metadata": {},
   "outputs": [],
   "source": [
    "med_muestras_A=mean(matrix_muestras[,1])\n",
    "med_muestras_B=mean(matrix_muestras[,2])\n",
    "med_muestras_C=mean(matrix_muestras[,3])\n",
    "med_muestras_D=mean(matrix_muestras[,4])"
   ]
  },
  {
   "cell_type": "code",
   "execution_count": 48,
   "id": "d06832b2-f3e0-4c9a-bea0-ed270eaefd08",
   "metadata": {},
   "outputs": [],
   "source": [
    "sd_muestras_A=sd(matrix_muestras[,1])\n",
    "sd_muestras_B=sd(matrix_muestras[,2])\n",
    "sd_muestras_C=sd(matrix_muestras[,3])\n",
    "sd_muestras_D=sd(matrix_muestras[,4])"
   ]
  },
  {
   "cell_type": "code",
   "execution_count": 49,
   "id": "8dd0bc0d-05cc-4c84-8645-61634831373c",
   "metadata": {},
   "outputs": [],
   "source": [
    "drift_muestras_A= med_muestras_A+sd_muestras_A^2/2\n",
    "drift_muestras_B= med_muestras_A+sd_muestras_A^2/2\n",
    "drift_muestras_C= med_muestras_A+sd_muestras_A^2/2\n",
    "drift_muestras_D= med_muestras_A+sd_muestras_A^2/2"
   ]
  },
  {
   "cell_type": "code",
   "execution_count": 50,
   "id": "3e27747a-fa37-4f0e-9078-347c6dd21587",
   "metadata": {},
   "outputs": [
    {
     "ename": "ERROR",
     "evalue": "Error in parse(text = x, srcfile = src): <text>:10:1: unexpected symbol\n9: PTA = P0A*exp(log_cambio_A)\n10: log_cambio_B\n    ^\n",
     "output_type": "error",
     "traceback": [
      "Error in parse(text = x, srcfile = src): <text>:10:1: unexpected symbol\n9: PTA = P0A*exp(log_cambio_A)\n10: log_cambio_B\n    ^\nTraceback:\n"
     ]
    }
   ],
   "source": [
    "set.seed(12345)\n",
    "N = 1600\n",
    "T = 180\n",
    "P0A=46.57\n",
    "P0B=52.89\n",
    "P0C=125.53\n",
    "P0D=94.1\n",
    "log_cambio_A = (drift_muestras_A-sd_muestras_A^2/2)*T + sd_muestras_A*sqrt(T)*rnorm(\n",
    "PTA = P0A*exp(log_cambio_A)\n",
    "log_cambio_B = (drift_B-sd_B^2/2)*T + sd_B*sqrt(T)*rn_b\n",
    "PTB = P0B*exp(log_cambio_B)\n",
    "log_cambio_C = (drift_C-sd_C^2/2)*T + sd_C*sqrt(T)*rn_c\n",
    "PTC = P0C*exp(log_cambio_C)\n",
    "log_cambio_D = (drift_D-sd_D^2/2)*T + sd_D*sqrt(T)*rn_d\n",
    "PTD = P0D*exp(log_cambio_C)"
   ]
  },
  {
   "cell_type": "code",
   "execution_count": null,
   "id": "8dec48d5-7bc9-40f4-9e1f-8bae26fce8f7",
   "metadata": {},
   "outputs": [],
   "source": []
  },
  {
   "cell_type": "code",
   "execution_count": null,
   "id": "7fed401e-1d45-4d80-aeb2-a94dc1869108",
   "metadata": {},
   "outputs": [],
   "source": []
  },
  {
   "cell_type": "code",
   "execution_count": null,
   "id": "6a1644fc-dcd5-48c6-a139-56f447b192ef",
   "metadata": {},
   "outputs": [],
   "source": []
  },
  {
   "cell_type": "code",
   "execution_count": 233,
   "id": "588c7d69-129c-49b8-855d-438a9c7b3826",
   "metadata": {},
   "outputs": [
    {
     "data": {
      "text/html": [
       "<table class=\"dataframe\">\n",
       "<caption>A matrix: 1600 × 4 of type dbl</caption>\n",
       "<tbody>\n",
       "\t<tr><td> 0.0166358649</td><td> 0.0305945358</td><td> 0.0071362345</td><td>-0.020102233</td></tr>\n",
       "\t<tr><td> 0.0197797935</td><td> 0.0495169773</td><td> 0.0142733762</td><td> 0.030221737</td></tr>\n",
       "\t<tr><td>-0.0009900185</td><td>-0.0184821535</td><td>-0.0109642932</td><td>-0.035741742</td></tr>\n",
       "\t<tr><td>-0.0097212221</td><td>-0.0391177610</td><td> 0.0108624136</td><td> 0.005870860</td></tr>\n",
       "\t<tr><td> 0.0171523047</td><td>-0.0176828732</td><td> 0.0202324873</td><td> 0.012864612</td></tr>\n",
       "\t<tr><td>-0.0443335988</td><td> 0.0178940346</td><td>-0.0020438624</td><td>-0.017860809</td></tr>\n",
       "\t<tr><td> 0.0177664702</td><td> 0.0218966406</td><td> 0.0021358807</td><td>-0.016304808</td></tr>\n",
       "\t<tr><td>-0.0052233019</td><td>-0.0169968661</td><td> 0.0092378900</td><td> 0.023614304</td></tr>\n",
       "\t<tr><td>-0.0054256208</td><td> 0.0008430135</td><td> 0.0173286343</td><td> 0.015898305</td></tr>\n",
       "\t<tr><td>-0.0215378519</td><td> 0.0532041184</td><td> 0.0038832249</td><td>-0.006837125</td></tr>\n",
       "\t<tr><td>-0.0011661802</td><td> 0.0041259063</td><td>-0.0110479672</td><td> 0.058452108</td></tr>\n",
       "\t<tr><td> 0.0478826459</td><td> 0.0544615489</td><td> 0.0540821636</td><td> 0.048032119</td></tr>\n",
       "\t<tr><td> 0.0111844487</td><td> 0.0436786726</td><td> 0.0004208664</td><td> 0.006437876</td></tr>\n",
       "\t<tr><td> 0.0149790790</td><td> 0.0389415640</td><td> 0.0080974422</td><td>-0.012273876</td></tr>\n",
       "\t<tr><td>-0.0172561371</td><td>-0.0039225968</td><td> 0.0147327497</td><td> 0.007606946</td></tr>\n",
       "\t<tr><td> 0.0225050791</td><td>-0.0224600897</td><td> 0.0125090623</td><td> 0.008395467</td></tr>\n",
       "\t<tr><td>-0.0207016383</td><td>-0.0444050290</td><td> 0.0014167020</td><td>-0.006151214</td></tr>\n",
       "\t<tr><td>-0.0066284745</td><td>-0.0211230646</td><td>-0.0122726305</td><td> 0.018277906</td></tr>\n",
       "\t<tr><td> 0.0302119322</td><td> 0.0351664459</td><td> 0.0304482132</td><td> 0.032840702</td></tr>\n",
       "\t<tr><td> 0.0093604478</td><td>-0.0154318393</td><td>-0.0036412471</td><td> 0.011791634</td></tr>\n",
       "\t<tr><td> 0.0215594461</td><td> 0.0004570565</td><td> 0.0060393812</td><td>-0.006739893</td></tr>\n",
       "\t<tr><td> 0.0387117516</td><td>-0.0247929259</td><td> 0.0225052282</td><td> 0.002034455</td></tr>\n",
       "\t<tr><td>-0.0145620596</td><td>-0.0336543965</td><td>-0.0384149732</td><td>-0.074854226</td></tr>\n",
       "\t<tr><td>-0.0376159171</td><td>-0.0092343017</td><td>-0.0198169764</td><td>-0.030768505</td></tr>\n",
       "\t<tr><td>-0.0387465828</td><td> 0.0281197730</td><td>-0.0233321275</td><td> 0.002172393</td></tr>\n",
       "\t<tr><td> 0.0475727987</td><td> 0.0398585376</td><td> 0.0017369363</td><td> 0.030081658</td></tr>\n",
       "\t<tr><td>-0.0104353110</td><td>-0.0235706723</td><td>-0.0052233527</td><td> 0.007053481</td></tr>\n",
       "\t<tr><td> 0.0175199336</td><td> 0.0455350675</td><td> 0.0095871387</td><td>-0.052262812</td></tr>\n",
       "\t<tr><td> 0.0173104949</td><td> 0.0367048591</td><td> 0.0118147126</td><td> 0.059608159</td></tr>\n",
       "\t<tr><td>-0.0023346697</td><td> 0.0207084934</td><td>-0.0195053219</td><td>-0.018030168</td></tr>\n",
       "\t<tr><td>⋮</td><td>⋮</td><td>⋮</td><td>⋮</td></tr>\n",
       "\t<tr><td> 0.0466503700</td><td>-0.051055219</td><td> 0.0117966503</td><td>-0.017072534</td></tr>\n",
       "\t<tr><td> 0.0022747401</td><td> 0.004135368</td><td>-0.0148129451</td><td> 0.037175722</td></tr>\n",
       "\t<tr><td> 0.0012467647</td><td>-0.020620735</td><td> 0.0012260940</td><td> 0.007619851</td></tr>\n",
       "\t<tr><td>-0.0034430268</td><td>-0.004073743</td><td> 0.0155333072</td><td>-0.030740213</td></tr>\n",
       "\t<tr><td>-0.0243335505</td><td>-0.014140721</td><td>-0.0333090882</td><td>-0.017163551</td></tr>\n",
       "\t<tr><td>-0.0413200667</td><td> 0.029233598</td><td>-0.0082547092</td><td> 0.001543549</td></tr>\n",
       "\t<tr><td>-0.0152671344</td><td>-0.001144413</td><td> 0.0009874775</td><td>-0.006611307</td></tr>\n",
       "\t<tr><td> 0.0480767651</td><td> 0.003505534</td><td> 0.0165822425</td><td>-0.008374920</td></tr>\n",
       "\t<tr><td>-0.0369439733</td><td>-0.040607560</td><td>-0.0029684495</td><td>-0.025022994</td></tr>\n",
       "\t<tr><td> 0.0172944657</td><td>-0.066088982</td><td>-0.0041158515</td><td>-0.007172612</td></tr>\n",
       "\t<tr><td>-0.0050981086</td><td> 0.041801012</td><td>-0.0012984657</td><td> 0.029198503</td></tr>\n",
       "\t<tr><td>-0.0320592841</td><td>-0.024937442</td><td>-0.0122803173</td><td> 0.006490935</td></tr>\n",
       "\t<tr><td> 0.0612800766</td><td> 0.032648972</td><td> 0.0363627534</td><td> 0.069034343</td></tr>\n",
       "\t<tr><td> 0.0330942537</td><td> 0.001958139</td><td> 0.0095214817</td><td> 0.048396528</td></tr>\n",
       "\t<tr><td> 0.0404690028</td><td> 0.003939215</td><td> 0.0451449024</td><td>-0.006597141</td></tr>\n",
       "\t<tr><td> 0.0165237418</td><td> 0.016694590</td><td>-0.0018875691</td><td> 0.043539645</td></tr>\n",
       "\t<tr><td>-0.0581115989</td><td> 0.003439288</td><td>-0.0133316421</td><td>-0.018521595</td></tr>\n",
       "\t<tr><td>-0.0001666183</td><td>-0.036150397</td><td>-0.0417562374</td><td>-0.031846937</td></tr>\n",
       "\t<tr><td> 0.0368001193</td><td> 0.067545152</td><td> 0.0200503143</td><td> 0.059278451</td></tr>\n",
       "\t<tr><td> 0.0018190263</td><td> 0.004697524</td><td>-0.0144125046</td><td> 0.013305651</td></tr>\n",
       "\t<tr><td>-0.0081216080</td><td>-0.046339305</td><td>-0.0210337177</td><td>-0.050907321</td></tr>\n",
       "\t<tr><td> 0.0127368107</td><td> 0.038735598</td><td> 0.0279900610</td><td> 0.055684386</td></tr>\n",
       "\t<tr><td> 0.0177632836</td><td>-0.012253039</td><td> 0.0032044429</td><td>-0.014256331</td></tr>\n",
       "\t<tr><td>-0.0385608834</td><td>-0.014462214</td><td> 0.0018125620</td><td> 0.001550591</td></tr>\n",
       "\t<tr><td> 0.0166946735</td><td> 0.032612989</td><td> 0.0021289781</td><td> 0.010605440</td></tr>\n",
       "\t<tr><td> 0.0092879476</td><td>-0.045536396</td><td> 0.0209518169</td><td>-0.022997206</td></tr>\n",
       "\t<tr><td>-0.0190342698</td><td> 0.031163939</td><td>-0.0066804762</td><td>-0.015771858</td></tr>\n",
       "\t<tr><td> 0.0106459858</td><td>-0.013557263</td><td> 0.0126123511</td><td> 0.046296015</td></tr>\n",
       "\t<tr><td>-0.0331669300</td><td>-0.010541065</td><td>-0.0063323747</td><td>-0.003267367</td></tr>\n",
       "\t<tr><td>-0.0201284669</td><td> 0.041203841</td><td> 0.0200295961</td><td>-0.003888278</td></tr>\n",
       "</tbody>\n",
       "</table>\n"
      ],
      "text/latex": [
       "A matrix: 1600 × 4 of type dbl\n",
       "\\begin{tabular}{llll}\n",
       "\t  0.0166358649 &  0.0305945358 &  0.0071362345 & -0.020102233\\\\\n",
       "\t  0.0197797935 &  0.0495169773 &  0.0142733762 &  0.030221737\\\\\n",
       "\t -0.0009900185 & -0.0184821535 & -0.0109642932 & -0.035741742\\\\\n",
       "\t -0.0097212221 & -0.0391177610 &  0.0108624136 &  0.005870860\\\\\n",
       "\t  0.0171523047 & -0.0176828732 &  0.0202324873 &  0.012864612\\\\\n",
       "\t -0.0443335988 &  0.0178940346 & -0.0020438624 & -0.017860809\\\\\n",
       "\t  0.0177664702 &  0.0218966406 &  0.0021358807 & -0.016304808\\\\\n",
       "\t -0.0052233019 & -0.0169968661 &  0.0092378900 &  0.023614304\\\\\n",
       "\t -0.0054256208 &  0.0008430135 &  0.0173286343 &  0.015898305\\\\\n",
       "\t -0.0215378519 &  0.0532041184 &  0.0038832249 & -0.006837125\\\\\n",
       "\t -0.0011661802 &  0.0041259063 & -0.0110479672 &  0.058452108\\\\\n",
       "\t  0.0478826459 &  0.0544615489 &  0.0540821636 &  0.048032119\\\\\n",
       "\t  0.0111844487 &  0.0436786726 &  0.0004208664 &  0.006437876\\\\\n",
       "\t  0.0149790790 &  0.0389415640 &  0.0080974422 & -0.012273876\\\\\n",
       "\t -0.0172561371 & -0.0039225968 &  0.0147327497 &  0.007606946\\\\\n",
       "\t  0.0225050791 & -0.0224600897 &  0.0125090623 &  0.008395467\\\\\n",
       "\t -0.0207016383 & -0.0444050290 &  0.0014167020 & -0.006151214\\\\\n",
       "\t -0.0066284745 & -0.0211230646 & -0.0122726305 &  0.018277906\\\\\n",
       "\t  0.0302119322 &  0.0351664459 &  0.0304482132 &  0.032840702\\\\\n",
       "\t  0.0093604478 & -0.0154318393 & -0.0036412471 &  0.011791634\\\\\n",
       "\t  0.0215594461 &  0.0004570565 &  0.0060393812 & -0.006739893\\\\\n",
       "\t  0.0387117516 & -0.0247929259 &  0.0225052282 &  0.002034455\\\\\n",
       "\t -0.0145620596 & -0.0336543965 & -0.0384149732 & -0.074854226\\\\\n",
       "\t -0.0376159171 & -0.0092343017 & -0.0198169764 & -0.030768505\\\\\n",
       "\t -0.0387465828 &  0.0281197730 & -0.0233321275 &  0.002172393\\\\\n",
       "\t  0.0475727987 &  0.0398585376 &  0.0017369363 &  0.030081658\\\\\n",
       "\t -0.0104353110 & -0.0235706723 & -0.0052233527 &  0.007053481\\\\\n",
       "\t  0.0175199336 &  0.0455350675 &  0.0095871387 & -0.052262812\\\\\n",
       "\t  0.0173104949 &  0.0367048591 &  0.0118147126 &  0.059608159\\\\\n",
       "\t -0.0023346697 &  0.0207084934 & -0.0195053219 & -0.018030168\\\\\n",
       "\t ⋮ & ⋮ & ⋮ & ⋮\\\\\n",
       "\t  0.0466503700 & -0.051055219 &  0.0117966503 & -0.017072534\\\\\n",
       "\t  0.0022747401 &  0.004135368 & -0.0148129451 &  0.037175722\\\\\n",
       "\t  0.0012467647 & -0.020620735 &  0.0012260940 &  0.007619851\\\\\n",
       "\t -0.0034430268 & -0.004073743 &  0.0155333072 & -0.030740213\\\\\n",
       "\t -0.0243335505 & -0.014140721 & -0.0333090882 & -0.017163551\\\\\n",
       "\t -0.0413200667 &  0.029233598 & -0.0082547092 &  0.001543549\\\\\n",
       "\t -0.0152671344 & -0.001144413 &  0.0009874775 & -0.006611307\\\\\n",
       "\t  0.0480767651 &  0.003505534 &  0.0165822425 & -0.008374920\\\\\n",
       "\t -0.0369439733 & -0.040607560 & -0.0029684495 & -0.025022994\\\\\n",
       "\t  0.0172944657 & -0.066088982 & -0.0041158515 & -0.007172612\\\\\n",
       "\t -0.0050981086 &  0.041801012 & -0.0012984657 &  0.029198503\\\\\n",
       "\t -0.0320592841 & -0.024937442 & -0.0122803173 &  0.006490935\\\\\n",
       "\t  0.0612800766 &  0.032648972 &  0.0363627534 &  0.069034343\\\\\n",
       "\t  0.0330942537 &  0.001958139 &  0.0095214817 &  0.048396528\\\\\n",
       "\t  0.0404690028 &  0.003939215 &  0.0451449024 & -0.006597141\\\\\n",
       "\t  0.0165237418 &  0.016694590 & -0.0018875691 &  0.043539645\\\\\n",
       "\t -0.0581115989 &  0.003439288 & -0.0133316421 & -0.018521595\\\\\n",
       "\t -0.0001666183 & -0.036150397 & -0.0417562374 & -0.031846937\\\\\n",
       "\t  0.0368001193 &  0.067545152 &  0.0200503143 &  0.059278451\\\\\n",
       "\t  0.0018190263 &  0.004697524 & -0.0144125046 &  0.013305651\\\\\n",
       "\t -0.0081216080 & -0.046339305 & -0.0210337177 & -0.050907321\\\\\n",
       "\t  0.0127368107 &  0.038735598 &  0.0279900610 &  0.055684386\\\\\n",
       "\t  0.0177632836 & -0.012253039 &  0.0032044429 & -0.014256331\\\\\n",
       "\t -0.0385608834 & -0.014462214 &  0.0018125620 &  0.001550591\\\\\n",
       "\t  0.0166946735 &  0.032612989 &  0.0021289781 &  0.010605440\\\\\n",
       "\t  0.0092879476 & -0.045536396 &  0.0209518169 & -0.022997206\\\\\n",
       "\t -0.0190342698 &  0.031163939 & -0.0066804762 & -0.015771858\\\\\n",
       "\t  0.0106459858 & -0.013557263 &  0.0126123511 &  0.046296015\\\\\n",
       "\t -0.0331669300 & -0.010541065 & -0.0063323747 & -0.003267367\\\\\n",
       "\t -0.0201284669 &  0.041203841 &  0.0200295961 & -0.003888278\\\\\n",
       "\\end{tabular}\n"
      ],
      "text/markdown": [
       "\n",
       "A matrix: 1600 × 4 of type dbl\n",
       "\n",
       "|  0.0166358649 |  0.0305945358 |  0.0071362345 | -0.020102233 |\n",
       "|  0.0197797935 |  0.0495169773 |  0.0142733762 |  0.030221737 |\n",
       "| -0.0009900185 | -0.0184821535 | -0.0109642932 | -0.035741742 |\n",
       "| -0.0097212221 | -0.0391177610 |  0.0108624136 |  0.005870860 |\n",
       "|  0.0171523047 | -0.0176828732 |  0.0202324873 |  0.012864612 |\n",
       "| -0.0443335988 |  0.0178940346 | -0.0020438624 | -0.017860809 |\n",
       "|  0.0177664702 |  0.0218966406 |  0.0021358807 | -0.016304808 |\n",
       "| -0.0052233019 | -0.0169968661 |  0.0092378900 |  0.023614304 |\n",
       "| -0.0054256208 |  0.0008430135 |  0.0173286343 |  0.015898305 |\n",
       "| -0.0215378519 |  0.0532041184 |  0.0038832249 | -0.006837125 |\n",
       "| -0.0011661802 |  0.0041259063 | -0.0110479672 |  0.058452108 |\n",
       "|  0.0478826459 |  0.0544615489 |  0.0540821636 |  0.048032119 |\n",
       "|  0.0111844487 |  0.0436786726 |  0.0004208664 |  0.006437876 |\n",
       "|  0.0149790790 |  0.0389415640 |  0.0080974422 | -0.012273876 |\n",
       "| -0.0172561371 | -0.0039225968 |  0.0147327497 |  0.007606946 |\n",
       "|  0.0225050791 | -0.0224600897 |  0.0125090623 |  0.008395467 |\n",
       "| -0.0207016383 | -0.0444050290 |  0.0014167020 | -0.006151214 |\n",
       "| -0.0066284745 | -0.0211230646 | -0.0122726305 |  0.018277906 |\n",
       "|  0.0302119322 |  0.0351664459 |  0.0304482132 |  0.032840702 |\n",
       "|  0.0093604478 | -0.0154318393 | -0.0036412471 |  0.011791634 |\n",
       "|  0.0215594461 |  0.0004570565 |  0.0060393812 | -0.006739893 |\n",
       "|  0.0387117516 | -0.0247929259 |  0.0225052282 |  0.002034455 |\n",
       "| -0.0145620596 | -0.0336543965 | -0.0384149732 | -0.074854226 |\n",
       "| -0.0376159171 | -0.0092343017 | -0.0198169764 | -0.030768505 |\n",
       "| -0.0387465828 |  0.0281197730 | -0.0233321275 |  0.002172393 |\n",
       "|  0.0475727987 |  0.0398585376 |  0.0017369363 |  0.030081658 |\n",
       "| -0.0104353110 | -0.0235706723 | -0.0052233527 |  0.007053481 |\n",
       "|  0.0175199336 |  0.0455350675 |  0.0095871387 | -0.052262812 |\n",
       "|  0.0173104949 |  0.0367048591 |  0.0118147126 |  0.059608159 |\n",
       "| -0.0023346697 |  0.0207084934 | -0.0195053219 | -0.018030168 |\n",
       "| ⋮ | ⋮ | ⋮ | ⋮ |\n",
       "|  0.0466503700 | -0.051055219 |  0.0117966503 | -0.017072534 |\n",
       "|  0.0022747401 |  0.004135368 | -0.0148129451 |  0.037175722 |\n",
       "|  0.0012467647 | -0.020620735 |  0.0012260940 |  0.007619851 |\n",
       "| -0.0034430268 | -0.004073743 |  0.0155333072 | -0.030740213 |\n",
       "| -0.0243335505 | -0.014140721 | -0.0333090882 | -0.017163551 |\n",
       "| -0.0413200667 |  0.029233598 | -0.0082547092 |  0.001543549 |\n",
       "| -0.0152671344 | -0.001144413 |  0.0009874775 | -0.006611307 |\n",
       "|  0.0480767651 |  0.003505534 |  0.0165822425 | -0.008374920 |\n",
       "| -0.0369439733 | -0.040607560 | -0.0029684495 | -0.025022994 |\n",
       "|  0.0172944657 | -0.066088982 | -0.0041158515 | -0.007172612 |\n",
       "| -0.0050981086 |  0.041801012 | -0.0012984657 |  0.029198503 |\n",
       "| -0.0320592841 | -0.024937442 | -0.0122803173 |  0.006490935 |\n",
       "|  0.0612800766 |  0.032648972 |  0.0363627534 |  0.069034343 |\n",
       "|  0.0330942537 |  0.001958139 |  0.0095214817 |  0.048396528 |\n",
       "|  0.0404690028 |  0.003939215 |  0.0451449024 | -0.006597141 |\n",
       "|  0.0165237418 |  0.016694590 | -0.0018875691 |  0.043539645 |\n",
       "| -0.0581115989 |  0.003439288 | -0.0133316421 | -0.018521595 |\n",
       "| -0.0001666183 | -0.036150397 | -0.0417562374 | -0.031846937 |\n",
       "|  0.0368001193 |  0.067545152 |  0.0200503143 |  0.059278451 |\n",
       "|  0.0018190263 |  0.004697524 | -0.0144125046 |  0.013305651 |\n",
       "| -0.0081216080 | -0.046339305 | -0.0210337177 | -0.050907321 |\n",
       "|  0.0127368107 |  0.038735598 |  0.0279900610 |  0.055684386 |\n",
       "|  0.0177632836 | -0.012253039 |  0.0032044429 | -0.014256331 |\n",
       "| -0.0385608834 | -0.014462214 |  0.0018125620 |  0.001550591 |\n",
       "|  0.0166946735 |  0.032612989 |  0.0021289781 |  0.010605440 |\n",
       "|  0.0092879476 | -0.045536396 |  0.0209518169 | -0.022997206 |\n",
       "| -0.0190342698 |  0.031163939 | -0.0066804762 | -0.015771858 |\n",
       "|  0.0106459858 | -0.013557263 |  0.0126123511 |  0.046296015 |\n",
       "| -0.0331669300 | -0.010541065 | -0.0063323747 | -0.003267367 |\n",
       "| -0.0201284669 |  0.041203841 |  0.0200295961 | -0.003888278 |\n",
       "\n"
      ],
      "text/plain": [
       "      [,1]          [,2]          [,3]          [,4]        \n",
       " [1,]  0.0166358649  0.0305945358  0.0071362345 -0.020102233\n",
       " [2,]  0.0197797935  0.0495169773  0.0142733762  0.030221737\n",
       " [3,] -0.0009900185 -0.0184821535 -0.0109642932 -0.035741742\n",
       " [4,] -0.0097212221 -0.0391177610  0.0108624136  0.005870860\n",
       " [5,]  0.0171523047 -0.0176828732  0.0202324873  0.012864612\n",
       " [6,] -0.0443335988  0.0178940346 -0.0020438624 -0.017860809\n",
       " [7,]  0.0177664702  0.0218966406  0.0021358807 -0.016304808\n",
       " [8,] -0.0052233019 -0.0169968661  0.0092378900  0.023614304\n",
       " [9,] -0.0054256208  0.0008430135  0.0173286343  0.015898305\n",
       "[10,] -0.0215378519  0.0532041184  0.0038832249 -0.006837125\n",
       "[11,] -0.0011661802  0.0041259063 -0.0110479672  0.058452108\n",
       "[12,]  0.0478826459  0.0544615489  0.0540821636  0.048032119\n",
       "[13,]  0.0111844487  0.0436786726  0.0004208664  0.006437876\n",
       "[14,]  0.0149790790  0.0389415640  0.0080974422 -0.012273876\n",
       "[15,] -0.0172561371 -0.0039225968  0.0147327497  0.007606946\n",
       "[16,]  0.0225050791 -0.0224600897  0.0125090623  0.008395467\n",
       "[17,] -0.0207016383 -0.0444050290  0.0014167020 -0.006151214\n",
       "[18,] -0.0066284745 -0.0211230646 -0.0122726305  0.018277906\n",
       "[19,]  0.0302119322  0.0351664459  0.0304482132  0.032840702\n",
       "[20,]  0.0093604478 -0.0154318393 -0.0036412471  0.011791634\n",
       "[21,]  0.0215594461  0.0004570565  0.0060393812 -0.006739893\n",
       "[22,]  0.0387117516 -0.0247929259  0.0225052282  0.002034455\n",
       "[23,] -0.0145620596 -0.0336543965 -0.0384149732 -0.074854226\n",
       "[24,] -0.0376159171 -0.0092343017 -0.0198169764 -0.030768505\n",
       "[25,] -0.0387465828  0.0281197730 -0.0233321275  0.002172393\n",
       "[26,]  0.0475727987  0.0398585376  0.0017369363  0.030081658\n",
       "[27,] -0.0104353110 -0.0235706723 -0.0052233527  0.007053481\n",
       "[28,]  0.0175199336  0.0455350675  0.0095871387 -0.052262812\n",
       "[29,]  0.0173104949  0.0367048591  0.0118147126  0.059608159\n",
       "[30,] -0.0023346697  0.0207084934 -0.0195053219 -0.018030168\n",
       "[31,] ⋮             ⋮             ⋮             ⋮           \n",
       "[32,]  0.0466503700 -0.051055219   0.0117966503 -0.017072534\n",
       "[33,]  0.0022747401  0.004135368  -0.0148129451  0.037175722\n",
       "[34,]  0.0012467647 -0.020620735   0.0012260940  0.007619851\n",
       "[35,] -0.0034430268 -0.004073743   0.0155333072 -0.030740213\n",
       "[36,] -0.0243335505 -0.014140721  -0.0333090882 -0.017163551\n",
       "[37,] -0.0413200667  0.029233598  -0.0082547092  0.001543549\n",
       "[38,] -0.0152671344 -0.001144413   0.0009874775 -0.006611307\n",
       "[39,]  0.0480767651  0.003505534   0.0165822425 -0.008374920\n",
       "[40,] -0.0369439733 -0.040607560  -0.0029684495 -0.025022994\n",
       "[41,]  0.0172944657 -0.066088982  -0.0041158515 -0.007172612\n",
       "[42,] -0.0050981086  0.041801012  -0.0012984657  0.029198503\n",
       "[43,] -0.0320592841 -0.024937442  -0.0122803173  0.006490935\n",
       "[44,]  0.0612800766  0.032648972   0.0363627534  0.069034343\n",
       "[45,]  0.0330942537  0.001958139   0.0095214817  0.048396528\n",
       "[46,]  0.0404690028  0.003939215   0.0451449024 -0.006597141\n",
       "[47,]  0.0165237418  0.016694590  -0.0018875691  0.043539645\n",
       "[48,] -0.0581115989  0.003439288  -0.0133316421 -0.018521595\n",
       "[49,] -0.0001666183 -0.036150397  -0.0417562374 -0.031846937\n",
       "[50,]  0.0368001193  0.067545152   0.0200503143  0.059278451\n",
       "[51,]  0.0018190263  0.004697524  -0.0144125046  0.013305651\n",
       "[52,] -0.0081216080 -0.046339305  -0.0210337177 -0.050907321\n",
       "[53,]  0.0127368107  0.038735598   0.0279900610  0.055684386\n",
       "[54,]  0.0177632836 -0.012253039   0.0032044429 -0.014256331\n",
       "[55,] -0.0385608834 -0.014462214   0.0018125620  0.001550591\n",
       "[56,]  0.0166946735  0.032612989   0.0021289781  0.010605440\n",
       "[57,]  0.0092879476 -0.045536396   0.0209518169 -0.022997206\n",
       "[58,] -0.0190342698  0.031163939  -0.0066804762 -0.015771858\n",
       "[59,]  0.0106459858 -0.013557263   0.0126123511  0.046296015\n",
       "[60,] -0.0331669300 -0.010541065  -0.0063323747 -0.003267367\n",
       "[61,] -0.0201284669  0.041203841   0.0200295961 -0.003888278"
      ]
     },
     "metadata": {},
     "output_type": "display_data"
    }
   ],
   "source": [
    "matrix_muestras"
   ]
  },
  {
   "cell_type": "code",
   "execution_count": 235,
   "id": "16c176e6-201d-4f3e-b05d-da72170efcb7",
   "metadata": {},
   "outputs": [
    {
     "data": {
      "image/png": "[encoded data removed]",
      "text/plain": [
       "plot without title"
      ]
     },
     "metadata": {
      "image/png": {
       "height": 420,
       "width": 420
      }
     },
     "output_type": "display_data"
    }
   ],
   "source": [
    "plot_port_sampleA = ggplot(data.frame(matrix_muestras[,2]),aes(matrix_muestras[,2]))+geom_function(fun=ecdf(matrix_muestras[,2]))+\n",
    "         xlim(-0.1,0.1)+\n",
    "         labs(x=\"precio\",y=\"F_N(x)\",\n",
    "              title=paste0(\"Distr. empírica de lassimulaciones del precio final\")) \n",
    "plot_port_sampleA"
   ]
  }
 ],
 "metadata": {
  "kernelspec": {
   "display_name": "R",
   "language": "R",
   "name": "ir"
  },
  "language_info": {
   "codemirror_mode": "r",
   "file_extension": ".r",
   "mimetype": "text/x-r-source",
   "name": "R",
   "pygments_lexer": "r",
   "version": "4.1.3"
  },
  "toc": {
   "base_numbering": 1,
   "nav_menu": {},
   "number_sections": true,
   "sideBar": true,
   "skip_h1_title": false,
   "title_cell": "Table of Contents",
   "title_sidebar": "Contents",
   "toc_cell": false,
   "toc_position": {},
   "toc_section_display": true,
   "toc_window_display": false
  },
  "varInspector": {
   "cols": {
    "lenName": 16,
    "lenType": 16,
    "lenVar": 40
   },
   "kernels_config": {
    "python": {
     "delete_cmd_postfix": "",
     "delete_cmd_prefix": "del ",
     "library": "var_list.py",
     "varRefreshCmd": "print(var_dic_list())"
    },
    "r": {
     "delete_cmd_postfix": ") ",
     "delete_cmd_prefix": "rm(",
     "library": "var_list.r",
     "varRefreshCmd": "cat(var_dic_list()) "
    }
   },
   "position": {
    "height": "144px",
    "left": "1264px",
    "right": "20px",
    "top": "121px",
    "width": "350px"
   },
   "types_to_exclude": [
    "module",
    "function",
    "builtin_function_or_method",
    "instance",
    "_Feature"
   ],
   "window_display": false
  }
 },
 "nbformat": 4,
 "nbformat_minor": 5
}
